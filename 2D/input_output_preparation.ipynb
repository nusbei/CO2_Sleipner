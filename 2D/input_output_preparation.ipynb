{
 "cells": [
  {
   "cell_type": "code",
   "execution_count": 1,
   "metadata": {},
   "outputs": [],
   "source": [
    "%load_ext autoreload\n",
    "%autoreload 2\n",
    "from labeling import dataload,ind2sub\n",
    "from itertools import product\n",
    "from collections import OrderedDict\n",
    "from scipy.ndimage import gaussian_filter\n",
    "from sklearn.neighbors import NearestNeighbors\n",
    "\n",
    "import pandas as pd\n",
    "import numpy as np\n",
    "import json\n",
    "import torch\n",
    "import matplotlib.pyplot as plt"
   ]
  },
  {
   "cell_type": "code",
   "execution_count": 23,
   "metadata": {},
   "outputs": [],
   "source": [
    "fn = '../define_path.txt'\n",
    "with open(fn) as f:\n",
    "    lines = f.readlines()\n",
    "for idx, line in enumerate(lines):\n",
    "    if idx == 1:\n",
    "        dir_co2 = line.split('=')[1][:-1]\n",
    "    if idx == 13:\n",
    "        outpath = line.split('=')[1][:-1]"
   ]
  },
  {
   "cell_type": "markdown",
   "metadata": {},
   "source": [
    "# Training dataset"
   ]
  },
  {
   "cell_type": "markdown",
   "metadata": {},
   "source": [
    "##  Basic pathes for baseline data and time-lapse data"
   ]
  },
  {
   "cell_type": "code",
   "execution_count": 7,
   "metadata": {},
   "outputs": [],
   "source": [
    "# file pathes\n",
    "blfn = f'{dir_co2}/94p10/2010 processing/data/94p10nea.sgy' # baseline data processed in 2010\n",
    "blfn2 = f'{dir_co2}/94p01/2001 processing/data/94p01nea.sgy' # baseline data processed in 2001\n",
    "tlfn = f'{dir_co2}/10p10/2010 processing/data/10p10nea.sgy' # timelapse (2010) data processed in 2010\n",
    "tlfn2 = f'{dir_co2}/10p11/2011 processing/data/10p11nea' # timelapse (2011) data processed in 2011\n",
    "mkfn = f'../resources/label/masks.dat' # CO2 masks interpreted from 1994 and 2010 data processed in 2010"
   ]
  },
  {
   "cell_type": "markdown",
   "metadata": {},
   "source": [
    "## Load data"
   ]
  },
  {
   "cell_type": "code",
   "execution_count": 8,
   "metadata": {},
   "outputs": [
    {
     "name": "stdout",
     "output_type": "stream",
     "text": [
      "Total trace number: 150909\n",
      "Sample number along each trace: 1001\n",
      "Sampling interval along each trace: 0.002 s\n",
      "data arrangement: 269 (number of ensembles) x 561 (trace number per ensemble) x 1001 (sample number per trace)\n",
      "Total trace number: 166747\n",
      "Sample number along each trace: 1001\n",
      "Sampling interval along each trace: 0.002 s\n",
      "data arrangement: 287 (number of ensembles) x 581 (trace number per ensemble) x 1001 (sample number per trace)\n",
      "Total trace number: 150909\n",
      "Sample number along each trace: 1001\n",
      "Sampling interval along each trace: 0.002 s\n",
      "data arrangement: 269 (number of ensembles) x 561 (trace number per ensemble) x 1001 (sample number per trace)\n",
      "Total trace number: 242136\n",
      "Sample number along each trace: 1001\n",
      "Sampling interval along each trace: 0.002 s\n",
      "data arrangement: 216 (number of ensembles) x 1121 (trace number per ensemble) x 1001 (sample number per trace)\n"
     ]
    }
   ],
   "source": [
    "# load the data head\n",
    "D0 = dataload(fn=blfn)\n",
    "D0n = dataload(fn=blfn2)\n",
    "Dt = dataload(fn=tlfn)\n",
    "Dtn = dataload(fn=tlfn2)"
   ]
  },
  {
   "cell_type": "code",
   "execution_count": 9,
   "metadata": {},
   "outputs": [],
   "source": [
    "# mask dimension\n",
    "DD = (Dt.nx,Dt.ny,Dt.nt)"
   ]
  },
  {
   "cell_type": "code",
   "execution_count": 10,
   "metadata": {},
   "outputs": [],
   "source": [
    "# get the entire 3D data from the three data volume\n",
    "d0,xd0,yd0,td0 = D0.getdata()\n",
    "d0n,xdn,ydn,_ = D0n.getdata()\n",
    "dt,xd,yd,td = Dt.getdata()\n",
    "dtn,xdt,ydt,tdt = Dtn.getdata()"
   ]
  },
  {
   "cell_type": "markdown",
   "metadata": {},
   "source": [
    "## Preprocess d0n and dtn to make them in the same dimension as d0 and dt"
   ]
  },
  {
   "cell_type": "code",
   "execution_count": 11,
   "metadata": {},
   "outputs": [],
   "source": [
    "# interpolate d0n to the same dimension as dt(d0)\n",
    "X = np.stack((xd.flatten(),yd.flatten()),axis=1)\n",
    "Xn = np.stack((xdn.flatten(),ydn.flatten()),axis=1)\n",
    "nbrs = NearestNeighbors(n_neighbors=1, algorithm='ball_tree').fit(Xn)\n",
    "distances, ind = nbrs.kneighbors(X)\n",
    "sub = ind2sub(xdn.shape,ind)\n",
    "d0i = d0n[sub[0],sub[1],:]\n",
    "d0i = np.reshape(d0i,d0.shape)"
   ]
  },
  {
   "cell_type": "code",
   "execution_count": 12,
   "metadata": {},
   "outputs": [],
   "source": [
    "# interpolate dtn the same dimension as dt(d0)\n",
    "# downsample along xline direction\n",
    "dtn1 = np.pad(dtn[:,1:-3:2,:],((0,0),(2,0),(0,0)),'edge')\n",
    "# calculate the coefficient for linear interpolation\n",
    "xdh,xdth = xd[:,0],xdt[:,0]\n",
    "X = np.stack((xdh,np.zeros(Dt.nx)),axis=1)\n",
    "Xt = np.stack((xdth,np.zeros(Dtn.nx)),axis=1)\n",
    "nbrs = NearestNeighbors(n_neighbors=2, algorithm='ball_tree').fit(Xt)\n",
    "distances, ind = nbrs.kneighbors(X)\n",
    "coe = np.flip(distances,axis=1)/np.expand_dims(np.sum(distances,axis=1),1)\n",
    "# linear interpolate along inline direction\n",
    "dti = np.zeros(DD,dtype=np.float32)\n",
    "for i in range(Dt.nx):\n",
    "    dti[i,:,:] = dtn1[ind[i,0],:,:]*coe[i,0]+dtn1[ind[i,1],:,:]*coe[i,1]"
   ]
  },
  {
   "cell_type": "code",
   "execution_count": 13,
   "metadata": {},
   "outputs": [],
   "source": [
    "eps = 1e-5\n",
    "# normalize d0,dt,d0i,dti\n",
    "d0 = (d0-np.mean(d0))/(np.std(d0)+eps)\n",
    "d0i = (d0i-np.mean(d0i))/(np.std(d0i)+eps)\n",
    "dt = (dt-np.mean(dt))/(np.std(dt)+eps)\n",
    "dti = (dti-np.mean(dti))/(np.std(dti)+eps)"
   ]
  },
  {
   "cell_type": "markdown",
   "metadata": {},
   "source": [
    "## Generate 2D patches"
   ]
  },
  {
   "cell_type": "markdown",
   "metadata": {},
   "source": [
    "### load the reference CO2 masks"
   ]
  },
  {
   "cell_type": "code",
   "execution_count": 14,
   "metadata": {},
   "outputs": [],
   "source": [
    "# readin CO2 mask\n",
    "masks = np.fromfile(f'{mkfn}',dtype=np.float32)\n",
    "masks = np.reshape(masks,DD)"
   ]
  },
  {
   "cell_type": "markdown",
   "metadata": {},
   "source": [
    "### define sliced labels (same as the sparse 3D labels)"
   ]
  },
  {
   "cell_type": "code",
   "execution_count": 15,
   "metadata": {},
   "outputs": [],
   "source": [
    "# 2D vs 3D test: define x and y slices as interpreted in the 3D masks\n",
    "inline_itp = np.array([60,80,100,120,130,140,150,160,180,200])\n",
    "xline_itp = np.array([100,150,180,210,240,270,300,330,360,390,420,450,500])\n",
    "Nitp = len(inline_itp) # number of inline slices\n",
    "Nxtp = len(xline_itp) # number of xline slices"
   ]
  },
  {
   "cell_type": "code",
   "execution_count": 16,
   "metadata": {},
   "outputs": [],
   "source": [
    "# define the patch size\n",
    "Nh,Nt = 128,256\n",
    "# define the sampled number along x, y and t\n",
    "Nsi,Nsx,Nst = 4,8,10\n",
    "# define resized dimension of the 3D patch\n",
    "rs = (64,64)\n",
    "# sample strategy indicator\n",
    "stg = 0 # 0-random; 1-regular\n",
    "# normalize patch\n",
    "eps = 1e-5 # dividing std stablizer"
   ]
  },
  {
   "cell_type": "code",
   "execution_count": 17,
   "metadata": {},
   "outputs": [],
   "source": [
    "# whether to use different baseline data\n",
    "diffbl = True\n",
    "# whether to use different time-lapse data\n",
    "difftl = True"
   ]
  },
  {
   "cell_type": "code",
   "execution_count": 18,
   "metadata": {},
   "outputs": [],
   "source": [
    "# adjust inline_itp and xline_itp according to the patch size\n",
    "hNh = Nh//2\n",
    "hNt = Nt//2\n",
    "Ir = [hNh,D0.nx-hNh]\n",
    "Xr = [hNh,D0.ny-hNh]\n",
    "Tr = [hNt,D0.nt-hNt]"
   ]
  },
  {
   "cell_type": "code",
   "execution_count": 19,
   "metadata": {},
   "outputs": [
    {
     "name": "stdout",
     "output_type": "stream",
     "text": [
      "Theoritical maximum total patch number: 5280\n"
     ]
    }
   ],
   "source": [
    "# define the patch No.\n",
    "if diffbl:\n",
    "    NRb = 2\n",
    "else:\n",
    "    NRb = 1\n",
    "if difftl:\n",
    "    NRa = 2\n",
    "else:\n",
    "    NRa = 1\n",
    "print(f'Theoritical maximum total patch number: {NRb*NRa*Nst*(Nsi*Nxtp+Nsx*Nitp)}')"
   ]
  },
  {
   "cell_type": "code",
   "execution_count": 20,
   "metadata": {},
   "outputs": [],
   "source": [
    "# number of patches with no co2 marks\n",
    "max_0co2 = 100"
   ]
  },
  {
   "cell_type": "code",
   "execution_count": 25,
   "metadata": {},
   "outputs": [
    {
     "name": "stdout",
     "output_type": "stream",
     "text": [
      "{'data_dim': [269, 561, 1001], 'baseline_datapath': ['/data/libei/co2_data/94p10/2010 processing/data/94p10nea.sgy', '/data/libei/co2_data/94p01/2001 processing/data/94p01nea.sgy'], 'timelapse_datapath': ['/data/libei/co2_data/10p10/2010 processing/data/10p10nea.sgy', '/data/libei/co2_data/10p11/2011 processing/data/10p11nea'], 'patch_osize': [128, 256], 'patch_nsize': [64, 64], 'patch_number': [4, 8, 10], 'sample_strategy': 0, 'max_0co2': 100, 'inline_itp': [60, 80, 100, 120, 130, 140, 150, 160, 180, 200], 'xline_itp': [100, 150, 180, 210, 240, 270, 300, 330, 360, 390, 420, 450, 500]}\n"
     ]
    }
   ],
   "source": [
    "# generate parameter csv\n",
    "pm_info = OrderedDict()\n",
    "pm_info['data_dim'] = [D0.nx,D0.ny,D0.nt] # [ensemble number,trace number per ensemble,sample number per trace]\n",
    "if diffbl:\n",
    "    pm_info['baseline_datapath'] = [blfn,blfn2]\n",
    "else:\n",
    "    pm_info['baseline_datapath'] = [blfn]\n",
    "if difftl:\n",
    "    pm_info['timelapse_datapath'] = [tlfn,tlfn2]\n",
    "else:\n",
    "    pm_info['timelapse_datapath'] = [tlfn]\n",
    "pm_info['patch_osize'] = [Nh,Nt]\n",
    "pm_info['patch_nsize'] = rs\n",
    "pm_info['patch_number'] = [Nsi,Nsx,Nst]\n",
    "pm_info['sample_strategy'] = stg\n",
    "pm_info['max_0co2'] = max_0co2\n",
    "pm_info['inline_itp'] = inline_itp.tolist()\n",
    "pm_info['xline_itp'] = xline_itp.tolist()\n",
    "with open(f'{outpath}/pm_info.json','w') as f:\n",
    "    f.write(json.dumps(pm_info))\n",
    "with open(f'{outpath}/pm_info.json','r') as read_file:\n",
    "    loaded_pm = json.loads(read_file.read())\n",
    "    print(loaded_pm)"
   ]
  },
  {
   "cell_type": "code",
   "execution_count": 26,
   "metadata": {},
   "outputs": [],
   "source": [
    "# sampling center range along x, y, and t directions\n",
    "Is = np.array(np.linspace(Ir[0],Ir[1],Nsi),dtype=np.int16)\n",
    "Xs = np.array(np.linspace(Xr[0],Xr[1],Nsx),dtype=np.int16)\n",
    "Ts = np.array(np.linspace(Tr[0],Tr[1],Nst),dtype=np.int16)\n",
    "# generate random/or regular samples along t and r\n",
    "if stg == 1:\n",
    "    Isample = np.zeros(0,dtype=np.int16)\n",
    "    Xsample = np.zeros(0,dtype=np.int16)\n",
    "    Tsample = np.zeros(0,dtype=np.int16)\n",
    "    for i in range(Nitp):\n",
    "        Isi = np.zeros(Nsx*Nst,dtype=np.int16)+inline_itp[i]\n",
    "        Isample = np.concatenate((Isample,Isi),axis=0)\n",
    "        Xsi,Tsi = np.meshgrid(Xs,Ts,indexing='ij')\n",
    "        Xsample = np.concatenate((Xsample,Xsi.flatten()),axis=0)\n",
    "        Tsample = np.concatenate((Tsample,Tsi.flatten()),axis=0)\n",
    "    for j in range(Nxtp):\n",
    "        Xsi = np.zeros(Nsi*Nst,dtype=np.int16)+xline_itp[j]\n",
    "        Xsample = np.concatenate((Isample,Isi),axis=0)\n",
    "        Isi,Tsi = np.meshgrid(Is,Ts,indexing='ij')\n",
    "        Isample = np.concatenate((Isample,Isi.flatten()),axis=0)\n",
    "        Tsample = np.concatenate((Tsample,Tsi.flatten()),axis=0)\n",
    "else:\n",
    "    Is0 = np.tile(inline_itp,(Nsx*Nst,1)).T.flatten()\n",
    "    Is1 = np.random.randint(Ir[0],Ir[1],size=(Nxtp*Nsi*Nst))\n",
    "    Isample = np.concatenate((Is0,Is1),axis=0)\n",
    "    Xs0 = np.tile(xline_itp,(Nsi*Nst,1)).T.flatten()\n",
    "    Xs1 = np.random.randint(Xr[0],Xr[1],size=(Nitp*Nsx*Nst))\n",
    "    Xsample = np.concatenate((Xs1,Xs0),axis=0)\n",
    "    Tsample = np.random.randint(Tr[0],Tr[1],size=(Nxtp*Nsi+Nitp*Nsx)*Nst)"
   ]
  },
  {
   "cell_type": "code",
   "execution_count": 27,
   "metadata": {},
   "outputs": [
    {
     "name": "stdout",
     "output_type": "stream",
     "text": [
      "Using matplotlib backend: Qt5Agg\n"
     ]
    },
    {
     "data": {
      "text/plain": [
       "<mpl_toolkits.mplot3d.art3d.Path3DCollection at 0x7f8b4813c410>"
      ]
     },
     "execution_count": 27,
     "metadata": {},
     "output_type": "execute_result"
    }
   ],
   "source": [
    "%matplotlib\n",
    "# show the sample positions in 3D view\n",
    "fig = plt.figure()\n",
    "ax = fig.add_subplot(111, projection='3d')\n",
    "ax.scatter(Isample, Xsample, Tsample, marker='o')"
   ]
  },
  {
   "cell_type": "code",
   "execution_count": 28,
   "metadata": {},
   "outputs": [],
   "source": [
    "# sample the patches iteratively\n",
    "hNh1 = Nh-hNh\n",
    "hNt1 = Nt-hNt\n",
    "ixswitch = Nsx*Nst*Nitp\n",
    "patch_info = []\n",
    "idx_0co2 = []\n",
    "c = 0\n",
    "cm = 0\n",
    "for i in range(len(Isample)):\n",
    "    Is = Isample[i]\n",
    "    Xs = Xsample[i]\n",
    "    Ts = Tsample[i]\n",
    "    # slice the data and mask correspondingly\n",
    "    if i<ixswitch:\n",
    "        R0 = d0[Is,Xs-hNh:Xs+hNh1:2,Ts-hNt:Ts+hNt1:4]\n",
    "        R0i = d0i[Is,Xs-hNh:Xs+hNh1:2,Ts-hNt:Ts+hNt1:4]\n",
    "        Rt = dt[Is,Xs-hNh:Xs+hNh1:2,Ts-hNt:Ts+hNt1:4]\n",
    "        Rti = dti[Is,Xs-hNh:Xs+hNh1:2,Ts-hNt:Ts+hNt1:4]\n",
    "        M = masks[Is,Xs-hNh:Xs+hNh1:2,Ts-hNt:Ts+hNt1:4]     \n",
    "    else:\n",
    "        R0 = d0[Is-hNh:Is+hNh1:2,Xs,Ts-hNt:Ts+hNt1:4]\n",
    "        R0i = d0i[Is-hNh:Is+hNh1:2,Xs,Ts-hNt:Ts+hNt1:4]\n",
    "        Rt = dt[Is-hNh:Is+hNh1:2,Xs,Ts-hNt:Ts+hNt1:4]\n",
    "        Rti = dti[Is-hNh:Is+hNh1:2,Xs,Ts-hNt:Ts+hNt1:4]\n",
    "        M = masks[Is-hNh:Is+hNh1:2,Xs,Ts-hNt:Ts+hNt1:4]\n",
    "    \n",
    "    # pairing R0 and Rt\n",
    "    Rb = [R0,R0i]\n",
    "    Ra = [Rt,Rti]\n",
    "    for tyb,tya in product(range(NRb),range(NRa)):\n",
    "        Rb0 = Rb[tyb]\n",
    "        Ra0 = Ra[tya]\n",
    "        # normalize R0 and Rt respectively\n",
    "        Rm0,Rs0 = np.mean(Rb0),np.std(Rb0)\n",
    "        Rmt,Rst = np.mean(Ra0),np.std(Ra0)\n",
    "        Rb0 = (Rb0-Rm0)/(Rs0+eps)\n",
    "        Ra0 = (Ra0-Rmt)/(Rst+eps)\n",
    "        # stack R0 and Rt\n",
    "        R0t = np.stack((Rb0,Ra0))\n",
    "        # save the patches and corresponding masks to outpath\n",
    "        R0t.tofile(f'{outpath}/R0t_{c}.dat')\n",
    "        # record the patch information in patch_info dict\n",
    "        pf = OrderedDict()\n",
    "        pf['Ptch_id'] = c\n",
    "        pf['Mask_id'] = cm\n",
    "        pf['ct'] = [Is,Xs,Ts]\n",
    "        pf['mean'] = [Rm0,Rmt]\n",
    "        pf['std'] = [Rs0,Rst]\n",
    "        patch_info.append(pf)\n",
    "        if np.sum(M) == 0:\n",
    "            idx_0co2.append(c)\n",
    "        c += 1\n",
    "    M.tofile(f'{outpath}/Mask_{cm}.dat')\n",
    "    cm += 1"
   ]
  },
  {
   "cell_type": "code",
   "execution_count": 29,
   "metadata": {},
   "outputs": [
    {
     "name": "stdout",
     "output_type": "stream",
     "text": [
      "Total patch number: 5280\n"
     ]
    }
   ],
   "source": [
    "print(f'Total patch number: {len(patch_info)}')"
   ]
  },
  {
   "cell_type": "code",
   "execution_count": 30,
   "metadata": {},
   "outputs": [],
   "source": [
    "# eliminate 0 co2 patches according to max_0co2\n",
    "N_0co2 = len(idx_0co2)\n",
    "p0 = max_0co2*4/N_0co2\n",
    "p = np.random.random(N_0co2)\n",
    "idx_keep_0co2 = []\n",
    "for i,idx in enumerate(idx_0co2):\n",
    "    if (p[i]<=p0) and (len(idx_keep_0co2) < max_0co2*4):\n",
    "        idx_keep_0co2.append(idx)"
   ]
  },
  {
   "cell_type": "code",
   "execution_count": 31,
   "metadata": {},
   "outputs": [],
   "source": [
    "patch_info_new = []\n",
    "for i in range(len(patch_info)):\n",
    "    if (i not in idx_0co2) or (i in idx_keep_0co2):\n",
    "        patch_info_new.append(patch_info[i])\n",
    "# save the patch info\n",
    "pd.DataFrame.from_dict(patch_info_new, orient='columns').to_csv(f'{outpath}/patch_info.csv')"
   ]
  },
  {
   "cell_type": "code",
   "execution_count": 32,
   "metadata": {},
   "outputs": [
    {
     "name": "stdout",
     "output_type": "stream",
     "text": [
      "Training and valid patch number: 2216\n"
     ]
    }
   ],
   "source": [
    "N = len(patch_info_new)\n",
    "print(f'Training and valid patch number: {N}')"
   ]
  },
  {
   "cell_type": "markdown",
   "metadata": {},
   "source": [
    "## Generate validating dataset by randomly selecting a small portion of the training dataset"
   ]
  },
  {
   "cell_type": "code",
   "execution_count": 33,
   "metadata": {},
   "outputs": [],
   "source": [
    "Ntrain = 1500\n",
    "vmax = N-Ntrain\n",
    "pv = 1.1*vmax/N"
   ]
  },
  {
   "cell_type": "code",
   "execution_count": 34,
   "metadata": {},
   "outputs": [
    {
     "name": "stdout",
     "output_type": "stream",
     "text": [
      "Final patch number for training: 1500\n",
      "Final patch number for validating: 716\n"
     ]
    }
   ],
   "source": [
    "patch_info_train = []\n",
    "patch_info_valid = []\n",
    "x = np.random.random(N)\n",
    "c = 0\n",
    "for i in range(N):\n",
    "    if (x[i]<=pv) and (c<vmax):\n",
    "        patch_info_valid.append(patch_info_new[i])\n",
    "        c += 1\n",
    "    else:\n",
    "        patch_info_train.append(patch_info_new[i])     \n",
    "# save the patch info\n",
    "pd.DataFrame.from_dict(patch_info_train, orient='columns').to_csv(f'{outpath}/patch_info_train.csv')\n",
    "pd.DataFrame.from_dict(patch_info_valid, orient='columns').to_csv(f'{outpath}/patch_info_valid.csv')\n",
    "# print the number of training and validating\n",
    "print(f'Final patch number for training: {len(patch_info_train)}')\n",
    "print(f'Final patch number for validating: {len(patch_info_valid)}')"
   ]
  },
  {
   "cell_type": "markdown",
   "metadata": {},
   "source": [
    "# Test dataset"
   ]
  },
  {
   "cell_type": "code",
   "execution_count": 35,
   "metadata": {},
   "outputs": [],
   "source": [
    "fn = '../define_path.txt'\n",
    "with open(fn) as f:\n",
    "    lines = f.readlines()\n",
    "for idx, line in enumerate(lines):\n",
    "    if idx == 15:\n",
    "        outpath_test = line.split('=')[1][:-1]"
   ]
  },
  {
   "cell_type": "markdown",
   "metadata": {},
   "source": [
    "## Basic information for test dataset generation"
   ]
  },
  {
   "cell_type": "code",
   "execution_count": 36,
   "metadata": {},
   "outputs": [
    {
     "name": "stdout",
     "output_type": "stream",
     "text": [
      "Total trace number: 150909\n",
      "Sample number along each trace: 1001\n",
      "Sampling interval along each trace: 0.002 s\n",
      "data arrangement: 269 (number of ensembles) x 561 (trace number per ensemble) x 1001 (sample number per trace)\n"
     ]
    }
   ],
   "source": [
    "# reference dataset grid path\n",
    "xydfn = f'{dir_co2}/10p10/2010 processing/data/10p10nea.sgy'\n",
    "# load the reference dataset head\n",
    "Dr = dataload(fn=xydfn)\n",
    "# get the grid axes\n",
    "_,xd,yd,td = Dr.getdata()\n",
    "# grid dimension\n",
    "DD = (xd.shape[0],xd.shape[1],len(td))"
   ]
  },
  {
   "cell_type": "code",
   "execution_count": 37,
   "metadata": {},
   "outputs": [],
   "source": [
    "# baseline processing year\n",
    "bpy = ['2001','2001','2001','2001','2001','2001','2001','2010','2010']\n",
    "# time-lapse data year\n",
    "ty = ['1999','2001','2004','2006','2008','2010','2010','2010','2010']\n",
    "# time-lapse processing year\n",
    "tpy = ['2001','2001','2007','2007','2008','2010','2011','2010','2011']\n",
    "# number of tests\n",
    "Nte = len(bpy)"
   ]
  },
  {
   "cell_type": "code",
   "execution_count": 38,
   "metadata": {},
   "outputs": [],
   "source": [
    "# define the patch size\n",
    "Nh,Nt = 128,256\n",
    "# define the sampled number along x, y and t\n",
    "Nsi,Nsx,Nst = 3,5,6\n",
    "# define resized dimension of the 3D patch\n",
    "rs = (64,64)\n",
    "# sample strategy indicator\n",
    "stg = 1 # 0-random; 1-regular\n",
    "# normalize patch\n",
    "eps = 1e-5 # dividing std stablizer"
   ]
  },
  {
   "cell_type": "code",
   "execution_count": 39,
   "metadata": {},
   "outputs": [
    {
     "name": "stdout",
     "output_type": "stream",
     "text": [
      "Total patch number: 18168\n"
     ]
    }
   ],
   "source": [
    "# define x and y slices as interpreted in the 3D masks\n",
    "inline_itp = np.arange(DD[0])\n",
    "xline_itp = np.arange(DD[1])\n",
    "Nitp = len(inline_itp) # number of inline slices\n",
    "Nxtp = len(xline_itp) # number of xline slices\n",
    "# patch No.\n",
    "print(f'Total patch number: {Nst*(Nsi*Nxtp+Nsx*Nitp)}')"
   ]
  },
  {
   "cell_type": "code",
   "execution_count": 40,
   "metadata": {},
   "outputs": [],
   "source": [
    "# readin reference CO2 mask for 2010\n",
    "masks = np.fromfile(f'{mkfn}',dtype=np.float32)\n",
    "masks = np.reshape(masks,DD)"
   ]
  },
  {
   "cell_type": "code",
   "execution_count": 41,
   "metadata": {},
   "outputs": [],
   "source": [
    "# restrict inline/crossline and time axis sampling range\n",
    "hNh = Nh//2\n",
    "hNt = Nt//2\n",
    "Ir = [hNh,D0.nx-hNh]\n",
    "Xr = [hNh,D0.ny-hNh]\n",
    "Tr = [hNt,D0.nt-hNt]"
   ]
  },
  {
   "cell_type": "code",
   "execution_count": 42,
   "metadata": {},
   "outputs": [],
   "source": [
    "# sampling center range along x, y, and t directions\n",
    "Is = np.array(np.linspace(Ir[0],Ir[1],Nsi),dtype=np.int16)\n",
    "Xs = np.array(np.linspace(Xr[0],Xr[1],Nsx),dtype=np.int16)\n",
    "Ts = np.array(np.linspace(Tr[0],Tr[1],Nst),dtype=np.int16)\n",
    "# generate random/or regular samples along t and r\n",
    "if stg == 1:\n",
    "    Isample = np.zeros(0,dtype=np.int16)\n",
    "    Xsample = np.zeros(0,dtype=np.int16)\n",
    "    Tsample = np.zeros(0,dtype=np.int16)\n",
    "    for i in range(Nitp):\n",
    "        Isi = np.zeros(Nsx*Nst,dtype=np.int16)+inline_itp[i]\n",
    "        Isample = np.concatenate((Isample,Isi),axis=0)\n",
    "        Xsi,Tsi = np.meshgrid(Xs,Ts,indexing='ij')\n",
    "        Xsample = np.concatenate((Xsample,Xsi.flatten()),axis=0)\n",
    "        Tsample = np.concatenate((Tsample,Tsi.flatten()),axis=0)\n",
    "    for j in range(Nxtp):\n",
    "        Xsi = np.zeros(Nsi*Nst,dtype=np.int16)+xline_itp[j]\n",
    "        Xsample = np.concatenate((Xsample,Xsi),axis=0)\n",
    "        Isi,Tsi = np.meshgrid(Is,Ts,indexing='ij')\n",
    "        Isample = np.concatenate((Isample,Isi.flatten()),axis=0)\n",
    "        Tsample = np.concatenate((Tsample,Tsi.flatten()),axis=0)\n",
    "else:\n",
    "    Is0 = np.tile(inline_itp,(Nsx*Nst,1)).T.flatten()\n",
    "    Is1 = np.random.randint(Ir[0],Ir[1],size=(Nxtp*Nsi*Nst))\n",
    "    Isample = np.concatenate((Is0,Is1),axis=0)\n",
    "    Xs0 = np.tile(xline_itp,(Nsi*Nst,1)).T.flatten()\n",
    "    Xs1 = np.random.randint(Xr[0],Xr[1],size=(Nitp*Nsx*Nst))\n",
    "    Xsample = np.concatenate((Xs1,Xs0),axis=0)\n",
    "    Tsample = np.random.randint(Tr[0],Tr[1],size=(Nxtp*Nsi+Nitp*Nsx)*Nst)"
   ]
  },
  {
   "cell_type": "code",
   "execution_count": 44,
   "metadata": {},
   "outputs": [
    {
     "name": "stdout",
     "output_type": "stream",
     "text": [
      "Total trace number: 166747\n",
      "Sample number along each trace: 1001\n",
      "Sampling interval along each trace: 0.002 s\n",
      "data arrangement: 287 (number of ensembles) x 581 (trace number per ensemble) x 1001 (sample number per trace)\n",
      "Total trace number: 166747\n",
      "Sample number along each trace: 1001\n",
      "Sampling interval along each trace: 0.002 s\n",
      "data arrangement: 287 (number of ensembles) x 581 (trace number per ensemble) x 1001 (sample number per trace)\n",
      "{'data_dim': [269, 561, 1001], 'baseline_datapath': ['/data/libei/co2_data/94p01/2001 processing/data/94p01nea.sgy'], 'timelapse_datapath': ['/data/libei/co2_data/99p01/2001 processing/data/99p01nea.sgy'], 'patch_osize': [128, 256], 'patch_nsize': [64, 64], 'patch_number': [3, 5, 6], 'sample_strategy': 1, 'max_0co2': None, 'inline_itp': [0, 1, 2, 3, 4, 5, 6, 7, 8, 9, 10, 11, 12, 13, 14, 15, 16, 17, 18, 19, 20, 21, 22, 23, 24, 25, 26, 27, 28, 29, 30, 31, 32, 33, 34, 35, 36, 37, 38, 39, 40, 41, 42, 43, 44, 45, 46, 47, 48, 49, 50, 51, 52, 53, 54, 55, 56, 57, 58, 59, 60, 61, 62, 63, 64, 65, 66, 67, 68, 69, 70, 71, 72, 73, 74, 75, 76, 77, 78, 79, 80, 81, 82, 83, 84, 85, 86, 87, 88, 89, 90, 91, 92, 93, 94, 95, 96, 97, 98, 99, 100, 101, 102, 103, 104, 105, 106, 107, 108, 109, 110, 111, 112, 113, 114, 115, 116, 117, 118, 119, 120, 121, 122, 123, 124, 125, 126, 127, 128, 129, 130, 131, 132, 133, 134, 135, 136, 137, 138, 139, 140, 141, 142, 143, 144, 145, 146, 147, 148, 149, 150, 151, 152, 153, 154, 155, 156, 157, 158, 159, 160, 161, 162, 163, 164, 165, 166, 167, 168, 169, 170, 171, 172, 173, 174, 175, 176, 177, 178, 179, 180, 181, 182, 183, 184, 185, 186, 187, 188, 189, 190, 191, 192, 193, 194, 195, 196, 197, 198, 199, 200, 201, 202, 203, 204, 205, 206, 207, 208, 209, 210, 211, 212, 213, 214, 215, 216, 217, 218, 219, 220, 221, 222, 223, 224, 225, 226, 227, 228, 229, 230, 231, 232, 233, 234, 235, 236, 237, 238, 239, 240, 241, 242, 243, 244, 245, 246, 247, 248, 249, 250, 251, 252, 253, 254, 255, 256, 257, 258, 259, 260, 261, 262, 263, 264, 265, 266, 267, 268], 'xline_itp': [0, 1, 2, 3, 4, 5, 6, 7, 8, 9, 10, 11, 12, 13, 14, 15, 16, 17, 18, 19, 20, 21, 22, 23, 24, 25, 26, 27, 28, 29, 30, 31, 32, 33, 34, 35, 36, 37, 38, 39, 40, 41, 42, 43, 44, 45, 46, 47, 48, 49, 50, 51, 52, 53, 54, 55, 56, 57, 58, 59, 60, 61, 62, 63, 64, 65, 66, 67, 68, 69, 70, 71, 72, 73, 74, 75, 76, 77, 78, 79, 80, 81, 82, 83, 84, 85, 86, 87, 88, 89, 90, 91, 92, 93, 94, 95, 96, 97, 98, 99, 100, 101, 102, 103, 104, 105, 106, 107, 108, 109, 110, 111, 112, 113, 114, 115, 116, 117, 118, 119, 120, 121, 122, 123, 124, 125, 126, 127, 128, 129, 130, 131, 132, 133, 134, 135, 136, 137, 138, 139, 140, 141, 142, 143, 144, 145, 146, 147, 148, 149, 150, 151, 152, 153, 154, 155, 156, 157, 158, 159, 160, 161, 162, 163, 164, 165, 166, 167, 168, 169, 170, 171, 172, 173, 174, 175, 176, 177, 178, 179, 180, 181, 182, 183, 184, 185, 186, 187, 188, 189, 190, 191, 192, 193, 194, 195, 196, 197, 198, 199, 200, 201, 202, 203, 204, 205, 206, 207, 208, 209, 210, 211, 212, 213, 214, 215, 216, 217, 218, 219, 220, 221, 222, 223, 224, 225, 226, 227, 228, 229, 230, 231, 232, 233, 234, 235, 236, 237, 238, 239, 240, 241, 242, 243, 244, 245, 246, 247, 248, 249, 250, 251, 252, 253, 254, 255, 256, 257, 258, 259, 260, 261, 262, 263, 264, 265, 266, 267, 268, 269, 270, 271, 272, 273, 274, 275, 276, 277, 278, 279, 280, 281, 282, 283, 284, 285, 286, 287, 288, 289, 290, 291, 292, 293, 294, 295, 296, 297, 298, 299, 300, 301, 302, 303, 304, 305, 306, 307, 308, 309, 310, 311, 312, 313, 314, 315, 316, 317, 318, 319, 320, 321, 322, 323, 324, 325, 326, 327, 328, 329, 330, 331, 332, 333, 334, 335, 336, 337, 338, 339, 340, 341, 342, 343, 344, 345, 346, 347, 348, 349, 350, 351, 352, 353, 354, 355, 356, 357, 358, 359, 360, 361, 362, 363, 364, 365, 366, 367, 368, 369, 370, 371, 372, 373, 374, 375, 376, 377, 378, 379, 380, 381, 382, 383, 384, 385, 386, 387, 388, 389, 390, 391, 392, 393, 394, 395, 396, 397, 398, 399, 400, 401, 402, 403, 404, 405, 406, 407, 408, 409, 410, 411, 412, 413, 414, 415, 416, 417, 418, 419, 420, 421, 422, 423, 424, 425, 426, 427, 428, 429, 430, 431, 432, 433, 434, 435, 436, 437, 438, 439, 440, 441, 442, 443, 444, 445, 446, 447, 448, 449, 450, 451, 452, 453, 454, 455, 456, 457, 458, 459, 460, 461, 462, 463, 464, 465, 466, 467, 468, 469, 470, 471, 472, 473, 474, 475, 476, 477, 478, 479, 480, 481, 482, 483, 484, 485, 486, 487, 488, 489, 490, 491, 492, 493, 494, 495, 496, 497, 498, 499, 500, 501, 502, 503, 504, 505, 506, 507, 508, 509, 510, 511, 512, 513, 514, 515, 516, 517, 518, 519, 520, 521, 522, 523, 524, 525, 526, 527, 528, 529, 530, 531, 532, 533, 534, 535, 536, 537, 538, 539, 540, 541, 542, 543, 544, 545, 546, 547, 548, 549, 550, 551, 552, 553, 554, 555, 556, 557, 558, 559, 560]}\n",
      "///////////////////////////////////////////////////\n",
      "Final patch number for 1999_b01_t01: 18168\n",
      "Total trace number: 166747\n",
      "Sample number along each trace: 1001\n",
      "Sampling interval along each trace: 0.002 s\n",
      "data arrangement: 287 (number of ensembles) x 581 (trace number per ensemble) x 1001 (sample number per trace)\n",
      "Total trace number: 166747\n",
      "Sample number along each trace: 1001\n",
      "Sampling interval along each trace: 0.002 s\n",
      "data arrangement: 287 (number of ensembles) x 581 (trace number per ensemble) x 1001 (sample number per trace)\n",
      "{'data_dim': [269, 561, 1001], 'baseline_datapath': ['/data/libei/co2_data/94p01/2001 processing/data/94p01nea.sgy'], 'timelapse_datapath': ['/data/libei/co2_data/01p01/2001 processing/data/01p01nea.sgy'], 'patch_osize': [128, 256], 'patch_nsize': [64, 64], 'patch_number': [3, 5, 6], 'sample_strategy': 1, 'max_0co2': None, 'inline_itp': [0, 1, 2, 3, 4, 5, 6, 7, 8, 9, 10, 11, 12, 13, 14, 15, 16, 17, 18, 19, 20, 21, 22, 23, 24, 25, 26, 27, 28, 29, 30, 31, 32, 33, 34, 35, 36, 37, 38, 39, 40, 41, 42, 43, 44, 45, 46, 47, 48, 49, 50, 51, 52, 53, 54, 55, 56, 57, 58, 59, 60, 61, 62, 63, 64, 65, 66, 67, 68, 69, 70, 71, 72, 73, 74, 75, 76, 77, 78, 79, 80, 81, 82, 83, 84, 85, 86, 87, 88, 89, 90, 91, 92, 93, 94, 95, 96, 97, 98, 99, 100, 101, 102, 103, 104, 105, 106, 107, 108, 109, 110, 111, 112, 113, 114, 115, 116, 117, 118, 119, 120, 121, 122, 123, 124, 125, 126, 127, 128, 129, 130, 131, 132, 133, 134, 135, 136, 137, 138, 139, 140, 141, 142, 143, 144, 145, 146, 147, 148, 149, 150, 151, 152, 153, 154, 155, 156, 157, 158, 159, 160, 161, 162, 163, 164, 165, 166, 167, 168, 169, 170, 171, 172, 173, 174, 175, 176, 177, 178, 179, 180, 181, 182, 183, 184, 185, 186, 187, 188, 189, 190, 191, 192, 193, 194, 195, 196, 197, 198, 199, 200, 201, 202, 203, 204, 205, 206, 207, 208, 209, 210, 211, 212, 213, 214, 215, 216, 217, 218, 219, 220, 221, 222, 223, 224, 225, 226, 227, 228, 229, 230, 231, 232, 233, 234, 235, 236, 237, 238, 239, 240, 241, 242, 243, 244, 245, 246, 247, 248, 249, 250, 251, 252, 253, 254, 255, 256, 257, 258, 259, 260, 261, 262, 263, 264, 265, 266, 267, 268], 'xline_itp': [0, 1, 2, 3, 4, 5, 6, 7, 8, 9, 10, 11, 12, 13, 14, 15, 16, 17, 18, 19, 20, 21, 22, 23, 24, 25, 26, 27, 28, 29, 30, 31, 32, 33, 34, 35, 36, 37, 38, 39, 40, 41, 42, 43, 44, 45, 46, 47, 48, 49, 50, 51, 52, 53, 54, 55, 56, 57, 58, 59, 60, 61, 62, 63, 64, 65, 66, 67, 68, 69, 70, 71, 72, 73, 74, 75, 76, 77, 78, 79, 80, 81, 82, 83, 84, 85, 86, 87, 88, 89, 90, 91, 92, 93, 94, 95, 96, 97, 98, 99, 100, 101, 102, 103, 104, 105, 106, 107, 108, 109, 110, 111, 112, 113, 114, 115, 116, 117, 118, 119, 120, 121, 122, 123, 124, 125, 126, 127, 128, 129, 130, 131, 132, 133, 134, 135, 136, 137, 138, 139, 140, 141, 142, 143, 144, 145, 146, 147, 148, 149, 150, 151, 152, 153, 154, 155, 156, 157, 158, 159, 160, 161, 162, 163, 164, 165, 166, 167, 168, 169, 170, 171, 172, 173, 174, 175, 176, 177, 178, 179, 180, 181, 182, 183, 184, 185, 186, 187, 188, 189, 190, 191, 192, 193, 194, 195, 196, 197, 198, 199, 200, 201, 202, 203, 204, 205, 206, 207, 208, 209, 210, 211, 212, 213, 214, 215, 216, 217, 218, 219, 220, 221, 222, 223, 224, 225, 226, 227, 228, 229, 230, 231, 232, 233, 234, 235, 236, 237, 238, 239, 240, 241, 242, 243, 244, 245, 246, 247, 248, 249, 250, 251, 252, 253, 254, 255, 256, 257, 258, 259, 260, 261, 262, 263, 264, 265, 266, 267, 268, 269, 270, 271, 272, 273, 274, 275, 276, 277, 278, 279, 280, 281, 282, 283, 284, 285, 286, 287, 288, 289, 290, 291, 292, 293, 294, 295, 296, 297, 298, 299, 300, 301, 302, 303, 304, 305, 306, 307, 308, 309, 310, 311, 312, 313, 314, 315, 316, 317, 318, 319, 320, 321, 322, 323, 324, 325, 326, 327, 328, 329, 330, 331, 332, 333, 334, 335, 336, 337, 338, 339, 340, 341, 342, 343, 344, 345, 346, 347, 348, 349, 350, 351, 352, 353, 354, 355, 356, 357, 358, 359, 360, 361, 362, 363, 364, 365, 366, 367, 368, 369, 370, 371, 372, 373, 374, 375, 376, 377, 378, 379, 380, 381, 382, 383, 384, 385, 386, 387, 388, 389, 390, 391, 392, 393, 394, 395, 396, 397, 398, 399, 400, 401, 402, 403, 404, 405, 406, 407, 408, 409, 410, 411, 412, 413, 414, 415, 416, 417, 418, 419, 420, 421, 422, 423, 424, 425, 426, 427, 428, 429, 430, 431, 432, 433, 434, 435, 436, 437, 438, 439, 440, 441, 442, 443, 444, 445, 446, 447, 448, 449, 450, 451, 452, 453, 454, 455, 456, 457, 458, 459, 460, 461, 462, 463, 464, 465, 466, 467, 468, 469, 470, 471, 472, 473, 474, 475, 476, 477, 478, 479, 480, 481, 482, 483, 484, 485, 486, 487, 488, 489, 490, 491, 492, 493, 494, 495, 496, 497, 498, 499, 500, 501, 502, 503, 504, 505, 506, 507, 508, 509, 510, 511, 512, 513, 514, 515, 516, 517, 518, 519, 520, 521, 522, 523, 524, 525, 526, 527, 528, 529, 530, 531, 532, 533, 534, 535, 536, 537, 538, 539, 540, 541, 542, 543, 544, 545, 546, 547, 548, 549, 550, 551, 552, 553, 554, 555, 556, 557, 558, 559, 560]}\n"
     ]
    },
    {
     "name": "stdout",
     "output_type": "stream",
     "text": [
      "///////////////////////////////////////////////////\n",
      "Final patch number for 2001_b01_t01: 18168\n",
      "Total trace number: 166747\n",
      "Sample number along each trace: 1001\n",
      "Sampling interval along each trace: 0.002 s\n",
      "data arrangement: 287 (number of ensembles) x 581 (trace number per ensemble) x 1001 (sample number per trace)\n",
      "Total trace number: 116532\n",
      "Sample number along each trace: 1001\n",
      "Sampling interval along each trace: 0.002 s\n",
      "data arrangement: 249 (number of ensembles) x 468 (trace number per ensemble) x 1001 (sample number per trace)\n",
      "{'data_dim': [269, 561, 1001], 'baseline_datapath': ['/data/libei/co2_data/94p01/2001 processing/data/94p01nea.sgy'], 'timelapse_datapath': ['/data/libei/co2_data/04p07/2007 processing/data/04p07nea.sgy'], 'patch_osize': [128, 256], 'patch_nsize': [64, 64], 'patch_number': [3, 5, 6], 'sample_strategy': 1, 'max_0co2': None, 'inline_itp': [0, 1, 2, 3, 4, 5, 6, 7, 8, 9, 10, 11, 12, 13, 14, 15, 16, 17, 18, 19, 20, 21, 22, 23, 24, 25, 26, 27, 28, 29, 30, 31, 32, 33, 34, 35, 36, 37, 38, 39, 40, 41, 42, 43, 44, 45, 46, 47, 48, 49, 50, 51, 52, 53, 54, 55, 56, 57, 58, 59, 60, 61, 62, 63, 64, 65, 66, 67, 68, 69, 70, 71, 72, 73, 74, 75, 76, 77, 78, 79, 80, 81, 82, 83, 84, 85, 86, 87, 88, 89, 90, 91, 92, 93, 94, 95, 96, 97, 98, 99, 100, 101, 102, 103, 104, 105, 106, 107, 108, 109, 110, 111, 112, 113, 114, 115, 116, 117, 118, 119, 120, 121, 122, 123, 124, 125, 126, 127, 128, 129, 130, 131, 132, 133, 134, 135, 136, 137, 138, 139, 140, 141, 142, 143, 144, 145, 146, 147, 148, 149, 150, 151, 152, 153, 154, 155, 156, 157, 158, 159, 160, 161, 162, 163, 164, 165, 166, 167, 168, 169, 170, 171, 172, 173, 174, 175, 176, 177, 178, 179, 180, 181, 182, 183, 184, 185, 186, 187, 188, 189, 190, 191, 192, 193, 194, 195, 196, 197, 198, 199, 200, 201, 202, 203, 204, 205, 206, 207, 208, 209, 210, 211, 212, 213, 214, 215, 216, 217, 218, 219, 220, 221, 222, 223, 224, 225, 226, 227, 228, 229, 230, 231, 232, 233, 234, 235, 236, 237, 238, 239, 240, 241, 242, 243, 244, 245, 246, 247, 248, 249, 250, 251, 252, 253, 254, 255, 256, 257, 258, 259, 260, 261, 262, 263, 264, 265, 266, 267, 268], 'xline_itp': [0, 1, 2, 3, 4, 5, 6, 7, 8, 9, 10, 11, 12, 13, 14, 15, 16, 17, 18, 19, 20, 21, 22, 23, 24, 25, 26, 27, 28, 29, 30, 31, 32, 33, 34, 35, 36, 37, 38, 39, 40, 41, 42, 43, 44, 45, 46, 47, 48, 49, 50, 51, 52, 53, 54, 55, 56, 57, 58, 59, 60, 61, 62, 63, 64, 65, 66, 67, 68, 69, 70, 71, 72, 73, 74, 75, 76, 77, 78, 79, 80, 81, 82, 83, 84, 85, 86, 87, 88, 89, 90, 91, 92, 93, 94, 95, 96, 97, 98, 99, 100, 101, 102, 103, 104, 105, 106, 107, 108, 109, 110, 111, 112, 113, 114, 115, 116, 117, 118, 119, 120, 121, 122, 123, 124, 125, 126, 127, 128, 129, 130, 131, 132, 133, 134, 135, 136, 137, 138, 139, 140, 141, 142, 143, 144, 145, 146, 147, 148, 149, 150, 151, 152, 153, 154, 155, 156, 157, 158, 159, 160, 161, 162, 163, 164, 165, 166, 167, 168, 169, 170, 171, 172, 173, 174, 175, 176, 177, 178, 179, 180, 181, 182, 183, 184, 185, 186, 187, 188, 189, 190, 191, 192, 193, 194, 195, 196, 197, 198, 199, 200, 201, 202, 203, 204, 205, 206, 207, 208, 209, 210, 211, 212, 213, 214, 215, 216, 217, 218, 219, 220, 221, 222, 223, 224, 225, 226, 227, 228, 229, 230, 231, 232, 233, 234, 235, 236, 237, 238, 239, 240, 241, 242, 243, 244, 245, 246, 247, 248, 249, 250, 251, 252, 253, 254, 255, 256, 257, 258, 259, 260, 261, 262, 263, 264, 265, 266, 267, 268, 269, 270, 271, 272, 273, 274, 275, 276, 277, 278, 279, 280, 281, 282, 283, 284, 285, 286, 287, 288, 289, 290, 291, 292, 293, 294, 295, 296, 297, 298, 299, 300, 301, 302, 303, 304, 305, 306, 307, 308, 309, 310, 311, 312, 313, 314, 315, 316, 317, 318, 319, 320, 321, 322, 323, 324, 325, 326, 327, 328, 329, 330, 331, 332, 333, 334, 335, 336, 337, 338, 339, 340, 341, 342, 343, 344, 345, 346, 347, 348, 349, 350, 351, 352, 353, 354, 355, 356, 357, 358, 359, 360, 361, 362, 363, 364, 365, 366, 367, 368, 369, 370, 371, 372, 373, 374, 375, 376, 377, 378, 379, 380, 381, 382, 383, 384, 385, 386, 387, 388, 389, 390, 391, 392, 393, 394, 395, 396, 397, 398, 399, 400, 401, 402, 403, 404, 405, 406, 407, 408, 409, 410, 411, 412, 413, 414, 415, 416, 417, 418, 419, 420, 421, 422, 423, 424, 425, 426, 427, 428, 429, 430, 431, 432, 433, 434, 435, 436, 437, 438, 439, 440, 441, 442, 443, 444, 445, 446, 447, 448, 449, 450, 451, 452, 453, 454, 455, 456, 457, 458, 459, 460, 461, 462, 463, 464, 465, 466, 467, 468, 469, 470, 471, 472, 473, 474, 475, 476, 477, 478, 479, 480, 481, 482, 483, 484, 485, 486, 487, 488, 489, 490, 491, 492, 493, 494, 495, 496, 497, 498, 499, 500, 501, 502, 503, 504, 505, 506, 507, 508, 509, 510, 511, 512, 513, 514, 515, 516, 517, 518, 519, 520, 521, 522, 523, 524, 525, 526, 527, 528, 529, 530, 531, 532, 533, 534, 535, 536, 537, 538, 539, 540, 541, 542, 543, 544, 545, 546, 547, 548, 549, 550, 551, 552, 553, 554, 555, 556, 557, 558, 559, 560]}\n",
      "///////////////////////////////////////////////////\n",
      "Final patch number for 2004_b01_t07: 18168\n",
      "Total trace number: 166747\n",
      "Sample number along each trace: 1001\n",
      "Sampling interval along each trace: 0.002 s\n",
      "data arrangement: 287 (number of ensembles) x 581 (trace number per ensemble) x 1001 (sample number per trace)\n",
      "Total trace number: 116532\n",
      "Sample number along each trace: 1001\n",
      "Sampling interval along each trace: 0.002 s\n",
      "data arrangement: 249 (number of ensembles) x 468 (trace number per ensemble) x 1001 (sample number per trace)\n",
      "{'data_dim': [269, 561, 1001], 'baseline_datapath': ['/data/libei/co2_data/94p01/2001 processing/data/94p01nea.sgy'], 'timelapse_datapath': ['/data/libei/co2_data/06p07/2007 processing/data/06p07nea.sgy'], 'patch_osize': [128, 256], 'patch_nsize': [64, 64], 'patch_number': [3, 5, 6], 'sample_strategy': 1, 'max_0co2': None, 'inline_itp': [0, 1, 2, 3, 4, 5, 6, 7, 8, 9, 10, 11, 12, 13, 14, 15, 16, 17, 18, 19, 20, 21, 22, 23, 24, 25, 26, 27, 28, 29, 30, 31, 32, 33, 34, 35, 36, 37, 38, 39, 40, 41, 42, 43, 44, 45, 46, 47, 48, 49, 50, 51, 52, 53, 54, 55, 56, 57, 58, 59, 60, 61, 62, 63, 64, 65, 66, 67, 68, 69, 70, 71, 72, 73, 74, 75, 76, 77, 78, 79, 80, 81, 82, 83, 84, 85, 86, 87, 88, 89, 90, 91, 92, 93, 94, 95, 96, 97, 98, 99, 100, 101, 102, 103, 104, 105, 106, 107, 108, 109, 110, 111, 112, 113, 114, 115, 116, 117, 118, 119, 120, 121, 122, 123, 124, 125, 126, 127, 128, 129, 130, 131, 132, 133, 134, 135, 136, 137, 138, 139, 140, 141, 142, 143, 144, 145, 146, 147, 148, 149, 150, 151, 152, 153, 154, 155, 156, 157, 158, 159, 160, 161, 162, 163, 164, 165, 166, 167, 168, 169, 170, 171, 172, 173, 174, 175, 176, 177, 178, 179, 180, 181, 182, 183, 184, 185, 186, 187, 188, 189, 190, 191, 192, 193, 194, 195, 196, 197, 198, 199, 200, 201, 202, 203, 204, 205, 206, 207, 208, 209, 210, 211, 212, 213, 214, 215, 216, 217, 218, 219, 220, 221, 222, 223, 224, 225, 226, 227, 228, 229, 230, 231, 232, 233, 234, 235, 236, 237, 238, 239, 240, 241, 242, 243, 244, 245, 246, 247, 248, 249, 250, 251, 252, 253, 254, 255, 256, 257, 258, 259, 260, 261, 262, 263, 264, 265, 266, 267, 268], 'xline_itp': [0, 1, 2, 3, 4, 5, 6, 7, 8, 9, 10, 11, 12, 13, 14, 15, 16, 17, 18, 19, 20, 21, 22, 23, 24, 25, 26, 27, 28, 29, 30, 31, 32, 33, 34, 35, 36, 37, 38, 39, 40, 41, 42, 43, 44, 45, 46, 47, 48, 49, 50, 51, 52, 53, 54, 55, 56, 57, 58, 59, 60, 61, 62, 63, 64, 65, 66, 67, 68, 69, 70, 71, 72, 73, 74, 75, 76, 77, 78, 79, 80, 81, 82, 83, 84, 85, 86, 87, 88, 89, 90, 91, 92, 93, 94, 95, 96, 97, 98, 99, 100, 101, 102, 103, 104, 105, 106, 107, 108, 109, 110, 111, 112, 113, 114, 115, 116, 117, 118, 119, 120, 121, 122, 123, 124, 125, 126, 127, 128, 129, 130, 131, 132, 133, 134, 135, 136, 137, 138, 139, 140, 141, 142, 143, 144, 145, 146, 147, 148, 149, 150, 151, 152, 153, 154, 155, 156, 157, 158, 159, 160, 161, 162, 163, 164, 165, 166, 167, 168, 169, 170, 171, 172, 173, 174, 175, 176, 177, 178, 179, 180, 181, 182, 183, 184, 185, 186, 187, 188, 189, 190, 191, 192, 193, 194, 195, 196, 197, 198, 199, 200, 201, 202, 203, 204, 205, 206, 207, 208, 209, 210, 211, 212, 213, 214, 215, 216, 217, 218, 219, 220, 221, 222, 223, 224, 225, 226, 227, 228, 229, 230, 231, 232, 233, 234, 235, 236, 237, 238, 239, 240, 241, 242, 243, 244, 245, 246, 247, 248, 249, 250, 251, 252, 253, 254, 255, 256, 257, 258, 259, 260, 261, 262, 263, 264, 265, 266, 267, 268, 269, 270, 271, 272, 273, 274, 275, 276, 277, 278, 279, 280, 281, 282, 283, 284, 285, 286, 287, 288, 289, 290, 291, 292, 293, 294, 295, 296, 297, 298, 299, 300, 301, 302, 303, 304, 305, 306, 307, 308, 309, 310, 311, 312, 313, 314, 315, 316, 317, 318, 319, 320, 321, 322, 323, 324, 325, 326, 327, 328, 329, 330, 331, 332, 333, 334, 335, 336, 337, 338, 339, 340, 341, 342, 343, 344, 345, 346, 347, 348, 349, 350, 351, 352, 353, 354, 355, 356, 357, 358, 359, 360, 361, 362, 363, 364, 365, 366, 367, 368, 369, 370, 371, 372, 373, 374, 375, 376, 377, 378, 379, 380, 381, 382, 383, 384, 385, 386, 387, 388, 389, 390, 391, 392, 393, 394, 395, 396, 397, 398, 399, 400, 401, 402, 403, 404, 405, 406, 407, 408, 409, 410, 411, 412, 413, 414, 415, 416, 417, 418, 419, 420, 421, 422, 423, 424, 425, 426, 427, 428, 429, 430, 431, 432, 433, 434, 435, 436, 437, 438, 439, 440, 441, 442, 443, 444, 445, 446, 447, 448, 449, 450, 451, 452, 453, 454, 455, 456, 457, 458, 459, 460, 461, 462, 463, 464, 465, 466, 467, 468, 469, 470, 471, 472, 473, 474, 475, 476, 477, 478, 479, 480, 481, 482, 483, 484, 485, 486, 487, 488, 489, 490, 491, 492, 493, 494, 495, 496, 497, 498, 499, 500, 501, 502, 503, 504, 505, 506, 507, 508, 509, 510, 511, 512, 513, 514, 515, 516, 517, 518, 519, 520, 521, 522, 523, 524, 525, 526, 527, 528, 529, 530, 531, 532, 533, 534, 535, 536, 537, 538, 539, 540, 541, 542, 543, 544, 545, 546, 547, 548, 549, 550, 551, 552, 553, 554, 555, 556, 557, 558, 559, 560]}\n"
     ]
    },
    {
     "name": "stdout",
     "output_type": "stream",
     "text": [
      "///////////////////////////////////////////////////\n",
      "Final patch number for 2006_b01_t07: 18168\n",
      "Total trace number: 166747\n",
      "Sample number along each trace: 1001\n",
      "Sampling interval along each trace: 0.002 s\n",
      "data arrangement: 287 (number of ensembles) x 581 (trace number per ensemble) x 1001 (sample number per trace)\n",
      "Total trace number: 150909\n",
      "Sample number along each trace: 1001\n",
      "Sampling interval along each trace: 0.002 s\n",
      "data arrangement: 269 (number of ensembles) x 561 (trace number per ensemble) x 1001 (sample number per trace)\n",
      "{'data_dim': [269, 561, 1001], 'baseline_datapath': ['/data/libei/co2_data/94p01/2001 processing/data/94p01nea.sgy'], 'timelapse_datapath': ['/data/libei/co2_data/08p08/2008 processing/data/08p08nea.sgy'], 'patch_osize': [128, 256], 'patch_nsize': [64, 64], 'patch_number': [3, 5, 6], 'sample_strategy': 1, 'max_0co2': None, 'inline_itp': [0, 1, 2, 3, 4, 5, 6, 7, 8, 9, 10, 11, 12, 13, 14, 15, 16, 17, 18, 19, 20, 21, 22, 23, 24, 25, 26, 27, 28, 29, 30, 31, 32, 33, 34, 35, 36, 37, 38, 39, 40, 41, 42, 43, 44, 45, 46, 47, 48, 49, 50, 51, 52, 53, 54, 55, 56, 57, 58, 59, 60, 61, 62, 63, 64, 65, 66, 67, 68, 69, 70, 71, 72, 73, 74, 75, 76, 77, 78, 79, 80, 81, 82, 83, 84, 85, 86, 87, 88, 89, 90, 91, 92, 93, 94, 95, 96, 97, 98, 99, 100, 101, 102, 103, 104, 105, 106, 107, 108, 109, 110, 111, 112, 113, 114, 115, 116, 117, 118, 119, 120, 121, 122, 123, 124, 125, 126, 127, 128, 129, 130, 131, 132, 133, 134, 135, 136, 137, 138, 139, 140, 141, 142, 143, 144, 145, 146, 147, 148, 149, 150, 151, 152, 153, 154, 155, 156, 157, 158, 159, 160, 161, 162, 163, 164, 165, 166, 167, 168, 169, 170, 171, 172, 173, 174, 175, 176, 177, 178, 179, 180, 181, 182, 183, 184, 185, 186, 187, 188, 189, 190, 191, 192, 193, 194, 195, 196, 197, 198, 199, 200, 201, 202, 203, 204, 205, 206, 207, 208, 209, 210, 211, 212, 213, 214, 215, 216, 217, 218, 219, 220, 221, 222, 223, 224, 225, 226, 227, 228, 229, 230, 231, 232, 233, 234, 235, 236, 237, 238, 239, 240, 241, 242, 243, 244, 245, 246, 247, 248, 249, 250, 251, 252, 253, 254, 255, 256, 257, 258, 259, 260, 261, 262, 263, 264, 265, 266, 267, 268], 'xline_itp': [0, 1, 2, 3, 4, 5, 6, 7, 8, 9, 10, 11, 12, 13, 14, 15, 16, 17, 18, 19, 20, 21, 22, 23, 24, 25, 26, 27, 28, 29, 30, 31, 32, 33, 34, 35, 36, 37, 38, 39, 40, 41, 42, 43, 44, 45, 46, 47, 48, 49, 50, 51, 52, 53, 54, 55, 56, 57, 58, 59, 60, 61, 62, 63, 64, 65, 66, 67, 68, 69, 70, 71, 72, 73, 74, 75, 76, 77, 78, 79, 80, 81, 82, 83, 84, 85, 86, 87, 88, 89, 90, 91, 92, 93, 94, 95, 96, 97, 98, 99, 100, 101, 102, 103, 104, 105, 106, 107, 108, 109, 110, 111, 112, 113, 114, 115, 116, 117, 118, 119, 120, 121, 122, 123, 124, 125, 126, 127, 128, 129, 130, 131, 132, 133, 134, 135, 136, 137, 138, 139, 140, 141, 142, 143, 144, 145, 146, 147, 148, 149, 150, 151, 152, 153, 154, 155, 156, 157, 158, 159, 160, 161, 162, 163, 164, 165, 166, 167, 168, 169, 170, 171, 172, 173, 174, 175, 176, 177, 178, 179, 180, 181, 182, 183, 184, 185, 186, 187, 188, 189, 190, 191, 192, 193, 194, 195, 196, 197, 198, 199, 200, 201, 202, 203, 204, 205, 206, 207, 208, 209, 210, 211, 212, 213, 214, 215, 216, 217, 218, 219, 220, 221, 222, 223, 224, 225, 226, 227, 228, 229, 230, 231, 232, 233, 234, 235, 236, 237, 238, 239, 240, 241, 242, 243, 244, 245, 246, 247, 248, 249, 250, 251, 252, 253, 254, 255, 256, 257, 258, 259, 260, 261, 262, 263, 264, 265, 266, 267, 268, 269, 270, 271, 272, 273, 274, 275, 276, 277, 278, 279, 280, 281, 282, 283, 284, 285, 286, 287, 288, 289, 290, 291, 292, 293, 294, 295, 296, 297, 298, 299, 300, 301, 302, 303, 304, 305, 306, 307, 308, 309, 310, 311, 312, 313, 314, 315, 316, 317, 318, 319, 320, 321, 322, 323, 324, 325, 326, 327, 328, 329, 330, 331, 332, 333, 334, 335, 336, 337, 338, 339, 340, 341, 342, 343, 344, 345, 346, 347, 348, 349, 350, 351, 352, 353, 354, 355, 356, 357, 358, 359, 360, 361, 362, 363, 364, 365, 366, 367, 368, 369, 370, 371, 372, 373, 374, 375, 376, 377, 378, 379, 380, 381, 382, 383, 384, 385, 386, 387, 388, 389, 390, 391, 392, 393, 394, 395, 396, 397, 398, 399, 400, 401, 402, 403, 404, 405, 406, 407, 408, 409, 410, 411, 412, 413, 414, 415, 416, 417, 418, 419, 420, 421, 422, 423, 424, 425, 426, 427, 428, 429, 430, 431, 432, 433, 434, 435, 436, 437, 438, 439, 440, 441, 442, 443, 444, 445, 446, 447, 448, 449, 450, 451, 452, 453, 454, 455, 456, 457, 458, 459, 460, 461, 462, 463, 464, 465, 466, 467, 468, 469, 470, 471, 472, 473, 474, 475, 476, 477, 478, 479, 480, 481, 482, 483, 484, 485, 486, 487, 488, 489, 490, 491, 492, 493, 494, 495, 496, 497, 498, 499, 500, 501, 502, 503, 504, 505, 506, 507, 508, 509, 510, 511, 512, 513, 514, 515, 516, 517, 518, 519, 520, 521, 522, 523, 524, 525, 526, 527, 528, 529, 530, 531, 532, 533, 534, 535, 536, 537, 538, 539, 540, 541, 542, 543, 544, 545, 546, 547, 548, 549, 550, 551, 552, 553, 554, 555, 556, 557, 558, 559, 560]}\n",
      "///////////////////////////////////////////////////\n",
      "Final patch number for 2008_b01_t08: 18168\n",
      "Total trace number: 166747\n",
      "Sample number along each trace: 1001\n",
      "Sampling interval along each trace: 0.002 s\n",
      "data arrangement: 287 (number of ensembles) x 581 (trace number per ensemble) x 1001 (sample number per trace)\n",
      "Total trace number: 150909\n",
      "Sample number along each trace: 1001\n",
      "Sampling interval along each trace: 0.002 s\n",
      "data arrangement: 269 (number of ensembles) x 561 (trace number per ensemble) x 1001 (sample number per trace)\n",
      "{'data_dim': [269, 561, 1001], 'baseline_datapath': ['/data/libei/co2_data/94p01/2001 processing/data/94p01nea.sgy'], 'timelapse_datapath': ['/data/libei/co2_data/10p10/2010 processing/data/10p10nea.sgy'], 'patch_osize': [128, 256], 'patch_nsize': [64, 64], 'patch_number': [3, 5, 6], 'sample_strategy': 1, 'max_0co2': None, 'inline_itp': [0, 1, 2, 3, 4, 5, 6, 7, 8, 9, 10, 11, 12, 13, 14, 15, 16, 17, 18, 19, 20, 21, 22, 23, 24, 25, 26, 27, 28, 29, 30, 31, 32, 33, 34, 35, 36, 37, 38, 39, 40, 41, 42, 43, 44, 45, 46, 47, 48, 49, 50, 51, 52, 53, 54, 55, 56, 57, 58, 59, 60, 61, 62, 63, 64, 65, 66, 67, 68, 69, 70, 71, 72, 73, 74, 75, 76, 77, 78, 79, 80, 81, 82, 83, 84, 85, 86, 87, 88, 89, 90, 91, 92, 93, 94, 95, 96, 97, 98, 99, 100, 101, 102, 103, 104, 105, 106, 107, 108, 109, 110, 111, 112, 113, 114, 115, 116, 117, 118, 119, 120, 121, 122, 123, 124, 125, 126, 127, 128, 129, 130, 131, 132, 133, 134, 135, 136, 137, 138, 139, 140, 141, 142, 143, 144, 145, 146, 147, 148, 149, 150, 151, 152, 153, 154, 155, 156, 157, 158, 159, 160, 161, 162, 163, 164, 165, 166, 167, 168, 169, 170, 171, 172, 173, 174, 175, 176, 177, 178, 179, 180, 181, 182, 183, 184, 185, 186, 187, 188, 189, 190, 191, 192, 193, 194, 195, 196, 197, 198, 199, 200, 201, 202, 203, 204, 205, 206, 207, 208, 209, 210, 211, 212, 213, 214, 215, 216, 217, 218, 219, 220, 221, 222, 223, 224, 225, 226, 227, 228, 229, 230, 231, 232, 233, 234, 235, 236, 237, 238, 239, 240, 241, 242, 243, 244, 245, 246, 247, 248, 249, 250, 251, 252, 253, 254, 255, 256, 257, 258, 259, 260, 261, 262, 263, 264, 265, 266, 267, 268], 'xline_itp': [0, 1, 2, 3, 4, 5, 6, 7, 8, 9, 10, 11, 12, 13, 14, 15, 16, 17, 18, 19, 20, 21, 22, 23, 24, 25, 26, 27, 28, 29, 30, 31, 32, 33, 34, 35, 36, 37, 38, 39, 40, 41, 42, 43, 44, 45, 46, 47, 48, 49, 50, 51, 52, 53, 54, 55, 56, 57, 58, 59, 60, 61, 62, 63, 64, 65, 66, 67, 68, 69, 70, 71, 72, 73, 74, 75, 76, 77, 78, 79, 80, 81, 82, 83, 84, 85, 86, 87, 88, 89, 90, 91, 92, 93, 94, 95, 96, 97, 98, 99, 100, 101, 102, 103, 104, 105, 106, 107, 108, 109, 110, 111, 112, 113, 114, 115, 116, 117, 118, 119, 120, 121, 122, 123, 124, 125, 126, 127, 128, 129, 130, 131, 132, 133, 134, 135, 136, 137, 138, 139, 140, 141, 142, 143, 144, 145, 146, 147, 148, 149, 150, 151, 152, 153, 154, 155, 156, 157, 158, 159, 160, 161, 162, 163, 164, 165, 166, 167, 168, 169, 170, 171, 172, 173, 174, 175, 176, 177, 178, 179, 180, 181, 182, 183, 184, 185, 186, 187, 188, 189, 190, 191, 192, 193, 194, 195, 196, 197, 198, 199, 200, 201, 202, 203, 204, 205, 206, 207, 208, 209, 210, 211, 212, 213, 214, 215, 216, 217, 218, 219, 220, 221, 222, 223, 224, 225, 226, 227, 228, 229, 230, 231, 232, 233, 234, 235, 236, 237, 238, 239, 240, 241, 242, 243, 244, 245, 246, 247, 248, 249, 250, 251, 252, 253, 254, 255, 256, 257, 258, 259, 260, 261, 262, 263, 264, 265, 266, 267, 268, 269, 270, 271, 272, 273, 274, 275, 276, 277, 278, 279, 280, 281, 282, 283, 284, 285, 286, 287, 288, 289, 290, 291, 292, 293, 294, 295, 296, 297, 298, 299, 300, 301, 302, 303, 304, 305, 306, 307, 308, 309, 310, 311, 312, 313, 314, 315, 316, 317, 318, 319, 320, 321, 322, 323, 324, 325, 326, 327, 328, 329, 330, 331, 332, 333, 334, 335, 336, 337, 338, 339, 340, 341, 342, 343, 344, 345, 346, 347, 348, 349, 350, 351, 352, 353, 354, 355, 356, 357, 358, 359, 360, 361, 362, 363, 364, 365, 366, 367, 368, 369, 370, 371, 372, 373, 374, 375, 376, 377, 378, 379, 380, 381, 382, 383, 384, 385, 386, 387, 388, 389, 390, 391, 392, 393, 394, 395, 396, 397, 398, 399, 400, 401, 402, 403, 404, 405, 406, 407, 408, 409, 410, 411, 412, 413, 414, 415, 416, 417, 418, 419, 420, 421, 422, 423, 424, 425, 426, 427, 428, 429, 430, 431, 432, 433, 434, 435, 436, 437, 438, 439, 440, 441, 442, 443, 444, 445, 446, 447, 448, 449, 450, 451, 452, 453, 454, 455, 456, 457, 458, 459, 460, 461, 462, 463, 464, 465, 466, 467, 468, 469, 470, 471, 472, 473, 474, 475, 476, 477, 478, 479, 480, 481, 482, 483, 484, 485, 486, 487, 488, 489, 490, 491, 492, 493, 494, 495, 496, 497, 498, 499, 500, 501, 502, 503, 504, 505, 506, 507, 508, 509, 510, 511, 512, 513, 514, 515, 516, 517, 518, 519, 520, 521, 522, 523, 524, 525, 526, 527, 528, 529, 530, 531, 532, 533, 534, 535, 536, 537, 538, 539, 540, 541, 542, 543, 544, 545, 546, 547, 548, 549, 550, 551, 552, 553, 554, 555, 556, 557, 558, 559, 560]}\n"
     ]
    },
    {
     "name": "stdout",
     "output_type": "stream",
     "text": [
      "///////////////////////////////////////////////////\n",
      "Final patch number for 2010_b01_t10: 18168\n",
      "Total trace number: 166747\n",
      "Sample number along each trace: 1001\n",
      "Sampling interval along each trace: 0.002 s\n",
      "data arrangement: 287 (number of ensembles) x 581 (trace number per ensemble) x 1001 (sample number per trace)\n",
      "Total trace number: 242136\n",
      "Sample number along each trace: 1001\n",
      "Sampling interval along each trace: 0.002 s\n",
      "data arrangement: 216 (number of ensembles) x 1121 (trace number per ensemble) x 1001 (sample number per trace)\n",
      "{'data_dim': [269, 561, 1001], 'baseline_datapath': ['/data/libei/co2_data/94p01/2001 processing/data/94p01nea.sgy'], 'timelapse_datapath': ['/data/libei/co2_data/10p11/2011 processing/data/10p11nea'], 'patch_osize': [128, 256], 'patch_nsize': [64, 64], 'patch_number': [3, 5, 6], 'sample_strategy': 1, 'max_0co2': None, 'inline_itp': [0, 1, 2, 3, 4, 5, 6, 7, 8, 9, 10, 11, 12, 13, 14, 15, 16, 17, 18, 19, 20, 21, 22, 23, 24, 25, 26, 27, 28, 29, 30, 31, 32, 33, 34, 35, 36, 37, 38, 39, 40, 41, 42, 43, 44, 45, 46, 47, 48, 49, 50, 51, 52, 53, 54, 55, 56, 57, 58, 59, 60, 61, 62, 63, 64, 65, 66, 67, 68, 69, 70, 71, 72, 73, 74, 75, 76, 77, 78, 79, 80, 81, 82, 83, 84, 85, 86, 87, 88, 89, 90, 91, 92, 93, 94, 95, 96, 97, 98, 99, 100, 101, 102, 103, 104, 105, 106, 107, 108, 109, 110, 111, 112, 113, 114, 115, 116, 117, 118, 119, 120, 121, 122, 123, 124, 125, 126, 127, 128, 129, 130, 131, 132, 133, 134, 135, 136, 137, 138, 139, 140, 141, 142, 143, 144, 145, 146, 147, 148, 149, 150, 151, 152, 153, 154, 155, 156, 157, 158, 159, 160, 161, 162, 163, 164, 165, 166, 167, 168, 169, 170, 171, 172, 173, 174, 175, 176, 177, 178, 179, 180, 181, 182, 183, 184, 185, 186, 187, 188, 189, 190, 191, 192, 193, 194, 195, 196, 197, 198, 199, 200, 201, 202, 203, 204, 205, 206, 207, 208, 209, 210, 211, 212, 213, 214, 215, 216, 217, 218, 219, 220, 221, 222, 223, 224, 225, 226, 227, 228, 229, 230, 231, 232, 233, 234, 235, 236, 237, 238, 239, 240, 241, 242, 243, 244, 245, 246, 247, 248, 249, 250, 251, 252, 253, 254, 255, 256, 257, 258, 259, 260, 261, 262, 263, 264, 265, 266, 267, 268], 'xline_itp': [0, 1, 2, 3, 4, 5, 6, 7, 8, 9, 10, 11, 12, 13, 14, 15, 16, 17, 18, 19, 20, 21, 22, 23, 24, 25, 26, 27, 28, 29, 30, 31, 32, 33, 34, 35, 36, 37, 38, 39, 40, 41, 42, 43, 44, 45, 46, 47, 48, 49, 50, 51, 52, 53, 54, 55, 56, 57, 58, 59, 60, 61, 62, 63, 64, 65, 66, 67, 68, 69, 70, 71, 72, 73, 74, 75, 76, 77, 78, 79, 80, 81, 82, 83, 84, 85, 86, 87, 88, 89, 90, 91, 92, 93, 94, 95, 96, 97, 98, 99, 100, 101, 102, 103, 104, 105, 106, 107, 108, 109, 110, 111, 112, 113, 114, 115, 116, 117, 118, 119, 120, 121, 122, 123, 124, 125, 126, 127, 128, 129, 130, 131, 132, 133, 134, 135, 136, 137, 138, 139, 140, 141, 142, 143, 144, 145, 146, 147, 148, 149, 150, 151, 152, 153, 154, 155, 156, 157, 158, 159, 160, 161, 162, 163, 164, 165, 166, 167, 168, 169, 170, 171, 172, 173, 174, 175, 176, 177, 178, 179, 180, 181, 182, 183, 184, 185, 186, 187, 188, 189, 190, 191, 192, 193, 194, 195, 196, 197, 198, 199, 200, 201, 202, 203, 204, 205, 206, 207, 208, 209, 210, 211, 212, 213, 214, 215, 216, 217, 218, 219, 220, 221, 222, 223, 224, 225, 226, 227, 228, 229, 230, 231, 232, 233, 234, 235, 236, 237, 238, 239, 240, 241, 242, 243, 244, 245, 246, 247, 248, 249, 250, 251, 252, 253, 254, 255, 256, 257, 258, 259, 260, 261, 262, 263, 264, 265, 266, 267, 268, 269, 270, 271, 272, 273, 274, 275, 276, 277, 278, 279, 280, 281, 282, 283, 284, 285, 286, 287, 288, 289, 290, 291, 292, 293, 294, 295, 296, 297, 298, 299, 300, 301, 302, 303, 304, 305, 306, 307, 308, 309, 310, 311, 312, 313, 314, 315, 316, 317, 318, 319, 320, 321, 322, 323, 324, 325, 326, 327, 328, 329, 330, 331, 332, 333, 334, 335, 336, 337, 338, 339, 340, 341, 342, 343, 344, 345, 346, 347, 348, 349, 350, 351, 352, 353, 354, 355, 356, 357, 358, 359, 360, 361, 362, 363, 364, 365, 366, 367, 368, 369, 370, 371, 372, 373, 374, 375, 376, 377, 378, 379, 380, 381, 382, 383, 384, 385, 386, 387, 388, 389, 390, 391, 392, 393, 394, 395, 396, 397, 398, 399, 400, 401, 402, 403, 404, 405, 406, 407, 408, 409, 410, 411, 412, 413, 414, 415, 416, 417, 418, 419, 420, 421, 422, 423, 424, 425, 426, 427, 428, 429, 430, 431, 432, 433, 434, 435, 436, 437, 438, 439, 440, 441, 442, 443, 444, 445, 446, 447, 448, 449, 450, 451, 452, 453, 454, 455, 456, 457, 458, 459, 460, 461, 462, 463, 464, 465, 466, 467, 468, 469, 470, 471, 472, 473, 474, 475, 476, 477, 478, 479, 480, 481, 482, 483, 484, 485, 486, 487, 488, 489, 490, 491, 492, 493, 494, 495, 496, 497, 498, 499, 500, 501, 502, 503, 504, 505, 506, 507, 508, 509, 510, 511, 512, 513, 514, 515, 516, 517, 518, 519, 520, 521, 522, 523, 524, 525, 526, 527, 528, 529, 530, 531, 532, 533, 534, 535, 536, 537, 538, 539, 540, 541, 542, 543, 544, 545, 546, 547, 548, 549, 550, 551, 552, 553, 554, 555, 556, 557, 558, 559, 560]}\n",
      "///////////////////////////////////////////////////\n",
      "Final patch number for 2010_b01_t11: 18168\n",
      "Total trace number: 150909\n",
      "Sample number along each trace: 1001\n",
      "Sampling interval along each trace: 0.002 s\n",
      "data arrangement: 269 (number of ensembles) x 561 (trace number per ensemble) x 1001 (sample number per trace)\n",
      "Total trace number: 150909\n",
      "Sample number along each trace: 1001\n",
      "Sampling interval along each trace: 0.002 s\n",
      "data arrangement: 269 (number of ensembles) x 561 (trace number per ensemble) x 1001 (sample number per trace)\n",
      "{'data_dim': [269, 561, 1001], 'baseline_datapath': ['/data/libei/co2_data/94p10/2010 processing/data/94p10nea.sgy'], 'timelapse_datapath': ['/data/libei/co2_data/10p10/2010 processing/data/10p10nea.sgy'], 'patch_osize': [128, 256], 'patch_nsize': [64, 64], 'patch_number': [3, 5, 6], 'sample_strategy': 1, 'max_0co2': None, 'inline_itp': [0, 1, 2, 3, 4, 5, 6, 7, 8, 9, 10, 11, 12, 13, 14, 15, 16, 17, 18, 19, 20, 21, 22, 23, 24, 25, 26, 27, 28, 29, 30, 31, 32, 33, 34, 35, 36, 37, 38, 39, 40, 41, 42, 43, 44, 45, 46, 47, 48, 49, 50, 51, 52, 53, 54, 55, 56, 57, 58, 59, 60, 61, 62, 63, 64, 65, 66, 67, 68, 69, 70, 71, 72, 73, 74, 75, 76, 77, 78, 79, 80, 81, 82, 83, 84, 85, 86, 87, 88, 89, 90, 91, 92, 93, 94, 95, 96, 97, 98, 99, 100, 101, 102, 103, 104, 105, 106, 107, 108, 109, 110, 111, 112, 113, 114, 115, 116, 117, 118, 119, 120, 121, 122, 123, 124, 125, 126, 127, 128, 129, 130, 131, 132, 133, 134, 135, 136, 137, 138, 139, 140, 141, 142, 143, 144, 145, 146, 147, 148, 149, 150, 151, 152, 153, 154, 155, 156, 157, 158, 159, 160, 161, 162, 163, 164, 165, 166, 167, 168, 169, 170, 171, 172, 173, 174, 175, 176, 177, 178, 179, 180, 181, 182, 183, 184, 185, 186, 187, 188, 189, 190, 191, 192, 193, 194, 195, 196, 197, 198, 199, 200, 201, 202, 203, 204, 205, 206, 207, 208, 209, 210, 211, 212, 213, 214, 215, 216, 217, 218, 219, 220, 221, 222, 223, 224, 225, 226, 227, 228, 229, 230, 231, 232, 233, 234, 235, 236, 237, 238, 239, 240, 241, 242, 243, 244, 245, 246, 247, 248, 249, 250, 251, 252, 253, 254, 255, 256, 257, 258, 259, 260, 261, 262, 263, 264, 265, 266, 267, 268], 'xline_itp': [0, 1, 2, 3, 4, 5, 6, 7, 8, 9, 10, 11, 12, 13, 14, 15, 16, 17, 18, 19, 20, 21, 22, 23, 24, 25, 26, 27, 28, 29, 30, 31, 32, 33, 34, 35, 36, 37, 38, 39, 40, 41, 42, 43, 44, 45, 46, 47, 48, 49, 50, 51, 52, 53, 54, 55, 56, 57, 58, 59, 60, 61, 62, 63, 64, 65, 66, 67, 68, 69, 70, 71, 72, 73, 74, 75, 76, 77, 78, 79, 80, 81, 82, 83, 84, 85, 86, 87, 88, 89, 90, 91, 92, 93, 94, 95, 96, 97, 98, 99, 100, 101, 102, 103, 104, 105, 106, 107, 108, 109, 110, 111, 112, 113, 114, 115, 116, 117, 118, 119, 120, 121, 122, 123, 124, 125, 126, 127, 128, 129, 130, 131, 132, 133, 134, 135, 136, 137, 138, 139, 140, 141, 142, 143, 144, 145, 146, 147, 148, 149, 150, 151, 152, 153, 154, 155, 156, 157, 158, 159, 160, 161, 162, 163, 164, 165, 166, 167, 168, 169, 170, 171, 172, 173, 174, 175, 176, 177, 178, 179, 180, 181, 182, 183, 184, 185, 186, 187, 188, 189, 190, 191, 192, 193, 194, 195, 196, 197, 198, 199, 200, 201, 202, 203, 204, 205, 206, 207, 208, 209, 210, 211, 212, 213, 214, 215, 216, 217, 218, 219, 220, 221, 222, 223, 224, 225, 226, 227, 228, 229, 230, 231, 232, 233, 234, 235, 236, 237, 238, 239, 240, 241, 242, 243, 244, 245, 246, 247, 248, 249, 250, 251, 252, 253, 254, 255, 256, 257, 258, 259, 260, 261, 262, 263, 264, 265, 266, 267, 268, 269, 270, 271, 272, 273, 274, 275, 276, 277, 278, 279, 280, 281, 282, 283, 284, 285, 286, 287, 288, 289, 290, 291, 292, 293, 294, 295, 296, 297, 298, 299, 300, 301, 302, 303, 304, 305, 306, 307, 308, 309, 310, 311, 312, 313, 314, 315, 316, 317, 318, 319, 320, 321, 322, 323, 324, 325, 326, 327, 328, 329, 330, 331, 332, 333, 334, 335, 336, 337, 338, 339, 340, 341, 342, 343, 344, 345, 346, 347, 348, 349, 350, 351, 352, 353, 354, 355, 356, 357, 358, 359, 360, 361, 362, 363, 364, 365, 366, 367, 368, 369, 370, 371, 372, 373, 374, 375, 376, 377, 378, 379, 380, 381, 382, 383, 384, 385, 386, 387, 388, 389, 390, 391, 392, 393, 394, 395, 396, 397, 398, 399, 400, 401, 402, 403, 404, 405, 406, 407, 408, 409, 410, 411, 412, 413, 414, 415, 416, 417, 418, 419, 420, 421, 422, 423, 424, 425, 426, 427, 428, 429, 430, 431, 432, 433, 434, 435, 436, 437, 438, 439, 440, 441, 442, 443, 444, 445, 446, 447, 448, 449, 450, 451, 452, 453, 454, 455, 456, 457, 458, 459, 460, 461, 462, 463, 464, 465, 466, 467, 468, 469, 470, 471, 472, 473, 474, 475, 476, 477, 478, 479, 480, 481, 482, 483, 484, 485, 486, 487, 488, 489, 490, 491, 492, 493, 494, 495, 496, 497, 498, 499, 500, 501, 502, 503, 504, 505, 506, 507, 508, 509, 510, 511, 512, 513, 514, 515, 516, 517, 518, 519, 520, 521, 522, 523, 524, 525, 526, 527, 528, 529, 530, 531, 532, 533, 534, 535, 536, 537, 538, 539, 540, 541, 542, 543, 544, 545, 546, 547, 548, 549, 550, 551, 552, 553, 554, 555, 556, 557, 558, 559, 560]}\n"
     ]
    },
    {
     "name": "stdout",
     "output_type": "stream",
     "text": [
      "///////////////////////////////////////////////////\n",
      "Final patch number for 2010_b10_t10: 18168\n",
      "Total trace number: 150909\n",
      "Sample number along each trace: 1001\n",
      "Sampling interval along each trace: 0.002 s\n",
      "data arrangement: 269 (number of ensembles) x 561 (trace number per ensemble) x 1001 (sample number per trace)\n",
      "Total trace number: 242136\n",
      "Sample number along each trace: 1001\n",
      "Sampling interval along each trace: 0.002 s\n",
      "data arrangement: 216 (number of ensembles) x 1121 (trace number per ensemble) x 1001 (sample number per trace)\n",
      "{'data_dim': [269, 561, 1001], 'baseline_datapath': ['/data/libei/co2_data/94p10/2010 processing/data/94p10nea.sgy'], 'timelapse_datapath': ['/data/libei/co2_data/10p11/2011 processing/data/10p11nea'], 'patch_osize': [128, 256], 'patch_nsize': [64, 64], 'patch_number': [3, 5, 6], 'sample_strategy': 1, 'max_0co2': None, 'inline_itp': [0, 1, 2, 3, 4, 5, 6, 7, 8, 9, 10, 11, 12, 13, 14, 15, 16, 17, 18, 19, 20, 21, 22, 23, 24, 25, 26, 27, 28, 29, 30, 31, 32, 33, 34, 35, 36, 37, 38, 39, 40, 41, 42, 43, 44, 45, 46, 47, 48, 49, 50, 51, 52, 53, 54, 55, 56, 57, 58, 59, 60, 61, 62, 63, 64, 65, 66, 67, 68, 69, 70, 71, 72, 73, 74, 75, 76, 77, 78, 79, 80, 81, 82, 83, 84, 85, 86, 87, 88, 89, 90, 91, 92, 93, 94, 95, 96, 97, 98, 99, 100, 101, 102, 103, 104, 105, 106, 107, 108, 109, 110, 111, 112, 113, 114, 115, 116, 117, 118, 119, 120, 121, 122, 123, 124, 125, 126, 127, 128, 129, 130, 131, 132, 133, 134, 135, 136, 137, 138, 139, 140, 141, 142, 143, 144, 145, 146, 147, 148, 149, 150, 151, 152, 153, 154, 155, 156, 157, 158, 159, 160, 161, 162, 163, 164, 165, 166, 167, 168, 169, 170, 171, 172, 173, 174, 175, 176, 177, 178, 179, 180, 181, 182, 183, 184, 185, 186, 187, 188, 189, 190, 191, 192, 193, 194, 195, 196, 197, 198, 199, 200, 201, 202, 203, 204, 205, 206, 207, 208, 209, 210, 211, 212, 213, 214, 215, 216, 217, 218, 219, 220, 221, 222, 223, 224, 225, 226, 227, 228, 229, 230, 231, 232, 233, 234, 235, 236, 237, 238, 239, 240, 241, 242, 243, 244, 245, 246, 247, 248, 249, 250, 251, 252, 253, 254, 255, 256, 257, 258, 259, 260, 261, 262, 263, 264, 265, 266, 267, 268], 'xline_itp': [0, 1, 2, 3, 4, 5, 6, 7, 8, 9, 10, 11, 12, 13, 14, 15, 16, 17, 18, 19, 20, 21, 22, 23, 24, 25, 26, 27, 28, 29, 30, 31, 32, 33, 34, 35, 36, 37, 38, 39, 40, 41, 42, 43, 44, 45, 46, 47, 48, 49, 50, 51, 52, 53, 54, 55, 56, 57, 58, 59, 60, 61, 62, 63, 64, 65, 66, 67, 68, 69, 70, 71, 72, 73, 74, 75, 76, 77, 78, 79, 80, 81, 82, 83, 84, 85, 86, 87, 88, 89, 90, 91, 92, 93, 94, 95, 96, 97, 98, 99, 100, 101, 102, 103, 104, 105, 106, 107, 108, 109, 110, 111, 112, 113, 114, 115, 116, 117, 118, 119, 120, 121, 122, 123, 124, 125, 126, 127, 128, 129, 130, 131, 132, 133, 134, 135, 136, 137, 138, 139, 140, 141, 142, 143, 144, 145, 146, 147, 148, 149, 150, 151, 152, 153, 154, 155, 156, 157, 158, 159, 160, 161, 162, 163, 164, 165, 166, 167, 168, 169, 170, 171, 172, 173, 174, 175, 176, 177, 178, 179, 180, 181, 182, 183, 184, 185, 186, 187, 188, 189, 190, 191, 192, 193, 194, 195, 196, 197, 198, 199, 200, 201, 202, 203, 204, 205, 206, 207, 208, 209, 210, 211, 212, 213, 214, 215, 216, 217, 218, 219, 220, 221, 222, 223, 224, 225, 226, 227, 228, 229, 230, 231, 232, 233, 234, 235, 236, 237, 238, 239, 240, 241, 242, 243, 244, 245, 246, 247, 248, 249, 250, 251, 252, 253, 254, 255, 256, 257, 258, 259, 260, 261, 262, 263, 264, 265, 266, 267, 268, 269, 270, 271, 272, 273, 274, 275, 276, 277, 278, 279, 280, 281, 282, 283, 284, 285, 286, 287, 288, 289, 290, 291, 292, 293, 294, 295, 296, 297, 298, 299, 300, 301, 302, 303, 304, 305, 306, 307, 308, 309, 310, 311, 312, 313, 314, 315, 316, 317, 318, 319, 320, 321, 322, 323, 324, 325, 326, 327, 328, 329, 330, 331, 332, 333, 334, 335, 336, 337, 338, 339, 340, 341, 342, 343, 344, 345, 346, 347, 348, 349, 350, 351, 352, 353, 354, 355, 356, 357, 358, 359, 360, 361, 362, 363, 364, 365, 366, 367, 368, 369, 370, 371, 372, 373, 374, 375, 376, 377, 378, 379, 380, 381, 382, 383, 384, 385, 386, 387, 388, 389, 390, 391, 392, 393, 394, 395, 396, 397, 398, 399, 400, 401, 402, 403, 404, 405, 406, 407, 408, 409, 410, 411, 412, 413, 414, 415, 416, 417, 418, 419, 420, 421, 422, 423, 424, 425, 426, 427, 428, 429, 430, 431, 432, 433, 434, 435, 436, 437, 438, 439, 440, 441, 442, 443, 444, 445, 446, 447, 448, 449, 450, 451, 452, 453, 454, 455, 456, 457, 458, 459, 460, 461, 462, 463, 464, 465, 466, 467, 468, 469, 470, 471, 472, 473, 474, 475, 476, 477, 478, 479, 480, 481, 482, 483, 484, 485, 486, 487, 488, 489, 490, 491, 492, 493, 494, 495, 496, 497, 498, 499, 500, 501, 502, 503, 504, 505, 506, 507, 508, 509, 510, 511, 512, 513, 514, 515, 516, 517, 518, 519, 520, 521, 522, 523, 524, 525, 526, 527, 528, 529, 530, 531, 532, 533, 534, 535, 536, 537, 538, 539, 540, 541, 542, 543, 544, 545, 546, 547, 548, 549, 550, 551, 552, 553, 554, 555, 556, 557, 558, 559, 560]}\n",
      "///////////////////////////////////////////////////\n",
      "Final patch number for 2010_b10_t11: 18168\n"
     ]
    }
   ],
   "source": [
    "for I in range(Nte):\n",
    "    # file pathes\n",
    "    blfn = f'{dir_co2}/94p{bpy[I][-2:]}/{bpy[I]} processing/data/94p{bpy[I][-2:]}nea.sgy'\n",
    "    tlfn = f'{dir_co2}/{ty[I][-2:]}p{tpy[I][-2:]}/{tpy[I]} processing/data/{ty[I][-2:]}p{tpy[I][-2:]}nea.sgy'\n",
    "    year = f'{ty[I]}_b{bpy[I][-2:]}_t{tpy[I][-2:]}'\n",
    "    # output dataset path\n",
    "    outpath = f'{outpath_test}/{year}/test'\n",
    "    if tpy[I] == '2011':\n",
    "        tlfn = tlfn[:-4]\n",
    "    # load data\n",
    "    D0 = dataload(fn=blfn)\n",
    "    Dt = dataload(fn=tlfn)\n",
    "    d0,xd0,yd0,_ = D0.getdata()\n",
    "    dt,xdt,ydt,_ = Dt.getdata()\n",
    "    \n",
    "    ## preprocess the datasets\n",
    "    # interpolate d0\n",
    "    X = np.stack((xd.flatten(),yd.flatten()),axis=1)\n",
    "    X0 = np.stack((xd0.flatten(),yd0.flatten()),axis=1)\n",
    "    nbrs = NearestNeighbors(n_neighbors=1, algorithm='ball_tree').fit(X0)\n",
    "    distances, ind = nbrs.kneighbors(X)\n",
    "    sub = ind2sub(xd0.shape,ind)\n",
    "    d0i = d0[sub[0],sub[1],:]\n",
    "    d0i = np.reshape(d0i,DD)\n",
    "    d0 = d0i\n",
    "    # interpolate dt\n",
    "    if tpy[I] == '2011':\n",
    "        # interpolate for dt to conform to Dr\n",
    "        # downsample along xline direction\n",
    "        dt1 = np.pad(dt[:,1:-3:2,:],((0,0),(2,0),(0,0)),'edge')\n",
    "        # calculate the coefficient for linear interpolation\n",
    "        xdh,xdth = xd[:,0],xdt[:,0]\n",
    "        X = np.stack((xdh,np.zeros(Dr.nx)),axis=1)\n",
    "        Xt = np.stack((xdth,np.zeros(Dt.nx)),axis=1)\n",
    "        nbrs = NearestNeighbors(n_neighbors=2, algorithm='ball_tree').fit(Xt)\n",
    "        distances, ind = nbrs.kneighbors(X)\n",
    "        coe = np.flip(distances,axis=1)/np.expand_dims(np.sum(distances,axis=1),1)\n",
    "        # linear interpolate along inline direction\n",
    "        dti = np.zeros(DD,dtype=np.float32)\n",
    "        for i in range(Dr.nx):\n",
    "            dti[i,:,:] = dt1[ind[i,0],:,:]*coe[i,0]+dt1[ind[i,1],:,:]*coe[i,1]\n",
    "        dt = dti\n",
    "    else:\n",
    "        # find nearest trace of d0 from (xd,yd)\n",
    "        X = np.stack((xd.flatten(),yd.flatten()),axis=1)\n",
    "        Xt = np.stack((xdt.flatten(),ydt.flatten()),axis=1)\n",
    "        nbrs = NearestNeighbors(n_neighbors=1, algorithm='ball_tree').fit(Xt)\n",
    "        distances, ind = nbrs.kneighbors(X)\n",
    "        sub = ind2sub(xdt.shape,ind)\n",
    "        dti = dt[sub[0],sub[1],:]\n",
    "        dti = np.reshape(dti,DD)\n",
    "        dt = dti\n",
    "    # whether there is reference mask\n",
    "    if ty[I] == '2010':\n",
    "        mask_ref = True\n",
    "    else:\n",
    "        mask_ref = False\n",
    "    \n",
    "    # generate parameter csv\n",
    "    pm_info = OrderedDict()\n",
    "    pm_info['data_dim'] = DD\n",
    "    pm_info['baseline_datapath'] = [blfn]\n",
    "    pm_info['timelapse_datapath'] = [tlfn]\n",
    "    pm_info['patch_osize'] = [Nh,Nt]\n",
    "    pm_info['patch_nsize'] = rs\n",
    "    pm_info['patch_number'] = [Nsi,Nsx,Nst]\n",
    "    pm_info['sample_strategy'] = stg\n",
    "    pm_info['max_0co2'] = None\n",
    "    pm_info['inline_itp'] = inline_itp.tolist()\n",
    "    pm_info['xline_itp'] = xline_itp.tolist()\n",
    "    with open(f'{outpath}/pm_info.json','w') as f:\n",
    "        f.write(json.dumps(pm_info))\n",
    "    with open(f'{outpath}/pm_info.json','r') as read_file:\n",
    "        loaded_pm = json.loads(read_file.read())\n",
    "        print(loaded_pm)\n",
    "    # normalize d0 and dt\n",
    "    d0N = (d0-np.mean(d0))/(np.std(d0)+eps)\n",
    "    dtN = (dt-np.mean(dt))/(np.std(dt)+eps)\n",
    "    # save d0 and dt to outpath\n",
    "    d0N.tofile(f'{outpath}/d0.dat')\n",
    "    dtN.tofile(f'{outpath}/dt.dat')\n",
    "    # generate patches\n",
    "    ixswitch = Nsx*Nst*Nitp\n",
    "    patch_info = []\n",
    "    c = 0\n",
    "    for i in range(len(Isample)):\n",
    "        Is = Isample[i]\n",
    "        Xs = Xsample[i]\n",
    "        Ts = Tsample[i]\n",
    "        # slice the data and mask correspondingly\n",
    "        if i<ixswitch:\n",
    "            R0 = d0N[Is,Xs-hNh:Xs+hNh1:2,Ts-hNt:Ts+hNt1:4]\n",
    "            Rt = dtN[Is,Xs-hNh:Xs+hNh1:2,Ts-hNt:Ts+hNt1:4]\n",
    "            if mask_ref:\n",
    "                M = masks[Is,Xs-hNh:Xs+hNh1:2,Ts-hNt:Ts+hNt1:4]     \n",
    "        else:\n",
    "            R0 = d0N[Is-hNh:Is+hNh1:2,Xs,Ts-hNt:Ts+hNt1:4]\n",
    "            Rt = dtN[Is-hNh:Is+hNh1:2,Xs,Ts-hNt:Ts+hNt1:4]\n",
    "            if mask_ref:\n",
    "                M = masks[Is-hNh:Is+hNh1:2,Xs,Ts-hNt:Ts+hNt1:4]\n",
    "        # normalize R0 and Rt respectively\n",
    "        Rm0,Rs0 = np.mean(R0),np.std(R0)\n",
    "        Rmt,Rst = np.mean(Rt),np.std(Rt)\n",
    "        R0 = (R0-Rm0)/(Rs0+eps)\n",
    "        Rt = (Rt-Rmt)/(Rst+eps)\n",
    "        # stack R0 and Rt\n",
    "        R0t = np.stack((R0,Rt))\n",
    "        # save the patches and corresponding masks to outpath\n",
    "        R0t.tofile(f'{outpath}/R0t_{c}.dat')\n",
    "        # record the patch information in patch_info dict\n",
    "        pf = OrderedDict()\n",
    "        pf['Ptch_id'] = c\n",
    "        pf['Mask_id'] = c\n",
    "        pf['ct'] = [Is,Xs,Ts]\n",
    "        pf['mean'] = [Rm0,Rmt]\n",
    "        pf['std'] = [Rs0,Rst]\n",
    "        patch_info.append(pf)\n",
    "        if mask_ref:\n",
    "            M.tofile(f'{outpath}/Mask_{c}.dat')\n",
    "        c += 1\n",
    "    # save the patch info\n",
    "    pd.DataFrame.from_dict(patch_info, orient='columns').to_csv(f'{outpath}/patch_info.csv')\n",
    "    print(f'///////////////////////////////////////////////////')\n",
    "    print(f'Final patch number for {year}: {len(patch_info)}')"
   ]
  },
  {
   "cell_type": "code",
   "execution_count": null,
   "metadata": {},
   "outputs": [],
   "source": []
  },
  {
   "cell_type": "code",
   "execution_count": null,
   "metadata": {},
   "outputs": [],
   "source": []
  }
 ],
 "metadata": {
  "kernelspec": {
   "display_name": "Python 3",
   "language": "python",
   "name": "python3"
  },
  "language_info": {
   "codemirror_mode": {
    "name": "ipython",
    "version": 3
   },
   "file_extension": ".py",
   "mimetype": "text/x-python",
   "name": "python",
   "nbconvert_exporter": "python",
   "pygments_lexer": "ipython3",
   "version": "3.7.4"
  },
  "toc": {
   "base_numbering": 1,
   "nav_menu": {},
   "number_sections": true,
   "sideBar": true,
   "skip_h1_title": false,
   "title_cell": "Table of Contents",
   "title_sidebar": "Contents",
   "toc_cell": false,
   "toc_position": {
    "height": "calc(100% - 180px)",
    "left": "10px",
    "top": "150px",
    "width": "265.875px"
   },
   "toc_section_display": true,
   "toc_window_display": true
  },
  "varInspector": {
   "cols": {
    "lenName": 16,
    "lenType": 16,
    "lenVar": 40
   },
   "kernels_config": {
    "python": {
     "delete_cmd_postfix": "",
     "delete_cmd_prefix": "del ",
     "library": "var_list.py",
     "varRefreshCmd": "print(var_dic_list())"
    },
    "r": {
     "delete_cmd_postfix": ") ",
     "delete_cmd_prefix": "rm(",
     "library": "var_list.r",
     "varRefreshCmd": "cat(var_dic_list()) "
    }
   },
   "types_to_exclude": [
    "module",
    "function",
    "builtin_function_or_method",
    "instance",
    "_Feature"
   ],
   "window_display": false
  }
 },
 "nbformat": 4,
 "nbformat_minor": 2
}
