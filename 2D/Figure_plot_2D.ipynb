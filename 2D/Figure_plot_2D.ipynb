{
 "cells": [
  {
   "cell_type": "code",
   "execution_count": null,
   "metadata": {},
   "outputs": [],
   "source": [
    "%load_ext autoreload\n",
    "%autoreload 2\n",
    "from labeling import dataload\n",
    "import matplotlib.colors as pcl\n",
    "import matplotlib.cm as cm\n",
    "from mpl_toolkits.mplot3d import Axes3D\n",
    "from CO2_identify import *\n",
    "from mynetwork import CO2mask\n",
    "from torch.utils.data import DataLoader\n",
    "from scipy.ndimage import gaussian_filter\n",
    "from torchvision.transforms.functional import resize\n",
    "\n",
    "\n",
    "import torchvision\n",
    "import torch\n",
    "import torch.optim as optim\n",
    "import torch.nn.functional as F\n",
    "import numpy as np\n",
    "import pandas as pd\n",
    "import json\n",
    "from torchstat import stat"
   ]
  },
  {
   "cell_type": "markdown",
   "metadata": {},
   "source": [
    "# Display 2D U-net predictions"
   ]
  },
  {
   "cell_type": "code",
   "execution_count": null,
   "metadata": {},
   "outputs": [],
   "source": [
    "outpath = '../figures'"
   ]
  },
  {
   "cell_type": "markdown",
   "metadata": {},
   "source": [
    "## get basic pathes"
   ]
  },
  {
   "cell_type": "code",
   "execution_count": null,
   "metadata": {},
   "outputs": [],
   "source": [
    "fn = '../define_path.txt'\n",
    "with open(fn) as f:\n",
    "    lines = f.readlines()\n",
    "for idx, line in enumerate(lines):\n",
    "    if idx == 1:\n",
    "        dir_co2 = line.split('=')[1][:-1]\n",
    "    if idx == 13:\n",
    "        train_2DU = line.split('=')[1][:-1]\n",
    "    if idx == 15:\n",
    "        test2D = line.split('=')[1][:-1]\n",
    "\n",
    "fn_tsmask = 'tsMask.dat'\n",
    "path_bestnet = '../resources/NNpred2D/co2_identify_best.pt'"
   ]
  },
  {
   "cell_type": "markdown",
   "metadata": {},
   "source": [
    "## plot training patches and print them"
   ]
  },
  {
   "cell_type": "code",
   "execution_count": null,
   "metadata": {},
   "outputs": [],
   "source": [
    "# sample training patch\n",
    "train_id = [562,1009]"
   ]
  },
  {
   "cell_type": "code",
   "execution_count": null,
   "metadata": {},
   "outputs": [],
   "source": [
    "# load the network\n",
    "networktest = CO2mask()\n",
    "networktest.load_state_dict(torch.load(f'{path_bestnet}',map_location=torch.device('cpu')))\n",
    "networktest = networktest.eval()"
   ]
  },
  {
   "cell_type": "code",
   "execution_count": null,
   "metadata": {},
   "outputs": [],
   "source": [
    "ptf = 'patch_info_train.csv'\n",
    "# readin in patch information file\n",
    "pf = pd.read_csv(f'{train_2DU}/{ptf}')\n",
    "pid = pf['Ptch_id']\n",
    "mid = pf['Mask_id']\n",
    "R0 = []\n",
    "Rt = []\n",
    "mr = []\n",
    "mp = []\n",
    "for i in train_id:\n",
    "    R0t = np.fromfile(f'{train_2DU}/R0t_{pid[i]}.dat',dtype=np.float32)\n",
    "    R0t = np.reshape(R0t,(2,64,64))\n",
    "    R0.append(R0t[0])\n",
    "    Rt.append(R0t[1])\n",
    "    Mr = np.fromfile(f'{train_2DU}/Mask_{mid[i]}.dat',dtype=np.float32)\n",
    "    Mr = np.reshape(Mr,(64,64))\n",
    "    mr.append(Mr)\n",
    "    Mp = networktest(torch.tensor(R0t).unsqueeze(0)).detach().numpy()[0,0]\n",
    "    mp.append(Mp)"
   ]
  },
  {
   "cell_type": "code",
   "execution_count": null,
   "metadata": {
    "scrolled": true
   },
   "outputs": [],
   "source": [
    "# plot all 2D figures for the two training patches\n",
    "for i in range(2):\n",
    "    # plot R0\n",
    "    fig,ax = plt.subplots(1,1,figsize=(6,6))\n",
    "    ax.imshow(R0[i].T,aspect=1,cmap='gray',interpolation='bilinear')\n",
    "    ax.axis('off')\n",
    "    fig.savefig(f'{outpath}/figD2-1_R0_{i}.png',dpi=300)\n",
    "    # plot Rt\n",
    "    fig,ax = plt.subplots(1,1,figsize=(6,6))\n",
    "    ax.imshow(Rt[i].T,aspect=1,cmap='gray',interpolation='bilinear')\n",
    "    ax.axis('off')\n",
    "    fig.savefig(f'{outpath}/figD2-1_Rt_{i}.png',dpi=300)\n",
    "    # plot Mr\n",
    "    fig,ax = plt.subplots(1,1,figsize=(6,6))\n",
    "    ax.imshow(mr[i].T,aspect=1,cmap='gray',interpolation='bilinear',vmin=0,vmax=1)\n",
    "    ax.axis('off')\n",
    "    fig.savefig(f'{outpath}/figD2-1_mr_{i}.png',dpi=300)\n",
    "    # plot Mp\n",
    "    fig,ax = plt.subplots(1,1,figsize=(6,6))\n",
    "    ax.imshow(mp[i].T,aspect=1,cmap='gray',interpolation='bilinear',vmin=0,vmax=1)\n",
    "    ax.axis('off')\n",
    "    fig.savefig(f'{outpath}/figD2-1_mp_{i}.png',dpi=300)\n",
    "    "
   ]
  },
  {
   "cell_type": "markdown",
   "metadata": {},
   "source": [
    "## plot test results"
   ]
  },
  {
   "cell_type": "markdown",
   "metadata": {},
   "source": [
    "### define the 3D ploting function"
   ]
  },
  {
   "cell_type": "code",
   "execution_count": null,
   "metadata": {},
   "outputs": [],
   "source": [
    "# define 3D plot function\n",
    "def show3D(md, ax=None, xyz=None, xyzi=(0,0,0), ea=(30,-25), clip=1, rcstride=(1,1), clim=None, tl=None):\n",
    "    r'''plot 3D cube image:\n",
    "        md-3-D data volume (3darray, float, (n1,n2,n3))\n",
    "        ax-plot axis (None or a given ax)\n",
    "        xyz-3-D axes coordinates (list, 1darray, (3,))\n",
    "        xyzi-position of three slicing image indices (tuple, int, (3,))\n",
    "        ea-viewing angle (tuple, float, (2,))\n",
    "        clip-image clipping (scalar, float, <1)\n",
    "        rcstride-2-D plotting stride (tuple, int, (2,))\n",
    "        clim-colorbar range (None or tuple, int, (2,)): if it is not None, clip is overwritten'''\n",
    "    \n",
    "    # get default coordinates\n",
    "    nx,ny,nz = md.shape\n",
    "    if xyz is None:\n",
    "        xyz = [np.arange(nx),np.arange(ny),np.arange(nz)]\n",
    "    # slice zero index image along each dimension\n",
    "    mx = md[xyzi[0],:,:].transpose()\n",
    "    my = md[:,xyzi[1],:].transpose()\n",
    "    mz = md[:,:,xyzi[2]].transpose()\n",
    "    MIN = min([np.amin(mx),np.amin(my),np.amin(mz)])\n",
    "    MAX = max([np.amax(mx),np.amax(my),np.amax(mz)])\n",
    "    if clim is None:\n",
    "        cN = pcl.Normalize(vmin=MIN*clip, vmax=MAX*clip)\n",
    "        rg = [MIN*clip,(MAX-MIN)*clip]\n",
    "    else:\n",
    "        cN = pcl.Normalize(vmin=clim[0], vmax=clim[1])\n",
    "        rg = [clim[0],clim[1]-clim[0]]\n",
    "    # plot the model\n",
    "    if ax is None:\n",
    "        fig = plt.figure(figsize=(15,10))\n",
    "        ax = fig.add_subplot(1,1,1,projection='3d')\n",
    "    else:\n",
    "        fig = None\n",
    "    \n",
    "    # plot the indicator line\n",
    "    xi = xyz[0][xyzi[0]]\n",
    "    yi = xyz[1][xyzi[1]]\n",
    "    zi = xyz[2][xyzi[2]]\n",
    "    ax.plot([xi,xi],[xyz[1][0],xyz[1][0]],[xyz[2][0],xyz[2][-1]],'r-',linewidth=2,zorder=10)\n",
    "    ax.plot([xi,xi],[xyz[1][0],xyz[1][-1]],[xyz[2][0],xyz[2][0]],'r-',linewidth=2,zorder=10)\n",
    "    ax.plot([xyz[0][0],xyz[0][0]],[yi,yi],[xyz[2][0],xyz[2][-1]],'r-',linewidth=2,zorder=10)\n",
    "    ax.plot([xyz[0][0],xyz[0][-1]],[yi,yi],[xyz[2][0],xyz[2][0]],'r-',linewidth=2,zorder=10)\n",
    "    ax.plot([xyz[0][0],xyz[0][-1]],[xyz[1][0],xyz[1][0]],[zi,zi],'r-',linewidth=2,zorder=10)\n",
    "    ax.plot([xyz[0][0],xyz[0][0]],[xyz[1][0],xyz[1][-1]],[zi,zi],'r-',linewidth=2,zorder=10)\n",
    "    \n",
    "    # plot the three surfaces\n",
    "    ax = slice_show(ax, mz, xyz, 0, rg=rg, rcstride=rcstride)\n",
    "    ax = slice_show(ax, mx, xyz, 1, rg=rg, rcstride=rcstride)\n",
    "    ax = slice_show(ax, my, xyz, 2, rg=rg, rcstride=rcstride)\n",
    "    \n",
    "    # set the axes\n",
    "    ax.set_xticks(np.linspace(0,4000,3))\n",
    "    ax.set_yticks(np.linspace(0,8000,5))\n",
    "    ax.set_zticks(np.linspace(0,2,5))\n",
    "    for tick in ax.xaxis.get_major_ticks():\n",
    "        tick.label.set_fontsize(15)\n",
    "    for tick in ax.yaxis.get_major_ticks():\n",
    "        tick.label.set_fontsize(15) \n",
    "    for tick in ax.zaxis.get_major_ticks():\n",
    "        tick.label.set_fontsize(15) \n",
    "    if tl is not None:\n",
    "        ax.set_title(tl,fontsize=15)\n",
    "    ax.view_init(elev=ea[0],azim=ea[1])\n",
    "    ax.invert_zaxis()\n",
    "    ax.invert_xaxis()\n",
    "    ax.set_xlabel('Inline (m)',fontsize=20,labelpad=20)\n",
    "    ax.set_ylabel('Xline (m)',fontsize=20,labelpad=20)\n",
    "    ax.set_zlabel('T (s)',fontsize=20,labelpad=10)\n",
    "    r'''\n",
    "    if cb:\n",
    "        plt.colorbar(cm.ScalarMappable(norm=cN, cmap='gray'))\n",
    "    plt.show()\n",
    "    '''\n",
    "    return fig\n",
    "\n",
    "def slice_show(ax, ms, xyz, od, rg=None, offset=0, rcstride=(10,10)):\n",
    "    r'''show specific slice of model'''\n",
    "    \n",
    "    if rg is None:\n",
    "        shift = np.amin(ms)\n",
    "        normalizer = np.amax(ms)-shift\n",
    "    else:\n",
    "        shift = rg[0]\n",
    "        normalizer = rg[1]\n",
    "    if normalizer == 0:\n",
    "        msN = np.zeros_like(ms)+0.5\n",
    "    else:\n",
    "        msN = (ms-shift)/normalizer\n",
    "    colors = plt.cm.gray(msN)\n",
    "    if od == 0:\n",
    "        [X,Y] = np.meshgrid(xyz[0],xyz[1])\n",
    "        Z = np.zeros_like(X)+xyz[2][0]+offset\n",
    "    if od == 1:\n",
    "        [Y,Z] = np.meshgrid(xyz[1],xyz[2])\n",
    "        X = np.zeros_like(Y)+xyz[0][0]+offset\n",
    "    if od == 2:\n",
    "        [X,Z] = np.meshgrid(xyz[0],xyz[2])\n",
    "        Y = np.zeros_like(X)+xyz[1][0]+offset\n",
    "    surf = ax.plot_surface(X, Y, Z, \n",
    "                           facecolors=colors, rstride=rcstride[0], cstride=rcstride[1], zorder=1)\n",
    "    \n",
    "    return ax"
   ]
  },
  {
   "cell_type": "code",
   "execution_count": null,
   "metadata": {},
   "outputs": [],
   "source": [
    "# readin reference dataset information\n",
    "xydfn = f'{dir_co2}/10p10/2010 processing/data/10p10nea.sgy'\n",
    "Dr = dataload(fn=xydfn)\n",
    "_,xd,yd,td = Dr.getdata()\n",
    "DD = (Dr.nx,Dr.ny,Dr.nt)"
   ]
  },
  {
   "cell_type": "code",
   "execution_count": null,
   "metadata": {},
   "outputs": [],
   "source": [
    "# generate X,Y and Z\n",
    "xm = np.amin(xd)\n",
    "ym = np.amin(yd)\n",
    "x = xd[:,0]-xm\n",
    "y = yd[0,:]-ym\n",
    "z = td\n",
    "xyz = [x,y,z]"
   ]
  },
  {
   "cell_type": "markdown",
   "metadata": {},
   "source": [
    "### plot 3D results"
   ]
  },
  {
   "cell_type": "code",
   "execution_count": null,
   "metadata": {},
   "outputs": [],
   "source": [
    "# two tests\n",
    "year = ['2010_b01_t10','2004_b01_t07']\n",
    "nyear = len(year)\n",
    "Mask = []\n",
    "for i in range(nyear):\n",
    "    mask= np.fromfile(f'{test2D}/{year[i]}/test/tsMask.dat',dtype=np.float32)\n",
    "    mask = np.reshape(mask,DD)\n",
    "    Mask.append(mask)\n",
    "    fig = show3D(mask,xyz=xyz,xyzi=(DD[0]//2,DD[1]//2,DD[2]//2),clim=[0,1])\n",
    "    fig.savefig(f'{outpath}/figD2-2_mask_pred_{year[i]}.png',dpi=300)"
   ]
  },
  {
   "cell_type": "markdown",
   "metadata": {},
   "source": [
    "### plot 2D layer results"
   ]
  },
  {
   "cell_type": "code",
   "execution_count": null,
   "metadata": {},
   "outputs": [],
   "source": [
    "path = f'../resources/label'\n",
    "N = 9 # number of CO2 layers\n",
    "lyidx = [0]\n",
    "nfn = nyear"
   ]
  },
  {
   "cell_type": "code",
   "execution_count": null,
   "metadata": {},
   "outputs": [],
   "source": [
    "# load the T_top and T_base\n",
    "T_top = np.fromfile(f'{path}/T_top.dat',dtype=np.float64)\n",
    "T_base = np.fromfile(f'{path}/T_base.dat',dtype=np.float64)\n",
    "T_top = np.reshape(T_top,(N,DD[0],DD[1]))\n",
    "T_base = np.reshape(T_base,(N,DD[0],DD[1]))"
   ]
  },
  {
   "cell_type": "code",
   "execution_count": null,
   "metadata": {},
   "outputs": [],
   "source": [
    "# derive certain layer of predictions\n",
    "lmp = np.zeros((nfn,len(lyidx),DD[0],DD[1]),dtype=np.float32)\n",
    "for i,j in product(range(DD[0]),range(DD[1])):\n",
    "    for c,k in enumerate(lyidx):\n",
    "        Ttk = T_top[N-k-1,i,j]\n",
    "        Tbk = T_base[N-k-1,i,j]\n",
    "        mk = (td>=Ttk) * (td<=Tbk)\n",
    "        if np.sum(mk) == 0:\n",
    "            continue\n",
    "        for n in range(nfn):\n",
    "            lmp[n,c,i,j] = np.mean(Mask[n][i,j,mk])    "
   ]
  },
  {
   "cell_type": "code",
   "execution_count": null,
   "metadata": {},
   "outputs": [],
   "source": [
    "xa = xd[:,0]-np.amin(xd[:,0])\n",
    "ya = yd[0,:]-np.amin(yd[0,:])"
   ]
  },
  {
   "cell_type": "code",
   "execution_count": null,
   "metadata": {},
   "outputs": [],
   "source": [
    "for i in range(nfn):   \n",
    "    for j in range(len(lyidx)):                                                             \n",
    "        print(f'plot the pred CO2 plume from test dataset {year[i]}:')\n",
    "        fig,ax = plt.subplots(1,1,figsize=(4,8))\n",
    "        ax.imshow(lmp[i,j].T,aspect=0.8,cmap='seismic',vmin=0,vmax=1,\n",
    "                  extent=(xa[0],xa[-1],ya[0],ya[-1]))\n",
    "        ax.set_ylabel('Xline (m)', fontsize=20)\n",
    "        ax.set_xlabel('Inline (m)', fontsize=20)\n",
    "        ytick = np.linspace(0,7000,5,dtype=np.int16) \n",
    "        xtick = np.linspace(0,xa[-1],3,dtype=np.int16)\n",
    "        ax.set_xticks(xtick[1:])\n",
    "        ax.set_xticklabels([f'{k}' for k in xtick[1:]],fontsize=15)\n",
    "        ax.set_yticks(ytick)\n",
    "        ax.set_yticklabels([f'{k}' for k in ytick],fontsize=15)\n",
    "        for axis in ['top','bottom','left','right']:\n",
    "            ax.spines[axis].set_linewidth(2)\n",
    "        BB = ax.get_position()\n",
    "        BB.y0 = 0\n",
    "        BB.x0 = -0.5\n",
    "        BB.y1 = 8\n",
    "        BB.x1 = 4\n",
    "        fig.savefig(f'{outpath}/figD2-3_mask_pred_{year[i]}_{lyidx[j]}.png',dpi=300,bbox_inches=BB)"
   ]
  }
 ],
 "metadata": {
  "kernelspec": {
   "display_name": "Python 3",
   "language": "python",
   "name": "python3"
  },
  "language_info": {
   "codemirror_mode": {
    "name": "ipython",
    "version": 3
   },
   "file_extension": ".py",
   "mimetype": "text/x-python",
   "name": "python",
   "nbconvert_exporter": "python",
   "pygments_lexer": "ipython3",
   "version": "3.7.4"
  },
  "toc": {
   "base_numbering": 1,
   "nav_menu": {},
   "number_sections": true,
   "sideBar": true,
   "skip_h1_title": false,
   "title_cell": "Table of Contents",
   "title_sidebar": "Contents",
   "toc_cell": false,
   "toc_position": {
    "height": "calc(100% - 180px)",
    "left": "10px",
    "top": "150px",
    "width": "165px"
   },
   "toc_section_display": true,
   "toc_window_display": true
  },
  "varInspector": {
   "cols": {
    "lenName": 16,
    "lenType": 16,
    "lenVar": 40
   },
   "kernels_config": {
    "python": {
     "delete_cmd_postfix": "",
     "delete_cmd_prefix": "del ",
     "library": "var_list.py",
     "varRefreshCmd": "print(var_dic_list())"
    },
    "r": {
     "delete_cmd_postfix": ") ",
     "delete_cmd_prefix": "rm(",
     "library": "var_list.r",
     "varRefreshCmd": "cat(var_dic_list()) "
    }
   },
   "types_to_exclude": [
    "module",
    "function",
    "builtin_function_or_method",
    "instance",
    "_Feature"
   ],
   "window_display": false
  }
 },
 "nbformat": 4,
 "nbformat_minor": 2
}
