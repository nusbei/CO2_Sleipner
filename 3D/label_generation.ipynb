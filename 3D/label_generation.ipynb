{
 "cells": [
  {
   "cell_type": "code",
   "execution_count": null,
   "metadata": {},
   "outputs": [],
   "source": [
    "%load_ext autoreload\n",
    "%autoreload 2\n",
    "from labeling import *\n",
    "from scipy.ndimage import gaussian_filter1d, gaussian_filter\n",
    "from scipy.interpolate import RegularGridInterpolator\n",
    "from mpl_toolkits.mplot3d import Axes3D\n",
    "import matplotlib.pyplot as plt\n",
    "import matplotlib.colors as plc\n",
    "import matplotlib.cm as cm"
   ]
  },
  {
   "cell_type": "markdown",
   "metadata": {},
   "source": [
    "## Data and model information"
   ]
  },
  {
   "cell_type": "code",
   "execution_count": null,
   "metadata": {},
   "outputs": [],
   "source": [
    "fn = '../label_information.txt'\n",
    "with open(fn) as f:\n",
    "    lines = f.readlines()\n",
    "for idx, line in enumerate(lines):\n",
    "    if idx == 1:\n",
    "        dir_co2 = line.split('=')[1][1:-2]\n",
    "    if idx == 3:\n",
    "        dir_grid = line.split('=')[1][1:-1]"
   ]
  },
  {
   "cell_type": "code",
   "execution_count": null,
   "metadata": {
    "scrolled": true
   },
   "outputs": [],
   "source": [
    "# loading data class for reference grid information\n",
    "fn = f'{dir_co2}/10p10/2010 processing/data/10p10nea.sgy'\n",
    "d = dataload(fn=fn)"
   ]
  },
  {
   "cell_type": "code",
   "execution_count": null,
   "metadata": {},
   "outputs": [],
   "source": [
    "# get the entire dataset\n",
    "di,xd,yd,td = d.getdata()\n",
    "nt = len(td) # number of samples per trace"
   ]
  },
  {
   "cell_type": "code",
   "execution_count": null,
   "metadata": {},
   "outputs": [],
   "source": [
    "# depth surface and interval velocity class\n",
    "S = surfaces(dir_grid=dir_grid)"
   ]
  },
  {
   "cell_type": "code",
   "execution_count": null,
   "metadata": {
    "scrolled": true
   },
   "outputs": [],
   "source": [
    "# get the depth surfaces and corresponding corrdinates\n",
    "D,xs,ys = S.get_data(S.path_ds,S.fnd,flip=True)\n",
    "nfd = D.shape[0]"
   ]
  },
  {
   "cell_type": "code",
   "execution_count": null,
   "metadata": {},
   "outputs": [],
   "source": [
    "# expand depth surfaces according to xd,yd\n",
    "eds = expand_xy(xs,ys,xd,yd)\n",
    "De = eds.expand_m(D)"
   ]
  },
  {
   "cell_type": "code",
   "execution_count": null,
   "metadata": {},
   "outputs": [],
   "source": [
    "xyd = np.stack((xd.flatten(),yd.flatten()),axis=1)\n",
    "# interpolate depth srufaces from De to Di in the expanded coordinates\n",
    "Di = np.zeros((nfd,d.nx,d.ny),dtype=np.float32)\n",
    "for i in range(nfd):\n",
    "    funDi = RegularGridInterpolator((eds.xv,eds.yv), De[i])\n",
    "    Di[i] = np.reshape(funDi(xyd),(d.nx,d.ny))\n",
    "    #RectBivariateSpline(eds.xv,eds.yv,De[i])\n",
    "    #Di[i] = funDi.ev(xd,yd)"
   ]
  },
  {
   "cell_type": "code",
   "execution_count": null,
   "metadata": {},
   "outputs": [],
   "source": [
    "# get the interval velocity and corresponding corrdinates\n",
    "V,xv,yv = S.get_data(S.path_vs,S.fnv,flip=True)\n",
    "nfv = V.shape[0]\n",
    "sidx = [1,2,-1] "
   ]
  },
  {
   "cell_type": "code",
   "execution_count": null,
   "metadata": {},
   "outputs": [],
   "source": [
    "# expand depth surfaces according to xd,yd\n",
    "edv = expand_xy(xv,yv,xd,yd)\n",
    "Ve = edv.expand_m(V)"
   ]
  },
  {
   "cell_type": "code",
   "execution_count": null,
   "metadata": {},
   "outputs": [],
   "source": [
    "# interpolate depth srufaces from De to Di in the expanded coordinates\n",
    "Vi = np.zeros((nfv,d.nx,d.ny),dtype=np.float32)\n",
    "for i in range(nfv):\n",
    "    funVi = RegularGridInterpolator((edv.xv,edv.yv),Ve[i])\n",
    "    Vi[i] = np.reshape(funVi(xyd),(d.nx,d.ny))"
   ]
  },
  {
   "cell_type": "code",
   "execution_count": null,
   "metadata": {},
   "outputs": [],
   "source": [
    "# CO2 plume boundaries\n",
    "cpb = CO2_pb(dir_grid=dir_grid)"
   ]
  },
  {
   "cell_type": "markdown",
   "metadata": {},
   "source": [
    "## Attempt to invert for CO2 layer thickness"
   ]
  },
  {
   "cell_type": "markdown",
   "metadata": {},
   "source": [
    "### Some information for inverting CO2 layer thickness"
   ]
  },
  {
   "cell_type": "code",
   "execution_count": null,
   "metadata": {},
   "outputs": [],
   "source": [
    "xm = np.amin(xs)\n",
    "ym = np.amin(ys)\n",
    "fig,ax = plt.subplots(1,1,figsize=(5,10))\n",
    "ax.scatter(xs-xm,ys-ym,c='r')\n",
    "ax.scatter(cpb.xb[1]-xm,cpb.yb[1]-ym,c='b')\n",
    "ax.axis('equal')\n",
    "ax.set_ylim(3800,4200)\n",
    "ax.set_xlim(1800,2200)"
   ]
  },
  {
   "cell_type": "code",
   "execution_count": null,
   "metadata": {},
   "outputs": [],
   "source": [
    "# interpolate depth srufaces from De to Di in the expanded coordinates\n",
    "Dpbt = []\n",
    "Dpbb = []\n",
    "tk = []\n",
    "for i in range(cpb.nf):\n",
    "    funDi = RegularGridInterpolator((eds.xv,eds.yv),De[nfd-(i+1)*2])\n",
    "    Dpbt.append(funDi(np.stack((cpb.xb[i],cpb.yb[i]),axis=1)))\n",
    "    funDi = RegularGridInterpolator((eds.xv,eds.yv),De[nfd-(i+1)*2+1])\n",
    "    Dpbb.append(funDi(np.stack((cpb.xb[i],cpb.yb[i]),axis=1)))\n",
    "for i in range(cpb.nf):    \n",
    "    tk.append(Dpbb[i]-Dpbt[i])"
   ]
  },
  {
   "cell_type": "code",
   "execution_count": null,
   "metadata": {},
   "outputs": [],
   "source": [
    "# add the thickness of co2 layer on the boundary\n",
    "Dpb0 = []\n",
    "for i in range(cpb.nf):\n",
    "    Dpb0.append(Dpbt[i]+cpb.ab[i]*20)"
   ]
  },
  {
   "cell_type": "code",
   "execution_count": null,
   "metadata": {},
   "outputs": [],
   "source": [
    "fig,ax = plt.subplots(1,1,figsize=(15,5))\n",
    "ax.plot(Dpbt[-8],'r')\n",
    "ax.plot(Dpbb[-8],'k')\n",
    "ax.plot(Dpb0[-8],'b')\n",
    "ax.invert_yaxis()"
   ]
  },
  {
   "cell_type": "markdown",
   "metadata": {},
   "source": [
    "### Equation for co2 thickness inversion\n",
    "$$ J = \\lVert \\nabla^2d(x,y)\\rVert_2^2 $$\n",
    "s.t.,\n",
    "$$ d(x_b,y_b) = d_0 $$\n",
    "$$ d_{st}\\le d(x,y)\\le d_{sb}$$"
   ]
  },
  {
   "cell_type": "markdown",
   "metadata": {},
   "source": [
    "## Display the deepest Depth surface with CO2 plume boundary"
   ]
  },
  {
   "cell_type": "code",
   "execution_count": null,
   "metadata": {},
   "outputs": [],
   "source": [
    "i = -1\n",
    "LNo = 0\n",
    "PlgNo = [0,1]\n",
    "xb_layer,yb_layer,pn_layer = cpb.xb[LNo],cpb.yb[LNo],cpb.pn[LNo]\n",
    "# plot the plume boundary\n",
    "fig = plt.figure(figsize=(10,17))\n",
    "ax = fig.add_subplot(111, projection='3d')\n",
    "cN = plc.Normalize(vmin=np.amin(De[i]), vmax=np.amax(De[i]))\n",
    "colors2 = plt.cm.seismic(cN(Di[i]))\n",
    "ax.plot_surface(xd-np.amin(xd),yd-np.amin(yd),np.zeros_like(yd),\n",
    "                facecolors=colors2,alpha=0.5,shade=False)\n",
    "for i in PlgNo:\n",
    "    mask = (pn_layer==i)\n",
    "    xbi = xb_layer[mask]\n",
    "    ybi = yb_layer[mask]\n",
    "    xbi = np.append(xbi,xbi[0])\n",
    "    ybi = np.append(ybi,ybi[0])\n",
    "    ax.plot(xbi-np.amin(xd),ybi-np.amin(yd),zs=np.zeros(len(xbi))-0.01,color='k')\n",
    "\n",
    "ax.view_init(elev=90,azim=-90)\n",
    "ax.set_xlabel('x (m)')\n",
    "ax.set_ylabel('y (m)')\n",
    "#ax.invert_xaxis()\n",
    "ax.grid(False)\n",
    "_ = ax.set_zticks([])\n",
    "cb = fig.colorbar(cm.ScalarMappable(norm=cN, cmap='seismic'))\n",
    "cb.ax.tick_params(labelsize=25)"
   ]
  },
  {
   "cell_type": "markdown",
   "metadata": {},
   "source": [
    "## Display the middle interval velocity with CO2 plume boundary"
   ]
  },
  {
   "cell_type": "code",
   "execution_count": null,
   "metadata": {},
   "outputs": [],
   "source": [
    "i = 1\n",
    "LNo = -1\n",
    "PlgNo = [0,1,2,3,4]\n",
    "xb_layer,yb_layer,pn_layer = cpb.xb[LNo],cpb.yb[LNo],cpb.pn[LNo]\n",
    "# plot the plume boundary\n",
    "fig = plt.figure(figsize=(10,17))\n",
    "ax = fig.add_subplot(111, projection='3d')\n",
    "cN = plc.Normalize(vmin=np.amin(Ve[i]), vmax=np.amax(Ve[i]))\n",
    "colors2 = plt.cm.seismic(cN(Vi[i]))\n",
    "ax.plot_surface(xd-np.amin(xd),yd-np.amin(yd),np.zeros_like(yd),\n",
    "                facecolors=colors2,alpha=0.5,shade=False)\n",
    "for i in PlgNo:\n",
    "    mask = (pn_layer==i)\n",
    "    xbi = xb_layer[mask]\n",
    "    ybi = yb_layer[mask]\n",
    "    xbi = np.append(xbi,xbi[0])\n",
    "    ybi = np.append(ybi,ybi[0])\n",
    "    ax.plot(xbi-np.amin(xd),ybi-np.amin(yd),zs=np.zeros(len(xbi))-0.01,color='k')\n",
    "\n",
    "ax.view_init(elev=90,azim=-90)\n",
    "ax.set_xlabel('x (m)')\n",
    "ax.set_ylabel('y (m)')\n",
    "#ax.invert_xaxis()\n",
    "ax.grid(False)\n",
    "_ = ax.set_zticks([])\n",
    "cb = fig.colorbar(cm.ScalarMappable(norm=cN, cmap='seismic'))\n",
    "cb.ax.tick_params(labelsize=25)"
   ]
  },
  {
   "cell_type": "code",
   "execution_count": null,
   "metadata": {},
   "outputs": [],
   "source": [
    "# output CO2 plume boundary and y axis for matlab display\n",
    "r'''\n",
    "for i in range(len(cpb.xb)):\n",
    "    print(len(cpb.xb[i]))\n",
    "    np.array(cpb.xb[i]).tofile(f'/data/libei/co2_data/NNpred3D/cpbxb_{i}.dat')\n",
    "    np.array(cpb.yb[i]).tofile(f'/data/libei/co2_data/NNpred3D/cpbyb_{i}.dat')\n",
    "    np.array(cpb.pn[i]).tofile(f'/data/libei/co2_data/NNpred3D/cpbpn_{i}.dat')\n",
    "yd.tofile(f'../resources/label/yd.dat')\n",
    "'''"
   ]
  },
  {
   "cell_type": "markdown",
   "metadata": {},
   "source": [
    "## Compute the traveltime for all interfaces"
   ]
  },
  {
   "cell_type": "code",
   "execution_count": null,
   "metadata": {},
   "outputs": [],
   "source": [
    "# get the depth surfaces' arrivaltime\n",
    "T_ref = arrivaltime(Di,Vi,Di[sidx])"
   ]
  },
  {
   "cell_type": "markdown",
   "metadata": {},
   "source": [
    "## Display depth-to-time conversion for an example assemble"
   ]
  },
  {
   "cell_type": "code",
   "execution_count": null,
   "metadata": {},
   "outputs": [],
   "source": [
    "# display 2-way traveltime corresponding to all interfaces for given Inline section\n",
    "ind_Is = [134]\n",
    "ns = len(ind_Is)\n",
    "fig,ax = plt.subplots(ns,1,figsize = (15,7*ns))\n",
    "for j,k in enumerate(ind_Is):\n",
    "    if ns == 1:\n",
    "        tmp = ax\n",
    "    else:\n",
    "        tmp = ax[j]\n",
    "    for i in range(nfd):\n",
    "        tmp.plot(yd[0]-np.amin(yd[0]),Di[i,k,:])\n",
    "    tmp.set_xlabel('y (m)')\n",
    "    tmp.set_ylabel('z (m)')\n",
    "    #tmp.set_ylim(0,2)\n",
    "    tmp.invert_yaxis()\n",
    "    _ = tmp.set_title(f'Inline No. {k}')"
   ]
  },
  {
   "cell_type": "code",
   "execution_count": null,
   "metadata": {},
   "outputs": [],
   "source": [
    "# display 2-way traveltime corresponding to all interfaces for given Inline section\n",
    "ind_Is = [134]\n",
    "ns = len(ind_Is)\n",
    "fig,ax = plt.subplots(ns,1,figsize = (15,7*ns))\n",
    "for j,k in enumerate(ind_Is):\n",
    "    if ns == 1:\n",
    "        tmp = ax\n",
    "    else:\n",
    "        tmp = ax[j]\n",
    "    for i in range(nfd):\n",
    "        tmp.plot(yd[0]-np.amin(yd[0]),T_ref[i,k,:])\n",
    "    tmp.set_xlabel('y (m)')\n",
    "    tmp.set_ylabel('z (m)')\n",
    "    tmp.set_ylim(0,2)\n",
    "    tmp.invert_yaxis()\n",
    "    _ = tmp.set_title(f'Inline No. {k}')"
   ]
  },
  {
   "cell_type": "code",
   "execution_count": null,
   "metadata": {},
   "outputs": [],
   "source": [
    "# display the given inline section\n",
    "fig,ax = plt.subplots(ns,1,figsize = (15,7*ns))\n",
    "for j,k in enumerate(ind_Is):\n",
    "    if ns == 1:\n",
    "        tmp = ax\n",
    "    else:\n",
    "        tmp = ax[j]\n",
    "    for i in range(nfd):\n",
    "        tmp.imshow(di[k].T,extent=(yd[0][0]-np.amin(yd[0]),yd[0][-1]-np.amin(yd[0]),2,0),aspect=7000/2*8/18)\n",
    "    tmp.set_xlabel('y (m)')\n",
    "    tmp.set_ylabel('Time (s)')\n",
    "    tmp.set_ylim(0,2)\n",
    "    tmp.invert_yaxis()\n",
    "    _ = tmp.set_title(f'Inline No. {k}')"
   ]
  },
  {
   "cell_type": "code",
   "execution_count": null,
   "metadata": {},
   "outputs": [],
   "source": [
    "r'''## Smooth the time horizons horizontally\n",
    "for i in range(ds.nf):\n",
    "    T_ref[i] = gaussian_filter(T_ref[i],(10,10))'''"
   ]
  },
  {
   "cell_type": "markdown",
   "metadata": {},
   "source": [
    "## Generate CO2 masks in 3D"
   ]
  },
  {
   "cell_type": "code",
   "execution_count": null,
   "metadata": {},
   "outputs": [],
   "source": [
    "# get all layers top and base arrival time\n",
    "T_base = T_ref[-1:-18:-2,:,:] # top of the formatin\n",
    "T_top = T_ref[-2:-19:-2,:,:] # bottom of the formation"
   ]
  },
  {
   "cell_type": "code",
   "execution_count": null,
   "metadata": {
    "scrolled": true
   },
   "outputs": [],
   "source": [
    "mask_CO2 = cpb.CO2mask(xd,yd,td,T_top,T_base)"
   ]
  },
  {
   "cell_type": "code",
   "execution_count": null,
   "metadata": {},
   "outputs": [],
   "source": [
    "# smooth the mask along t,x and y direction\n",
    "mask_CO2s = gaussian_filter1d(mask_CO2,sigma=1,axis=1)\n",
    "mask_CO2s = gaussian_filter1d(mask_CO2s,sigma=1,axis=2)\n",
    "mask_CO2s = gaussian_filter1d(mask_CO2s,sigma=3,axis=0)"
   ]
  },
  {
   "cell_type": "markdown",
   "metadata": {},
   "source": [
    "## save the 3D mask and interface reflection arrival time"
   ]
  },
  {
   "cell_type": "code",
   "execution_count": null,
   "metadata": {},
   "outputs": [],
   "source": [
    "outpath = '../resources/label'"
   ]
  },
  {
   "cell_type": "code",
   "execution_count": null,
   "metadata": {},
   "outputs": [],
   "source": [
    "mask_CO2 = np.transpose(mask_CO2s,(1,2,0))\n",
    "mask_CO2.tofile(f'{outpath}/masks.dat')"
   ]
  },
  {
   "cell_type": "code",
   "execution_count": null,
   "metadata": {},
   "outputs": [],
   "source": [
    "# save the T_base and T_top\n",
    "T_base.tofile(f'{outpath}/T_base.dat')\n",
    "T_top.tofile(f'{outpath}/T_top.dat')"
   ]
  },
  {
   "cell_type": "markdown",
   "metadata": {},
   "source": [
    "## Display generated CO2 masks"
   ]
  },
  {
   "cell_type": "code",
   "execution_count": null,
   "metadata": {},
   "outputs": [],
   "source": [
    "mask_CO2s = np.fromfile(f'{outpath}/masks.dat',dtype=np.float32)\n",
    "mask_CO2s = np.reshape(mask_CO2s,(d.nx,d.ny,nt))"
   ]
  },
  {
   "cell_type": "code",
   "execution_count": null,
   "metadata": {
    "scrolled": true
   },
   "outputs": [],
   "source": [
    "# display mask in sampled inline sections\n",
    "ind_Is = np.array([100,120,140,160,180])\n",
    "#ind_Is = [134,134]\n",
    "ns = len(ind_Is)\n",
    "fig,ax = plt.subplots(ns,1,figsize = (12,7*ns))\n",
    "for j,i in enumerate(ind_Is):\n",
    "    ax[j].imshow(di[i].T,extent=(yd[0,0],yd[0,-1],td[-1],0),\n",
    "                 cmap='gray',aspect=2000,zorder=1)\n",
    "    ax[j].imshow(mask_CO2s[i].T,extent=(yd[0,0],yd[0,-1],td[-1],0),\n",
    "                 cmap='hot',alpha=0.5,aspect=2000,zorder=10)\n",
    "    ax[j].set_ylabel('Time (s)')\n",
    "    ax[j].set_xlabel('x (m)')\n",
    "    ax[j].set_title(f'Inline No. {i}')"
   ]
  },
  {
   "cell_type": "code",
   "execution_count": null,
   "metadata": {},
   "outputs": [],
   "source": [
    "# display mask in sampled crossline sections\n",
    "ind_Js = np.array([200,220,240,260,280,300])\n",
    "ns = len(ind_Js)\n",
    "fig,ax = plt.subplots(ns,1,figsize = (12,7*ns))\n",
    "for j,i in enumerate(ind_Js):\n",
    "    ax[j].imshow(di[:,i,:].T,extent=(xd[0,0],xd[-1,0],td[-1],0),\n",
    "                 cmap='gray',aspect=2000,zorder=1)\n",
    "    ax[j].imshow(mask_CO2s[:,i,:].T,extent=(xd[0,0],xd[-1,0],td[-1],0),\n",
    "                 cmap='hot',alpha=0.5,aspect=2000,zorder=10)\n",
    "    ax[j].set_ylabel('Time (s)')\n",
    "    ax[j].set_xlabel('y (m)')\n",
    "    ax[j].set_title(f'Crossline No. {i}')"
   ]
  },
  {
   "cell_type": "code",
   "execution_count": null,
   "metadata": {
    "scrolled": true
   },
   "outputs": [],
   "source": [
    "# display mask in sampled time slices\n",
    "ind_Ts = np.array([420,450,470,500,520,550])\n",
    "ns = len(ind_Ts)\n",
    "fig,ax = plt.subplots(ns,1,figsize = (12,7*ns))\n",
    "for j,i in enumerate(ind_Ts):\n",
    "    ax[j].imshow(di[:,:,i],extent=(xd[0,0],xd[-1,0],yd[0,0],yd[0,-1]),\n",
    "                 cmap='gray',aspect=1,zorder=1)\n",
    "    ax[j].imshow(mask_CO2s[:,:,i],extent=(xd[0,0],xd[-1,0],yd[0,0],yd[0,-1]),\n",
    "                 cmap='hot',alpha=0.5,aspect=1,zorder=10)\n",
    "    ax[j].set_ylabel('y (m)')\n",
    "    ax[j].set_xlabel('x (m)')\n",
    "    ax[j].set_title(f'Time {i*2} ms ')"
   ]
  }
 ],
 "metadata": {
  "kernelspec": {
   "display_name": "Python 3",
   "language": "python",
   "name": "python3"
  },
  "language_info": {
   "codemirror_mode": {
    "name": "ipython",
    "version": 3
   },
   "file_extension": ".py",
   "mimetype": "text/x-python",
   "name": "python",
   "nbconvert_exporter": "python",
   "pygments_lexer": "ipython3",
   "version": "3.7.4"
  },
  "toc": {
   "base_numbering": 1,
   "nav_menu": {},
   "number_sections": true,
   "sideBar": true,
   "skip_h1_title": false,
   "title_cell": "Table of Contents",
   "title_sidebar": "Contents",
   "toc_cell": false,
   "toc_position": {
    "height": "550.633px",
    "left": "24px",
    "top": "110.433px",
    "width": "212px"
   },
   "toc_section_display": true,
   "toc_window_display": true
  },
  "varInspector": {
   "cols": {
    "lenName": 16,
    "lenType": 16,
    "lenVar": 40
   },
   "kernels_config": {
    "python": {
     "delete_cmd_postfix": "",
     "delete_cmd_prefix": "del ",
     "library": "var_list.py",
     "varRefreshCmd": "print(var_dic_list())"
    },
    "r": {
     "delete_cmd_postfix": ") ",
     "delete_cmd_prefix": "rm(",
     "library": "var_list.r",
     "varRefreshCmd": "cat(var_dic_list()) "
    }
   },
   "types_to_exclude": [
    "module",
    "function",
    "builtin_function_or_method",
    "instance",
    "_Feature"
   ],
   "window_display": false
  }
 },
 "nbformat": 4,
 "nbformat_minor": 2
}
