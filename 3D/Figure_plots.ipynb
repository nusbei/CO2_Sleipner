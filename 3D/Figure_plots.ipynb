{
 "cells": [
  {
   "cell_type": "code",
   "execution_count": null,
   "metadata": {},
   "outputs": [],
   "source": [
    "%load_ext autoreload\n",
    "%autoreload 2\n",
    "from CO2_identify import *\n",
    "from labeling import *\n",
    "from mynetwork import CO2mask\n",
    "from torch.utils.data import DataLoader\n",
    "from scipy.ndimage import gaussian_filter\n",
    "from torchvision.transforms.functional import resize\n",
    "\n",
    "import torchvision\n",
    "import torch\n",
    "import torch.optim as optim\n",
    "import torch.nn.functional as F\n",
    "import numpy as np\n",
    "import pandas as pd\n",
    "import json\n",
    "import matplotlib.colors as pcl"
   ]
  },
  {
   "cell_type": "code",
   "execution_count": null,
   "metadata": {},
   "outputs": [],
   "source": [
    "fn = '../define_path.txt'\n",
    "with open(fn) as f:\n",
    "    lines = f.readlines()\n",
    "for idx, line in enumerate(lines):\n",
    "    if idx == 1:\n",
    "        dir_co2 = line.split('=')[1][:-1]\n",
    "    if idx == 3:\n",
    "        dir_grid = line.split('=')[1][:-1]\n",
    "    if idx == 5:\n",
    "        train_fulllabel = line.split('=')[1][:-1]\n",
    "    if idx == 7:\n",
    "        train_sparselabel = line.split('=')[1][:-1]\n",
    "    if idx == 9:\n",
    "        testpath = line.split('=')[1][:-1]\n",
    "    if idx == 11:\n",
    "        analpath = line.split('=')[1][:-1]\n",
    "\n",
    "outpath = '../figures'"
   ]
  },
  {
   "cell_type": "markdown",
   "metadata": {},
   "source": [
    "# 3D patches in Figure 2 "
   ]
  },
  {
   "cell_type": "markdown",
   "metadata": {},
   "source": [
    "## 3D pactch display function (middle slices, no axes)"
   ]
  },
  {
   "cell_type": "code",
   "execution_count": null,
   "metadata": {},
   "outputs": [],
   "source": [
    "# define 3D plot function\n",
    "def show3D(md, ax=None, xyz=None, xyzi=(0,0,0), ea=(30,-45), clip=1, rcstride=(1,1), clim=None, tl=None):\n",
    "    r'''plot 3D cube image:\n",
    "        md-3-D data volume (3darray, float, (n1,n2,n3))\n",
    "        ax-plot axis (None or a given ax)\n",
    "        xyz-3-D axes coordinates (list, 1darray, (3,))\n",
    "        xyzi-position of three slicing image indices (tuple, int, (3,))\n",
    "        ea-viewing angle (tuple, float, (2,))\n",
    "        clip-image clipping (scalar, float, <1)\n",
    "        rcstride-2-D plotting stride (tuple, int, (2,))\n",
    "        clim-colorbar range (None or tuple, int, (2,)): if it is not None, clip is overwritten'''\n",
    "    \n",
    "    # get default coordinates\n",
    "    nx,ny,nz = md.shape\n",
    "    if xyz is None:\n",
    "        xyz = [np.arange(nx),np.arange(ny),np.arange(nz)]\n",
    "    # slice zero index image along each dimension\n",
    "    mx = md[xyzi[0],:,:].transpose()\n",
    "    my = md[:,xyzi[1],:].transpose()\n",
    "    mz = md[:,:,xyzi[2]].transpose()\n",
    "    MIN = min([np.amin(mx),np.amin(my),np.amin(mz)])\n",
    "    MAX = max([np.amax(mx),np.amax(my),np.amax(mz)])\n",
    "    if clim is None:\n",
    "        cN = pcl.Normalize(vmin=MIN*clip, vmax=MAX*clip)\n",
    "        rg = [MIN*clip,(MAX-MIN)*clip]\n",
    "    else:\n",
    "        cN = pcl.Normalize(vmin=clim[0], vmax=clim[1])\n",
    "        rg = [clim[0],clim[1]-clim[0]]\n",
    "    # plot the model\n",
    "    if ax is None:\n",
    "        fig = plt.figure(figsize=plt.figaspect(0.8))\n",
    "        ax = fig.add_subplot(1,1,1,projection='3d')\n",
    "    else:\n",
    "        fig = None\n",
    "    \n",
    "    # plot the indicator line\n",
    "    xi = xyz[0][xyzi[0]]\n",
    "    yi = xyz[1][xyzi[1]]\n",
    "    zi = xyz[2][xyzi[2]]\n",
    "    ax.plot([xi,xi],[xyz[1][0],xyz[1][0]],[xyz[2][0],xyz[2][-1]],'r-',linewidth=2,zorder=10)\n",
    "    ax.plot([xi,xi],[xyz[1][0],xyz[1][-1]],[xyz[2][0],xyz[2][0]],'r-',linewidth=2,zorder=10)\n",
    "    ax.plot([xyz[0][0],xyz[0][0]],[yi,yi],[xyz[2][0],xyz[2][-1]],'r-',linewidth=2,zorder=10)\n",
    "    ax.plot([xyz[0][0],xyz[0][-1]],[yi,yi],[xyz[2][0],xyz[2][0]],'r-',linewidth=2,zorder=10)\n",
    "    ax.plot([xyz[0][0],xyz[0][-1]],[xyz[1][0],xyz[1][0]],[zi,zi],'r-',linewidth=2,zorder=10)\n",
    "    ax.plot([xyz[0][0],xyz[0][0]],[xyz[1][0],xyz[1][-1]],[zi,zi],'r-',linewidth=2,zorder=10)\n",
    "    \n",
    "    # plot the three surfaces\n",
    "    ax = slice_show(ax, mz, xyz, 0, rg=rg, rcstride=rcstride)\n",
    "    ax = slice_show(ax, mx, xyz, 1, rg=rg, rcstride=rcstride)\n",
    "    ax = slice_show(ax, my, xyz, 2, rg=rg, rcstride=rcstride)\n",
    "    \n",
    "    # set the axes\n",
    "    ax.view_init(elev=ea[0],azim=ea[1])\n",
    "    ax.invert_zaxis()\n",
    "    ax.invert_xaxis()\n",
    "    ax.axis('off')\n",
    "\n",
    "    return fig\n",
    "\n",
    "def slice_show(ax, ms, xyz, od, rg=None, offset=0, rcstride=(10,10)):\n",
    "    r'''show specific slice of model'''\n",
    "    \n",
    "    if rg is None:\n",
    "        shift = np.amin(ms)\n",
    "        normalizer = np.amax(ms)-shift\n",
    "    else:\n",
    "        shift = rg[0]\n",
    "        normalizer = rg[1]\n",
    "    if normalizer == 0:\n",
    "        msN = np.zeros_like(ms)+0.5\n",
    "    else:\n",
    "        msN = (ms-shift)/normalizer\n",
    "    colors = plt.cm.gray(msN)\n",
    "    if od == 0:\n",
    "        [X,Y] = np.meshgrid(xyz[0],xyz[1])\n",
    "        Z = np.zeros_like(X)+xyz[2][0]+offset\n",
    "    if od == 1:\n",
    "        [Y,Z] = np.meshgrid(xyz[1],xyz[2])\n",
    "        X = np.zeros_like(Y)+xyz[0][0]+offset\n",
    "    if od == 2:\n",
    "        [X,Z] = np.meshgrid(xyz[0],xyz[2])\n",
    "        Y = np.zeros_like(X)+xyz[1][0]+offset\n",
    "    surf = ax.plot_surface(X, Y, Z, \n",
    "                           facecolors=colors, rstride=rcstride[0], cstride=rcstride[1], zorder=1)\n",
    "    \n",
    "    return ax"
   ]
  },
  {
   "cell_type": "markdown",
   "metadata": {},
   "source": [
    "## Load the full-label training dataset information"
   ]
  },
  {
   "cell_type": "code",
   "execution_count": null,
   "metadata": {},
   "outputs": [],
   "source": [
    "# load all training patch information\n",
    "pathtrain = train_fulllabel\n",
    "pf = pd.read_csv(f'{pathtrain}/patch_info_train.csv')\n",
    "pid = pf['Ptch_id']\n",
    "mid = pf['Mask_id']"
   ]
  },
  {
   "cell_type": "markdown",
   "metadata": {},
   "source": [
    "## Define the seampled training patch id"
   ]
  },
  {
   "cell_type": "code",
   "execution_count": null,
   "metadata": {},
   "outputs": [],
   "source": [
    "train_id = [150]\n",
    "rs = (64,64,64)\n",
    "xyzi = (14,13,30)"
   ]
  },
  {
   "cell_type": "markdown",
   "metadata": {},
   "source": [
    "## readin and show the sampled patches"
   ]
  },
  {
   "cell_type": "code",
   "execution_count": null,
   "metadata": {},
   "outputs": [],
   "source": [
    "R0 = []\n",
    "Rt = []\n",
    "Mr = []\n",
    "for i in train_id:\n",
    "    R0t = np.fromfile(f'{pathtrain}/R0t_{pid[i]}.dat',dtype=np.float32)\n",
    "    R0t = np.reshape(R0t,(2,rs[0],rs[1],rs[2]))\n",
    "    R0.append(R0t[0])\n",
    "    Rt.append(R0t[1])\n",
    "    mr = np.fromfile(f'{pathtrain}/Mask_{mid[i]}.dat',dtype=np.float32)\n",
    "    Mr.append(np.reshape(mr,rs))"
   ]
  },
  {
   "cell_type": "code",
   "execution_count": null,
   "metadata": {},
   "outputs": [],
   "source": [
    "for i in range(len(train_id)):\n",
    "    fig = show3D(R0[i],xyzi=xyzi)\n",
    "    plt.show()\n",
    "    fig.savefig(f'{outpath}/fig2_R0_{i}.png',dpi=300)\n",
    "    fig = show3D(Rt[i],xyzi=xyzi)\n",
    "    plt.show()\n",
    "    fig.savefig(f'{outpath}/fig2_Rt_{i}.png',dpi=300)\n",
    "    fig = show3D(Mr[i],xyzi=xyzi)\n",
    "    plt.show()\n",
    "    fig.savefig(f'{outpath}/fig2_Mr_{i}.png',dpi=300)"
   ]
  },
  {
   "cell_type": "markdown",
   "metadata": {},
   "source": [
    "# Loss plot in Figure 5"
   ]
  },
  {
   "cell_type": "markdown",
   "metadata": {},
   "source": [
    "## load the training and validating (full label) loss"
   ]
  },
  {
   "cell_type": "code",
   "execution_count": null,
   "metadata": {},
   "outputs": [],
   "source": [
    "path_loss = f'../resources/NNpred3D/train_fulllabel'\n",
    "fn_tl = f'train_loss.dat'\n",
    "fn_vl = f'valid_loss.dat'\n",
    "N = 200 # number of epochs"
   ]
  },
  {
   "cell_type": "code",
   "execution_count": null,
   "metadata": {},
   "outputs": [],
   "source": [
    "tloss = np.fromfile(f'{path_loss}/{fn_tl}',dtype=np.float32)\n",
    "vloss = np.fromfile(f'{path_loss}/{fn_vl}',dtype=np.float32)\n",
    "ep = np.arange(N)"
   ]
  },
  {
   "cell_type": "markdown",
   "metadata": {},
   "source": [
    "## plot and save the loss plot"
   ]
  },
  {
   "cell_type": "code",
   "execution_count": null,
   "metadata": {},
   "outputs": [],
   "source": [
    "fig, ax = plt.subplots(1,1,figsize=(6,4))\n",
    "ax.plot(ep,np.log(tloss),linewidth=2,color='b',label='Training')\n",
    "ax.plot(ep,np.log(vloss),linewidth=2,color='r',label='Validation')\n",
    "ax.set_xlabel('Epoch', fontsize=15)\n",
    "ax.set_ylabel('ln(Loss)', fontsize=15)\n",
    "\n",
    "xtick = np.linspace(0,200,5,dtype=np.int16)\n",
    "ytick = np.linspace(-4,0,5)\n",
    "ax.set_xticks(xtick)\n",
    "ax.set_xticklabels([f'{i}' for i in xtick],fontsize=12)\n",
    "ax.set_yticks(ytick)\n",
    "ax.set_yticklabels([f'{i:.1f}' for i in ytick],fontsize=12)\n",
    "ax.legend(fontsize=15)\n",
    "\n",
    "for axis in ['top','bottom','left','right']:\n",
    "    ax.spines[axis].set_linewidth(2)"
   ]
  },
  {
   "cell_type": "code",
   "execution_count": null,
   "metadata": {},
   "outputs": [],
   "source": [
    "BB = ax.get_position()\n",
    "BB.x0 = -0.3\n",
    "BB.y0 = -0.3\n",
    "BB.x1 = 6\n",
    "BB.y1 = 4\n",
    "fig.savefig(f'{outpath}/fig5_lnloss.png',dpi=300,bbox_inches=BB)"
   ]
  },
  {
   "cell_type": "markdown",
   "metadata": {},
   "source": [
    "# Training (full label) patch and predictions display in Fiugre 6"
   ]
  },
  {
   "cell_type": "markdown",
   "metadata": {},
   "source": [
    "## 3D pactch display function (no axes)"
   ]
  },
  {
   "cell_type": "code",
   "execution_count": null,
   "metadata": {},
   "outputs": [],
   "source": [
    "# define 3D plot function\n",
    "def show3D(md, ax=None, xyz=None, xyzi=(0,0,0), ea=(30,-45), clip=1, rcstride=(1,1), clim=None, tl=None):\n",
    "    r'''plot 3D cube image:\n",
    "        md-3-D data volume (3darray, float, (n1,n2,n3))\n",
    "        ax-plot axis (None or a given ax)\n",
    "        xyz-3-D axes coordinates (list, 1darray, (3,))\n",
    "        xyzi-position of three slicing image indices (tuple, int, (3,))\n",
    "        ea-viewing angle (tuple, float, (2,))\n",
    "        clip-image clipping (scalar, float, <1)\n",
    "        rcstride-2-D plotting stride (tuple, int, (2,))\n",
    "        clim-colorbar range (None or tuple, int, (2,)): if it is not None, clip is overwritten'''\n",
    "    \n",
    "    # get default coordinates\n",
    "    nx,ny,nz = md.shape\n",
    "    if xyz is None:\n",
    "        xyz = [np.arange(nx),np.arange(ny),np.arange(nz)]\n",
    "    # slice zero index image along each dimension\n",
    "    mx = md[xyzi[0],:,:].transpose()\n",
    "    my = md[:,xyzi[1],:].transpose()\n",
    "    mz = md[:,:,xyzi[2]].transpose()\n",
    "    MIN = min([np.amin(mx),np.amin(my),np.amin(mz)])\n",
    "    MAX = max([np.amax(mx),np.amax(my),np.amax(mz)])\n",
    "    if clim is None:\n",
    "        cN = pcl.Normalize(vmin=MIN*clip, vmax=MAX*clip)\n",
    "        rg = [MIN*clip,(MAX-MIN)*clip]\n",
    "    else:\n",
    "        cN = pcl.Normalize(vmin=clim[0], vmax=clim[1])\n",
    "        rg = [clim[0],clim[1]-clim[0]]\n",
    "    # plot the model\n",
    "    if ax is None:\n",
    "        fig = plt.figure(figsize=plt.figaspect(0.8))\n",
    "        ax = fig.add_subplot(1,1,1,projection='3d')\n",
    "    else:\n",
    "        fig = None\n",
    "    \n",
    "    # plot the indicator line\n",
    "    xi = xyz[0][xyzi[0]]\n",
    "    yi = xyz[1][xyzi[1]]\n",
    "    zi = xyz[2][xyzi[2]]\n",
    "    ax.plot([xi,xi],[xyz[1][0],xyz[1][0]],[xyz[2][0],xyz[2][-1]],'r-',linewidth=2,zorder=10)\n",
    "    ax.plot([xi,xi],[xyz[1][0],xyz[1][-1]],[xyz[2][0],xyz[2][0]],'r-',linewidth=2,zorder=10)\n",
    "    ax.plot([xyz[0][0],xyz[0][0]],[yi,yi],[xyz[2][0],xyz[2][-1]],'r-',linewidth=2,zorder=10)\n",
    "    ax.plot([xyz[0][0],xyz[0][-1]],[yi,yi],[xyz[2][0],xyz[2][0]],'r-',linewidth=2,zorder=10)\n",
    "    ax.plot([xyz[0][0],xyz[0][-1]],[xyz[1][0],xyz[1][0]],[zi,zi],'r-',linewidth=2,zorder=10)\n",
    "    ax.plot([xyz[0][0],xyz[0][0]],[xyz[1][0],xyz[1][-1]],[zi,zi],'r-',linewidth=2,zorder=10)\n",
    "    \n",
    "    # plot the three surfaces\n",
    "    ax = slice_show(ax, mz, xyz, 0, rg=rg, rcstride=rcstride)\n",
    "    ax = slice_show(ax, mx, xyz, 1, rg=rg, rcstride=rcstride)\n",
    "    ax = slice_show(ax, my, xyz, 2, rg=rg, rcstride=rcstride)\n",
    "    \n",
    "    # set the axes\n",
    "    ax.view_init(elev=ea[0],azim=ea[1])\n",
    "    ax.invert_zaxis()\n",
    "    ax.invert_xaxis()\n",
    "    ax.axis('off')\n",
    "\n",
    "    return fig\n",
    "\n",
    "def slice_show(ax, ms, xyz, od, rg=None, offset=0, rcstride=(10,10)):\n",
    "    r'''show specific slice of model'''\n",
    "    \n",
    "    if rg is None:\n",
    "        shift = np.amin(ms)\n",
    "        normalizer = np.amax(ms)-shift\n",
    "    else:\n",
    "        shift = rg[0]\n",
    "        normalizer = rg[1]\n",
    "    if normalizer == 0:\n",
    "        msN = np.zeros_like(ms)+0.5\n",
    "    else:\n",
    "        msN = (ms-shift)/normalizer\n",
    "    colors = plt.cm.gray(msN)\n",
    "    if od == 0:\n",
    "        [X,Y] = np.meshgrid(xyz[0],xyz[1])\n",
    "        Z = np.zeros_like(X)+xyz[2][0]+offset\n",
    "    if od == 1:\n",
    "        [Y,Z] = np.meshgrid(xyz[1],xyz[2])\n",
    "        X = np.zeros_like(Y)+xyz[0][0]+offset\n",
    "    if od == 2:\n",
    "        [X,Z] = np.meshgrid(xyz[0],xyz[2])\n",
    "        Y = np.zeros_like(X)+xyz[1][0]+offset\n",
    "    surf = ax.plot_surface(X, Y, Z, \n",
    "                           facecolors=colors, rstride=rcstride[0], cstride=rcstride[1], zorder=1)\n",
    "    \n",
    "    return ax"
   ]
  },
  {
   "cell_type": "markdown",
   "metadata": {},
   "source": [
    "## load the training dataset and trained network"
   ]
  },
  {
   "cell_type": "code",
   "execution_count": null,
   "metadata": {},
   "outputs": [],
   "source": [
    "# dataset information file names\n",
    "pmf = 'pm_info.json'\n",
    "pdf = 'patch_info'\n",
    "pdfap = '.csv'\n",
    "# load training dataset\n",
    "root = train_fulllabel\n",
    "train = dataset_patch(root,pmf,f'{pdf}_train{pdfap}')\n",
    "Ntrain = len(train)"
   ]
  },
  {
   "cell_type": "code",
   "execution_count": null,
   "metadata": {},
   "outputs": [],
   "source": [
    "#dis_tr = 20\n",
    "train_id = [214,1357]\n",
    "rs = (64,64,64)"
   ]
  },
  {
   "cell_type": "code",
   "execution_count": null,
   "metadata": {},
   "outputs": [],
   "source": [
    "# network path\n",
    "path_bestnet = f'../resources/NNpred3D/train_fulllabel/co2_identify_best.pt'\n",
    "# load the network\n",
    "networktest = CO2mask()\n",
    "networktest.load_state_dict(torch.load(path_bestnet,map_location=torch.device('cpu')))\n",
    "networktest = networktest.eval()"
   ]
  },
  {
   "cell_type": "code",
   "execution_count": null,
   "metadata": {
    "scrolled": true
   },
   "outputs": [],
   "source": [
    "r'''\n",
    "print(train_id)\n",
    "pst = patch_show(train,train_id)\n",
    "pst.view3d(rcstride=(2,2))\n",
    "'''"
   ]
  },
  {
   "cell_type": "markdown",
   "metadata": {},
   "source": [
    "## get the sampled patch and make predictions"
   ]
  },
  {
   "cell_type": "code",
   "execution_count": null,
   "metadata": {},
   "outputs": [],
   "source": [
    "R0 = []\n",
    "Rt = []\n",
    "pm = []\n",
    "rm = []\n",
    "for i in train_id:\n",
    "    R0t,M,idx = train.__getitem__(i)\n",
    "    R0t = torch.unsqueeze(R0t,0)\n",
    "    with torch.no_grad():\n",
    "        pMask = networktest(R0t).numpy()[0][0]\n",
    "    R0.append(R0t.numpy()[0][0])\n",
    "    Rt.append(R0t.numpy()[0][1])\n",
    "    pm.append(pMask)\n",
    "    rm.append(M.numpy()[0])"
   ]
  },
  {
   "cell_type": "markdown",
   "metadata": {},
   "source": [
    "## display patches"
   ]
  },
  {
   "cell_type": "code",
   "execution_count": null,
   "metadata": {},
   "outputs": [],
   "source": [
    "pst = patch_show(train,train_id)"
   ]
  },
  {
   "cell_type": "code",
   "execution_count": null,
   "metadata": {},
   "outputs": [],
   "source": [
    "pst.ixtid"
   ]
  },
  {
   "cell_type": "code",
   "execution_count": null,
   "metadata": {
    "scrolled": false
   },
   "outputs": [],
   "source": [
    "for i in range(len(train_id)):\n",
    "    fig = show3D(R0[i],xyzi=pst.ixtid[i])\n",
    "    plt.show()\n",
    "    fig.savefig(f'{outpath}/fig6_R0_{i}.png',dpi=300)\n",
    "    fig = show3D(Rt[i],xyzi=pst.ixtid[i])\n",
    "    plt.show()\n",
    "    fig.savefig(f'{outpath}/fig6_Rt_{i}.png',dpi=300)\n",
    "    fig = show3D(rm[i],xyzi=pst.ixtid[i],clim=[0,1])\n",
    "    plt.show()\n",
    "    fig.savefig(f'{outpath}/fig6_rm_{i}.png',dpi=300)\n",
    "    fig = show3D(pm[i],xyzi=pst.ixtid[i],clim=[0,1])\n",
    "    plt.show()\n",
    "    fig.savefig(f'{outpath}/fig6_pm_{i}.png',dpi=300)"
   ]
  },
  {
   "cell_type": "markdown",
   "metadata": {},
   "source": [
    "# Reconstructed 3D predictions and labels for 2010 dataset in Figure 7"
   ]
  },
  {
   "cell_type": "markdown",
   "metadata": {},
   "source": [
    "## 3D dataset display function (with axes)"
   ]
  },
  {
   "cell_type": "code",
   "execution_count": null,
   "metadata": {},
   "outputs": [],
   "source": [
    "# define 3D plot function\n",
    "def show3D(md, ax=None, xyz=None, xyzi=(0,0,0), ea=(30,-25), clip=1, rcstride=(1,1), clim=None, tl=None):\n",
    "    r'''plot 3D cube image:\n",
    "        md-3-D data volume (3darray, float, (n1,n2,n3))\n",
    "        ax-plot axis (None or a given ax)\n",
    "        xyz-3-D axes coordinates (list, 1darray, (3,))\n",
    "        xyzi-position of three slicing image indices (tuple, int, (3,))\n",
    "        ea-viewing angle (tuple, float, (2,))\n",
    "        clip-image clipping (scalar, float, <1)\n",
    "        rcstride-2-D plotting stride (tuple, int, (2,))\n",
    "        clim-colorbar range (None or tuple, int, (2,)): if it is not None, clip is overwritten'''\n",
    "    \n",
    "    # get default coordinates\n",
    "    nx,ny,nz = md.shape\n",
    "    if xyz is None:\n",
    "        xyz = [np.arange(nx),np.arange(ny),np.arange(nz)]\n",
    "    # slice zero index image along each dimension\n",
    "    mx = md[xyzi[0],:,:].transpose()\n",
    "    my = md[:,xyzi[1],:].transpose()\n",
    "    mz = md[:,:,xyzi[2]].transpose()\n",
    "    MIN = min([np.amin(mx),np.amin(my),np.amin(mz)])\n",
    "    MAX = max([np.amax(mx),np.amax(my),np.amax(mz)])\n",
    "    if clim is None:\n",
    "        cN = pcl.Normalize(vmin=MIN*clip, vmax=MAX*clip)\n",
    "        rg = [MIN*clip,(MAX-MIN)*clip]\n",
    "    else:\n",
    "        cN = pcl.Normalize(vmin=clim[0], vmax=clim[1])\n",
    "        rg = [clim[0],clim[1]-clim[0]]\n",
    "    # plot the model\n",
    "    if ax is None:\n",
    "        fig = plt.figure(figsize=(15,10))\n",
    "        ax = fig.add_subplot(1,1,1,projection='3d')\n",
    "    else:\n",
    "        fig = None\n",
    "    \n",
    "    # plot the indicator line\n",
    "    xi = xyz[0][xyzi[0]]\n",
    "    yi = xyz[1][xyzi[1]]\n",
    "    zi = xyz[2][xyzi[2]]\n",
    "    ax.plot([xi,xi],[xyz[1][0],xyz[1][0]],[xyz[2][0],xyz[2][-1]],'r-',linewidth=2,zorder=10)\n",
    "    ax.plot([xi,xi],[xyz[1][0],xyz[1][-1]],[xyz[2][0],xyz[2][0]],'r-',linewidth=2,zorder=10)\n",
    "    ax.plot([xyz[0][0],xyz[0][0]],[yi,yi],[xyz[2][0],xyz[2][-1]],'r-',linewidth=2,zorder=10)\n",
    "    ax.plot([xyz[0][0],xyz[0][-1]],[yi,yi],[xyz[2][0],xyz[2][0]],'r-',linewidth=2,zorder=10)\n",
    "    ax.plot([xyz[0][0],xyz[0][-1]],[xyz[1][0],xyz[1][0]],[zi,zi],'r-',linewidth=2,zorder=10)\n",
    "    ax.plot([xyz[0][0],xyz[0][0]],[xyz[1][0],xyz[1][-1]],[zi,zi],'r-',linewidth=2,zorder=10)\n",
    "    \n",
    "    # plot the three surfaces\n",
    "    ax = slice_show(ax, mz, xyz, 0, rg=rg, rcstride=rcstride)\n",
    "    ax = slice_show(ax, mx, xyz, 1, rg=rg, rcstride=rcstride)\n",
    "    ax = slice_show(ax, my, xyz, 2, rg=rg, rcstride=rcstride)\n",
    "    \n",
    "    # set the axes\n",
    "    ax.set_xticks(np.linspace(0,4000,3))\n",
    "    ax.set_yticks(np.linspace(0,8000,5))\n",
    "    ax.set_zticks(np.linspace(0,2,5))\n",
    "    for tick in ax.xaxis.get_major_ticks():\n",
    "        tick.label.set_fontsize(15)\n",
    "    for tick in ax.yaxis.get_major_ticks():\n",
    "        tick.label.set_fontsize(15) \n",
    "    for tick in ax.zaxis.get_major_ticks():\n",
    "        tick.label.set_fontsize(15) \n",
    "    if tl is not None:\n",
    "        ax.set_title(tl,fontsize=15)\n",
    "    ax.view_init(elev=ea[0],azim=ea[1])\n",
    "    ax.invert_zaxis()\n",
    "    ax.invert_xaxis()\n",
    "    ax.set_xlabel('Inline (m)',fontsize=20,labelpad=20)\n",
    "    ax.set_ylabel('Xline (m)',fontsize=20,labelpad=20)\n",
    "    ax.set_zlabel('T (s)',fontsize=20,labelpad=10)\n",
    "\n",
    "    return fig\n",
    "\n",
    "def slice_show(ax, ms, xyz, od, rg=None, offset=0, rcstride=(10,10)):\n",
    "    r'''show specific slice of model'''\n",
    "    \n",
    "    if rg is None:\n",
    "        shift = np.amin(ms)\n",
    "        normalizer = np.amax(ms)-shift\n",
    "    else:\n",
    "        shift = rg[0]\n",
    "        normalizer = rg[1]\n",
    "    if normalizer == 0:\n",
    "        msN = np.zeros_like(ms)+0.5\n",
    "    else:\n",
    "        msN = (ms-shift)/normalizer\n",
    "    colors = plt.cm.gray(msN)\n",
    "    if od == 0:\n",
    "        [X,Y] = np.meshgrid(xyz[0],xyz[1])\n",
    "        Z = np.zeros_like(X)+xyz[2][0]+offset\n",
    "    if od == 1:\n",
    "        [Y,Z] = np.meshgrid(xyz[1],xyz[2])\n",
    "        X = np.zeros_like(Y)+xyz[0][0]+offset\n",
    "    if od == 2:\n",
    "        [X,Z] = np.meshgrid(xyz[0],xyz[2])\n",
    "        Y = np.zeros_like(X)+xyz[1][0]+offset\n",
    "    surf = ax.plot_surface(X, Y, Z, \n",
    "                           facecolors=colors, rstride=rcstride[0], cstride=rcstride[1], zorder=1)\n",
    "    \n",
    "    return ax"
   ]
  },
  {
   "cell_type": "markdown",
   "metadata": {},
   "source": [
    "## display the 3D reconstructed labels and predictions"
   ]
  },
  {
   "cell_type": "code",
   "execution_count": null,
   "metadata": {},
   "outputs": [],
   "source": [
    "# readin reference dataset information\n",
    "xydfn = f'{dir_co2}/10p10/2010 processing/data/10p10nea.sgy'\n",
    "Dr = dataload(fn=xydfn)\n",
    "_,xd,yd,td = Dr.getdata()\n",
    "DD = (Dr.nx,Dr.ny,Dr.nt)"
   ]
  },
  {
   "cell_type": "code",
   "execution_count": null,
   "metadata": {},
   "outputs": [],
   "source": [
    "# generate X,Y and Z\n",
    "xm = np.amin(xd)\n",
    "ym = np.amin(yd)\n",
    "x = xd[:,0]-xm\n",
    "y = yd[0,:]-ym\n",
    "z = td\n",
    "xyz = [x,y,z]"
   ]
  },
  {
   "cell_type": "code",
   "execution_count": null,
   "metadata": {},
   "outputs": [],
   "source": [
    "# define path and fn for NN tests\n",
    "path_2010 = testpath\n",
    "fn_bl = ['2010_b01_t10','2010_b01_t11','2010_b10_t10','2010_b10_t11']\n",
    "fn_tsMask = f'tsMask.dat'\n",
    "nfn = len(fn_bl)"
   ]
  },
  {
   "cell_type": "code",
   "execution_count": null,
   "metadata": {},
   "outputs": [],
   "source": [
    "# readin CO2 mask\n",
    "mkfn = f'../resources/label/masks.dat'\n",
    "masks = np.fromfile(f'{mkfn}',dtype=np.float32)\n",
    "mask_ref = np.reshape(masks,DD)\n",
    "fig = show3D(mask_ref,xyz=xyz,xyzi=(DD[0]//2,DD[1]//2,DD[2]//2),clim=[0,1])\n",
    "fig.savefig(f'{outpath}/fig7_mask_ref.png',dpi=300)"
   ]
  },
  {
   "cell_type": "code",
   "execution_count": null,
   "metadata": {},
   "outputs": [],
   "source": [
    "for i in range(nfn):\n",
    "    mask= np.fromfile(f'{path_2010}{fn_bl[i]}/test/tsMask.dat',dtype=np.float32)\n",
    "    mask = np.reshape(mask,DD)\n",
    "    fig = show3D(mask,xyz=xyz,xyzi=(DD[0]//2,DD[1]//2,DD[2]//2),clim=[0,1])\n",
    "    fig.savefig(f'{outpath}/fig7_mask_pred_{fn_bl[i]}.png',dpi=300)"
   ]
  },
  {
   "cell_type": "markdown",
   "metadata": {},
   "source": [
    "# 2D layer view for top sand wedge layer in Figure 8"
   ]
  },
  {
   "cell_type": "markdown",
   "metadata": {},
   "source": [
    "## load the reference mask, images and traveltime interfaces"
   ]
  },
  {
   "cell_type": "code",
   "execution_count": null,
   "metadata": {},
   "outputs": [],
   "source": [
    "N = 9 # number of CO2 layers\n",
    "lyidx = [0]\n",
    "nl = len(lyidx)"
   ]
  },
  {
   "cell_type": "code",
   "execution_count": null,
   "metadata": {},
   "outputs": [],
   "source": [
    "# readin reference dataset information\n",
    "xydfn = f'{dir_co2}/10p10/2010 processing/data/10p10nea.sgy'\n",
    "Dr = dataload(fn=xydfn)\n",
    "_,xd,yd,td = Dr.getdata()\n",
    "DD = (Dr.nx,Dr.ny,Dr.nt)"
   ]
  },
  {
   "cell_type": "code",
   "execution_count": null,
   "metadata": {},
   "outputs": [],
   "source": [
    "xa = xd[:,0]-np.amin(xd[:,0])\n",
    "ya = yd[0,:]-np.amin(yd[0,:])"
   ]
  },
  {
   "cell_type": "code",
   "execution_count": null,
   "metadata": {},
   "outputs": [],
   "source": [
    "# load the T_top and T_base\n",
    "T_top = np.fromfile(f'../resources/label/T_top.dat',dtype=np.float64)\n",
    "T_base = np.fromfile(f'../resources/label/T_base.dat',dtype=np.float64)\n",
    "T_top = np.reshape(T_top,(N,DD[0],DD[1]))\n",
    "T_base = np.reshape(T_base,(N,DD[0],DD[1]))"
   ]
  },
  {
   "cell_type": "code",
   "execution_count": null,
   "metadata": {},
   "outputs": [],
   "source": [
    "# load the reference mask\n",
    "mkfn = f'../resources/label/masks.dat'\n",
    "masks = np.fromfile(f'{mkfn}',dtype=np.float32)\n",
    "mask_ref = np.reshape(masks,DD)"
   ]
  },
  {
   "cell_type": "code",
   "execution_count": null,
   "metadata": {},
   "outputs": [],
   "source": [
    "# load the images\n",
    "path2010 = ['2010_b01_t10','2010_b01_t11','2010_b10_t10','2010_b10_t11']\n",
    "nfn = len(path2010)\n",
    "d0 = np.fromfile(f'{testpath}/{path2010[0]}/test/d0.dat',dtype=np.float32);\n",
    "d0 = np.reshape(d0,DD)\n",
    "dt = np.fromfile(f'{testpath}/{path2010[0]}/test/dt.dat',dtype=np.float32);\n",
    "dt = np.reshape(dt,DD)"
   ]
  },
  {
   "cell_type": "code",
   "execution_count": null,
   "metadata": {},
   "outputs": [],
   "source": [
    "# load the predictions\n",
    "M = []\n",
    "for i in range(nfn):\n",
    "    mask= np.fromfile(f'{testpath}/{path2010[i]}/test/tsMask.dat',dtype=np.float32)\n",
    "    mask = np.reshape(mask,DD)\n",
    "    M.append(mask)"
   ]
  },
  {
   "cell_type": "code",
   "execution_count": null,
   "metadata": {},
   "outputs": [],
   "source": [
    "# derive the top layer information\n",
    "dta = np.abs(dt)\n",
    "d0a = np.abs(d0)\n",
    "ldta = np.zeros((nl,DD[0],DD[1]),dtype=np.float32)\n",
    "ld0a = np.zeros((nl,DD[0],DD[1]),dtype=np.float32)\n",
    "lmr = np.zeros((nl,DD[0],DD[1]),dtype=np.float32)\n",
    "lmp = np.zeros((nfn,nl,DD[0],DD[1]),dtype=np.float32)\n",
    "for i,j in product(range(DD[0]),range(DD[1])):\n",
    "    for c,k in enumerate(lyidx):\n",
    "        Ttk = T_top[N-k-1,i,j]\n",
    "        Tbk = T_base[N-k-1,i,j]\n",
    "        mk = (td>=Ttk) * (td<=Tbk)\n",
    "        if np.sum(mk) == 0:\n",
    "            continue\n",
    "        ldta[c,i,j] = np.mean(dta[i,j,mk])\n",
    "        ld0a[c,i,j] = np.mean(d0a[i,j,mk])\n",
    "        lmr[c,i,j] = np.mean(mask_ref[i,j,mk])\n",
    "        for n in range(nfn):\n",
    "            lmp[n,c,i,j] = np.mean(M[n][i,j,mk])   "
   ]
  },
  {
   "cell_type": "markdown",
   "metadata": {},
   "source": [
    "## display the amplitude difference"
   ]
  },
  {
   "cell_type": "code",
   "execution_count": null,
   "metadata": {},
   "outputs": [],
   "source": [
    "for i in range(nl):\n",
    "    print(f'plot layer No. {lyidx[i]}.')\n",
    "    print(f'plot the absolute amplitude differences between 94p10 and 10p10:')\n",
    "    fig,ax = plt.subplots(1,1,figsize=(4,8))\n",
    "    ax.imshow((ldta[i]-ld0a[i]).T,aspect=0.8,cmap='seismic',vmin=0,vmax=5,\n",
    "              extent=(xa[0],xa[-1],ya[0],ya[-1]))\n",
    "    ax.set_ylabel('Xline (m)', fontsize=20)\n",
    "    ax.set_xlabel('Inline (m)', fontsize=20)\n",
    "    ytick = np.linspace(0,7000,5,dtype=np.int16) \n",
    "    xtick = np.linspace(0,xa[-1],3,dtype=np.int16)\n",
    "    ax.set_xticks(xtick)\n",
    "    ax.set_xticklabels([f'{k}' for k in xtick],fontsize=15)\n",
    "    ax.set_yticks(ytick)\n",
    "    ax.set_yticklabels([f'{k}' for k in ytick],fontsize=15)\n",
    "    for axis in ['top','bottom','left','right']:\n",
    "        ax.spines[axis].set_linewidth(2)\n",
    "    BB = ax.get_position()\n",
    "    BB.y0 = 0\n",
    "    BB.x0 = -0.5\n",
    "    BB.y1 = 8\n",
    "    BB.x1 = 4\n",
    "    fig.savefig(f'{outpath}/fig8_data_ampdif_{lyidx[i]}.png',dpi=300,bbox_inches=BB)"
   ]
  },
  {
   "cell_type": "markdown",
   "metadata": {},
   "source": [
    "## display the reference CO2 mask"
   ]
  },
  {
   "cell_type": "code",
   "execution_count": null,
   "metadata": {},
   "outputs": [],
   "source": [
    "for i in range(nl):\n",
    "    print(f'plot layer No. {lyidx[i]}')    \n",
    "    print(f'plot the reference CO2 plume:')\n",
    "    fig,ax = plt.subplots(1,1,figsize=(4,8))\n",
    "    ax.imshow(lmr[i].T,aspect=0.8,cmap='seismic',vmin=0,vmax=1,\n",
    "              extent=(xa[0],xa[-1],ya[0],ya[-1]))\n",
    "    ax.set_xlabel('Inline (m)', fontsize=20)\n",
    "    ax.set_ylabel('Xline (m)', fontsize=20)\n",
    "    ytick = np.linspace(0,7000,5,dtype=np.int16) \n",
    "    xtick = np.linspace(0,xa[-1],3,dtype=np.int16)\n",
    "    ax.set_xticks(xtick[1:])\n",
    "    ax.set_xticklabels([f'{k}' for k in xtick[1:]],fontsize=15)\n",
    "    ax.set_yticks(ytick)\n",
    "    ax.set_yticklabels([f'{k}' for k in ytick],fontsize=15)\n",
    "    for axis in ['top','bottom','left','right']:\n",
    "        ax.spines[axis].set_linewidth(2)\n",
    "    BB = ax.get_position()\n",
    "    BB.y0 = 0\n",
    "    BB.x0 = -0.5\n",
    "    BB.y1 = 8\n",
    "    BB.x1 = 4\n",
    "    fig.savefig(f'{outpath}/fig8_mask_ref_{lyidx[i]}.png',dpi=300,bbox_inches=BB)"
   ]
  },
  {
   "cell_type": "markdown",
   "metadata": {},
   "source": [
    "## display the predicted CO2 distribution"
   ]
  },
  {
   "cell_type": "code",
   "execution_count": null,
   "metadata": {},
   "outputs": [],
   "source": [
    "for i in range(nfn):   \n",
    "    for j in range(len(lyidx)):            \n",
    "        print(f'plot the pred CO2 plume from {path2010[i]}:')\n",
    "        fig,ax = plt.subplots(1,1,figsize=(4,8))\n",
    "        ax.imshow(lmp[i,j].T,aspect=0.8,cmap='seismic',vmin=0,vmax=1,\n",
    "                  extent=(xa[0],xa[-1],ya[0],ya[-1]))\n",
    "        ax.set_ylabel('Xline (m)', fontsize=20)\n",
    "        ax.set_xlabel('Inline (m)', fontsize=20)\n",
    "        ytick = np.linspace(0,7000,5,dtype=np.int16) \n",
    "        xtick = np.linspace(0,xa[-1],3,dtype=np.int16)\n",
    "        ax.set_xticks(xtick[1:])\n",
    "        ax.set_xticklabels([f'{k}' for k in xtick[1:]],fontsize=15)\n",
    "        ax.set_yticks(ytick)\n",
    "        ax.set_yticklabels([f'{k}' for k in ytick],fontsize=15)\n",
    "        for axis in ['top','bottom','left','right']:\n",
    "            ax.spines[axis].set_linewidth(2)\n",
    "        BB = ax.get_position()\n",
    "        BB.y0 = 0\n",
    "        BB.x0 = -0.5\n",
    "        BB.y1 = 8\n",
    "        BB.x1 = 4\n",
    "        fig.savefig(f'{outpath}/fig8_mask_pred_{path2010[i]}_{lyidx[j]}.png',dpi=300,bbox_inches=BB)"
   ]
  },
  {
   "cell_type": "markdown",
   "metadata": {},
   "source": [
    "# Different dataset testing for different layers in Figure 9"
   ]
  },
  {
   "cell_type": "markdown",
   "metadata": {},
   "source": [
    "## load the predictions and traveltime interface information"
   ]
  },
  {
   "cell_type": "code",
   "execution_count": null,
   "metadata": {},
   "outputs": [],
   "source": [
    "# define path and fn for NN tests\n",
    "path = testpath\n",
    "# testing datasets\n",
    "yearlist = ['1999_b01_t01','2001_b01_t01',\n",
    "            '2004_b01_t07','2006_b01_t07',\n",
    "            '2008_b01_t08','2010_b10_t10']\n",
    "ny = len(yearlist)\n",
    "fn_tsMask = f'tsMask.dat'\n",
    "# define new lyidx\n",
    "lyidx = [0,4,8]\n",
    "nl = len(lyidx)"
   ]
  },
  {
   "cell_type": "code",
   "execution_count": null,
   "metadata": {},
   "outputs": [],
   "source": [
    "# readin reference dataset information\n",
    "xydfn = f'{dir_co2}/10p10/2010 processing/data/10p10nea.sgy'\n",
    "Dr = dataload(fn=xydfn)\n",
    "_,xd,yd,td = Dr.getdata()\n",
    "DD = (Dr.nx,Dr.ny,Dr.nt)"
   ]
  },
  {
   "cell_type": "code",
   "execution_count": null,
   "metadata": {},
   "outputs": [],
   "source": [
    "mp = []\n",
    "for i in range(ny):\n",
    "    mask= np.fromfile(f'{path}/{yearlist[i]}/test/{fn_tsMask}',dtype=np.float32)\n",
    "    mp.append(np.reshape(mask,DD))"
   ]
  },
  {
   "cell_type": "markdown",
   "metadata": {},
   "source": [
    "## calculate different layer predicted CO2 plume"
   ]
  },
  {
   "cell_type": "code",
   "execution_count": null,
   "metadata": {},
   "outputs": [],
   "source": [
    "# derive certain layer of time-lapse data\n",
    "Lmp = []\n",
    "for y in range(ny):\n",
    "    lmp = np.zeros((nl,DD[0],DD[1]),dtype=np.float32)\n",
    "    for i,j in product(range(DD[0]),range(DD[1])):\n",
    "        for c,k in enumerate(lyidx):\n",
    "            Ttk = T_top[N-k-1,i,j]\n",
    "            Tbk = T_base[N-k-1,i,j]\n",
    "            mk = (td>Ttk) * (td<Tbk)\n",
    "            if np.sum(mk) == 0:\n",
    "                ind = np.argmin(np.abs(td-Ttk)+np.abs(td-Tbk))\n",
    "                mk[ind] = True\n",
    "            lmp[c,i,j] = np.mean(mp[y][i,j,mk])\n",
    "    Lmp.append(lmp)"
   ]
  },
  {
   "cell_type": "markdown",
   "metadata": {},
   "source": [
    "## display the combined results"
   ]
  },
  {
   "cell_type": "code",
   "execution_count": null,
   "metadata": {},
   "outputs": [],
   "source": [
    "[nI,nX] = Lmp[0][0].shape"
   ]
  },
  {
   "cell_type": "code",
   "execution_count": null,
   "metadata": {},
   "outputs": [],
   "source": [
    "# combine the objective layer (0,4,8) in different year result together\n",
    "MC = np.zeros((ny*nI,nl*nX),dtype=np.float32)\n",
    "for y in range(ny):\n",
    "    for i in range(nl):\n",
    "        print(f'combine layer No. {lyidx[i]} at year {yearlist[y]}')\n",
    "        MC[y*nI:(y+1)*nI,i*nX:(i+1)*nX] = Lmp[y][i]"
   ]
  },
  {
   "cell_type": "code",
   "execution_count": null,
   "metadata": {},
   "outputs": [],
   "source": [
    "tkny = 5\n",
    "tknx = 3\n",
    "ytick = np.linspace(0,ya[-1]*nl,(tkny-1)*len(lyidx)+1)\n",
    "ykL = np.linspace(0,7000,tkny,dtype=np.int16)\n",
    "ytickL = ykL\n",
    "for i in range(nl-1):\n",
    "    ytickL = np.concatenate((ytickL,ykL[1:]),axis=0)\n",
    "\n",
    "xtick = np.linspace(0,xa[-1]*ny,(tknx-1)*len(yearlist)+1)\n",
    "xkL = np.linspace(0,xa[-1],tknx,dtype=np.int16)\n",
    "xtickL = xkL\n",
    "for i in range(ny-1):\n",
    "    xtickL = np.concatenate((xtickL,xkL[1:]),axis=0)"
   ]
  },
  {
   "cell_type": "code",
   "execution_count": null,
   "metadata": {},
   "outputs": [],
   "source": [
    "# plot the combined figure\n",
    "fig,ax = plt.subplots(1,1,figsize=(4*ny,8*nl))\n",
    "ax.imshow(MC.T,aspect=0.75,cmap='seismic',vmin=0,vmax=1,\n",
    "          extent=(xa[0],xa[-1]*ny,ya[0],ya[-1]*nl))\n",
    "ax.set_ylabel('Xline (m)', fontsize=20)\n",
    "ax.set_xlabel('Inline (m)', fontsize=20)\n",
    "ax.set_xticks(xtick)\n",
    "ax.set_xticklabels([f'{i}' for i in xtickL],fontsize=15)\n",
    "ax.set_yticks(ytick)\n",
    "ax.set_yticklabels([f'{i}' for i in ytickL],fontsize=15)\n",
    "for axis in ['top','bottom','left','right']:\n",
    "    ax.spines[axis].set_linewidth(2)\n",
    "fig.savefig(f'{outpath}/fig9_mask_layer_year.png',dpi=300)"
   ]
  },
  {
   "cell_type": "markdown",
   "metadata": {},
   "source": [
    "# Discussion 1: Analysis for NN interpretation standards in Figure 10"
   ]
  },
  {
   "cell_type": "markdown",
   "metadata": {},
   "source": [
    "## display the baseline, time-lapse and labels for the inline section"
   ]
  },
  {
   "cell_type": "code",
   "execution_count": null,
   "metadata": {},
   "outputs": [],
   "source": [
    "# readin reference dataset information\n",
    "xydfn = f'{dir_co2}/10p10/2010 processing/data/10p10nea.sgy'\n",
    "d0fn = f'{dir_co2}/94p10/2010 processing/data/94p10nea.sgy'\n",
    "Dr = dataload(fn=xydfn)\n",
    "D0 = dataload(fn=d0fn)\n",
    "dt,xd,yd,td = Dr.getdata()\n",
    "d0,_,_,_ = D0.getdata()\n",
    "DD = (Dr.nx,Dr.ny,Dr.nt)"
   ]
  },
  {
   "cell_type": "code",
   "execution_count": null,
   "metadata": {},
   "outputs": [],
   "source": [
    "xa = xd[:,0]-np.amin(xd[:,0])\n",
    "ya = yd[0,:]-np.amin(yd[0,:])\n",
    "ny = len(ya)\n",
    "nt = len(td)"
   ]
  },
  {
   "cell_type": "code",
   "execution_count": null,
   "metadata": {},
   "outputs": [],
   "source": [
    "path_mask = f'../resources/label/masks.dat'\n",
    "# readin CO2 mask\n",
    "masks = np.fromfile(f'{path_mask}',dtype=np.float32)\n",
    "masks = np.reshape(masks,tuple(DD))\n",
    "path_pred = testpath"
   ]
  },
  {
   "cell_type": "code",
   "execution_count": null,
   "metadata": {},
   "outputs": [],
   "source": [
    "Inl = 130\n",
    "Xnl = 245\n",
    "Tsp = np.array([450,850])\n",
    "dtI = dt[Inl,:,:]\n",
    "d0I = d0[Inl,:,:]\n",
    "mI = masks[Inl,:,:]"
   ]
  },
  {
   "cell_type": "code",
   "execution_count": null,
   "metadata": {},
   "outputs": [],
   "source": [
    "Ttop = Tsp-128\n",
    "Tbot = Tsp+128\n",
    "Xlef = Xnl-64\n",
    "Xrig = Xnl+64"
   ]
  },
  {
   "cell_type": "code",
   "execution_count": null,
   "metadata": {},
   "outputs": [],
   "source": [
    "nytk = 6\n",
    "nttk = 5\n",
    "ytick = np.linspace(0,ny-1,nytk)\n",
    "ttick = np.linspace(0,nt-1,nttk)\n",
    "ykL = np.linspace(0,7000,nytk,dtype=np.int16)\n",
    "tkL = np.linspace(0,2000,nttk,dtype=np.int16)"
   ]
  },
  {
   "cell_type": "code",
   "execution_count": null,
   "metadata": {},
   "outputs": [],
   "source": [
    "fig,ax = plt.subplots(1,3,figsize=(25,8))\n",
    "ax[0].imshow(d0I.T,aspect=0.5,cmap='gray')\n",
    "ax[1].imshow(dtI.T,aspect=0.5,cmap='gray')\n",
    "ax[2].imshow(mI.T,aspect=0.5,cmap='gray')\n",
    "for i in range(3):\n",
    "    # plot the cube centers and lines\n",
    "    ax[i].plot(Xnl,Tsp[0],'ro',markersize=6)\n",
    "    ax[i].plot(Xnl,Tsp[1],'ro',markersize=6)\n",
    "    ax[i].plot([Xlef,Xlef],[Ttop[0],Tbot[0]],'r--',linewidth=2)\n",
    "    ax[i].plot([Xlef,Xlef],[Ttop[1],Tbot[1]],'r--',linewidth=2)\n",
    "    ax[i].plot([Xrig,Xrig],[Ttop[0],Tbot[0]],'r--',linewidth=2)\n",
    "    ax[i].plot([Xrig,Xrig],[Ttop[1],Tbot[1]],'r--',linewidth=2)\n",
    "    ax[i].plot([Xlef,Xrig],[Ttop[0],Ttop[0]],'r--',linewidth=2)\n",
    "    ax[i].plot([Xlef,Xrig],[Ttop[1],Ttop[1]],'r--',linewidth=2)\n",
    "    ax[i].plot([Xlef,Xrig],[Tbot[0],Tbot[0]],'r--',linewidth=2)\n",
    "    ax[i].plot([Xlef,Xrig],[Tbot[1],Tbot[1]],'r--',linewidth=2)\n",
    "    # plot the labels and ticks\n",
    "    ax[i].set_ylabel('Time (s)', fontsize=20)\n",
    "    ax[i].set_xlabel('Xline (m)', fontsize=20)\n",
    "    ax[i].set_xticks(ytick)\n",
    "    ax[i].set_xticklabels([f'{j}' for j in ykL],fontsize=15)\n",
    "    ax[i].set_yticks(ttick)\n",
    "    ax[i].set_yticklabels([f'{j}' for j in tkL],fontsize=15)\n",
    "    for axis in ['top','bottom','left','right']:\n",
    "        ax[i].spines[axis].set_linewidth(2)\n",
    "fig.savefig(f'{outpath}/figD1-1_R0tM.png',dpi=300)"
   ]
  },
  {
   "cell_type": "markdown",
   "metadata": {},
   "source": [
    "## display different cubes"
   ]
  },
  {
   "cell_type": "markdown",
   "metadata": {},
   "source": [
    "### define the cube display function (without axis)"
   ]
  },
  {
   "cell_type": "code",
   "execution_count": null,
   "metadata": {},
   "outputs": [],
   "source": [
    "# define 3D plot function\n",
    "def show3D(md, ax=None, xyz=None, xyzi=(0,0,0), ea=(30,-45), clip=1, rcstride=(1,1), clim=None, tl=None):\n",
    "    r'''plot 3D cube image:\n",
    "        md-3-D data volume (3darray, float, (n1,n2,n3))\n",
    "        ax-plot axis (None or a given ax)\n",
    "        xyz-3-D axes coordinates (list, 1darray, (3,))\n",
    "        xyzi-position of three slicing image indices (tuple, int, (3,))\n",
    "        ea-viewing angle (tuple, float, (2,))\n",
    "        clip-image clipping (scalar, float, <1)\n",
    "        rcstride-2-D plotting stride (tuple, int, (2,))\n",
    "        clim-colorbar range (None or tuple, int, (2,)): if it is not None, clip is overwritten'''\n",
    "    \n",
    "    # get default coordinates\n",
    "    nx,ny,nz = md.shape\n",
    "    if xyz is None:\n",
    "        xyz = [np.arange(nx),np.arange(ny),np.arange(nz)]\n",
    "    # slice zero index image along each dimension\n",
    "    mx = md[xyzi[0],:,:].transpose()\n",
    "    my = md[:,xyzi[1],:].transpose()\n",
    "    mz = md[:,:,xyzi[2]].transpose()\n",
    "    MIN = min([np.amin(mx),np.amin(my),np.amin(mz)])\n",
    "    MAX = max([np.amax(mx),np.amax(my),np.amax(mz)])\n",
    "    if clim is None:\n",
    "        cN = pcl.Normalize(vmin=MIN*clip, vmax=MAX*clip)\n",
    "        rg = [MIN*clip,(MAX-MIN)*clip]\n",
    "    else:\n",
    "        cN = pcl.Normalize(vmin=clim[0], vmax=clim[1])\n",
    "        rg = [clim[0],clim[1]-clim[0]]\n",
    "    # plot the model\n",
    "    if ax is None:\n",
    "        fig = plt.figure(figsize=plt.figaspect(0.8))\n",
    "        ax = fig.add_subplot(1,1,1,projection='3d')\n",
    "    else:\n",
    "        fig = None\n",
    "    \n",
    "    # plot the indicator line\n",
    "    xi = xyz[0][xyzi[0]]\n",
    "    yi = xyz[1][xyzi[1]]\n",
    "    zi = xyz[2][xyzi[2]]\n",
    "    ax.plot([xi,xi],[xyz[1][0],xyz[1][0]],[xyz[2][0],xyz[2][-1]],'r-',linewidth=2,zorder=10)\n",
    "    ax.plot([xi,xi],[xyz[1][0],xyz[1][-1]],[xyz[2][0],xyz[2][0]],'r-',linewidth=2,zorder=10)\n",
    "    ax.plot([xyz[0][0],xyz[0][0]],[yi,yi],[xyz[2][0],xyz[2][-1]],'r-',linewidth=2,zorder=10)\n",
    "    ax.plot([xyz[0][0],xyz[0][-1]],[yi,yi],[xyz[2][0],xyz[2][0]],'r-',linewidth=2,zorder=10)\n",
    "    ax.plot([xyz[0][0],xyz[0][-1]],[xyz[1][0],xyz[1][0]],[zi,zi],'r-',linewidth=2,zorder=10)\n",
    "    ax.plot([xyz[0][0],xyz[0][0]],[xyz[1][0],xyz[1][-1]],[zi,zi],'r-',linewidth=2,zorder=10)\n",
    "    \n",
    "    # plot the three surfaces\n",
    "    ax = slice_show(ax, mz, xyz, 0, rg=rg, rcstride=rcstride)\n",
    "    ax = slice_show(ax, mx, xyz, 1, rg=rg, rcstride=rcstride)\n",
    "    ax = slice_show(ax, my, xyz, 2, rg=rg, rcstride=rcstride)\n",
    "    \n",
    "    # set the axes\n",
    "    ax.view_init(elev=ea[0],azim=ea[1])\n",
    "    ax.invert_zaxis()\n",
    "    ax.invert_xaxis()\n",
    "    ax.axis('off')\n",
    "\n",
    "    return fig\n",
    "\n",
    "def slice_show(ax, ms, xyz, od, rg=None, offset=0, rcstride=(10,10)):\n",
    "    r'''show specific slice of model'''\n",
    "    \n",
    "    if rg is None:\n",
    "        shift = np.amin(ms)\n",
    "        normalizer = np.amax(ms)-shift\n",
    "    else:\n",
    "        shift = rg[0]\n",
    "        normalizer = rg[1]\n",
    "    if normalizer == 0:\n",
    "        msN = np.zeros_like(ms)+0.5\n",
    "    else:\n",
    "        msN = (ms-shift)/normalizer\n",
    "    colors = plt.cm.gray(msN)\n",
    "    if od == 0:\n",
    "        [X,Y] = np.meshgrid(xyz[0],xyz[1])\n",
    "        Z = np.zeros_like(X)+xyz[2][0]+offset\n",
    "    if od == 1:\n",
    "        [Y,Z] = np.meshgrid(xyz[1],xyz[2])\n",
    "        X = np.zeros_like(Y)+xyz[0][0]+offset\n",
    "    if od == 2:\n",
    "        [X,Z] = np.meshgrid(xyz[0],xyz[2])\n",
    "        Y = np.zeros_like(X)+xyz[1][0]+offset\n",
    "    surf = ax.plot_surface(X, Y, Z, \n",
    "                           facecolors=colors, rstride=rcstride[0], cstride=rcstride[1], zorder=1)\n",
    "    \n",
    "    return ax"
   ]
  },
  {
   "cell_type": "markdown",
   "metadata": {},
   "source": [
    "### display the original cubes"
   ]
  },
  {
   "cell_type": "code",
   "execution_count": null,
   "metadata": {},
   "outputs": [],
   "source": [
    "path_NNa = f'{analpath}/data/'"
   ]
  },
  {
   "cell_type": "code",
   "execution_count": null,
   "metadata": {},
   "outputs": [],
   "source": [
    "R0t_org = np.fromfile(f'{path_NNa}orgR0t.dat',dtype=np.float32)\n",
    "R0t = np.reshape(R0t_org,(2,2,64,64,64))\n",
    "pred_org = np.fromfile(f'{path_NNa}orgpred.dat',dtype=np.float32)\n",
    "pm = np.reshape(pred_org,(2,64,64,64))"
   ]
  },
  {
   "cell_type": "code",
   "execution_count": null,
   "metadata": {},
   "outputs": [],
   "source": [
    "rm0 = masks[Inl-64:Inl+64:2,Xnl-64:Xnl+64:2,Tsp[0]-128:Tsp[0]+128:4]\n",
    "rm1 = masks[Inl-64:Inl+64:2,Xnl-64:Xnl+64:2,Tsp[1]-128:Tsp[1]+128:4]\n",
    "rm = np.stack((rm0,rm1))"
   ]
  },
  {
   "cell_type": "code",
   "execution_count": null,
   "metadata": {},
   "outputs": [],
   "source": [
    "ixtid = [32,32,32]"
   ]
  },
  {
   "cell_type": "code",
   "execution_count": null,
   "metadata": {
    "scrolled": true
   },
   "outputs": [],
   "source": [
    "for i in range(2):\n",
    "    fig = show3D(R0t[i,0],xyzi=ixtid)\n",
    "    plt.show()\n",
    "    fig.savefig(f'{outpath}/figD1-2_R0_{i}.png',dpi=300)\n",
    "    fig = show3D(R0t[i,1],xyzi=ixtid)\n",
    "    plt.show()\n",
    "    fig.savefig(f'{outpath}/figD1-2_Rt_{i}.png',dpi=300)\n",
    "    fig = show3D(rm[i],xyzi=ixtid,clim=[0,1])\n",
    "    plt.show()\n",
    "    fig.savefig(f'{outpath}/figD1-2_rm_{i}.png',dpi=300)\n",
    "    fig = show3D(pm[i],xyzi=ixtid,clim=[0,1])\n",
    "    plt.show()\n",
    "    fig.savefig(f'{outpath}/figD1-2_pm_{i}.png',dpi=300)"
   ]
  },
  {
   "cell_type": "markdown",
   "metadata": {},
   "source": [
    "### display the modified cubes"
   ]
  },
  {
   "cell_type": "code",
   "execution_count": null,
   "metadata": {},
   "outputs": [],
   "source": [
    "path_NNa0 = f'{analpath}/data_s0/'"
   ]
  },
  {
   "cell_type": "code",
   "execution_count": null,
   "metadata": {},
   "outputs": [],
   "source": [
    "s = np.fromfile(f'{path_NNa0}scale.dat',dtype=np.float32)\n",
    "s = np.reshape(s,(64,64,64))\n",
    "R0t_test = np.fromfile(f'{path_NNa0}testR0t.dat',dtype=np.float32)\n",
    "R0t = np.reshape(R0t_test,(2,2,64,64,64))\n",
    "pred_test = np.fromfile(f'{path_NNa0}testpred.dat',dtype=np.float32)\n",
    "pm = np.reshape(pred_test,(2,64,64,64))"
   ]
  },
  {
   "cell_type": "code",
   "execution_count": null,
   "metadata": {},
   "outputs": [],
   "source": [
    "for i in range(2):\n",
    "    if i == 0:\n",
    "        fig = show3D(R0t[i,0],xyzi=ixtid)\n",
    "        plt.show()\n",
    "        fig.savefig(f'{outpath}/figD1-3_R0.png',dpi=300)\n",
    "        fig = show3D(s,xyzi=ixtid)\n",
    "        plt.show()\n",
    "        fig.savefig(f'{outpath}/figD1-3_s.png',dpi=300)\n",
    "    fig = show3D(R0t[i,1],xyzi=ixtid)\n",
    "    plt.show()\n",
    "    fig.savefig(f'{outpath}/figD1-3_Rt_{i}.png',dpi=300)\n",
    "    fig = show3D(pm[i],xyzi=ixtid,clim=[0,1])\n",
    "    plt.show()\n",
    "    fig.savefig(f'{outpath}/figD1-3_pm_{i}.png',dpi=300)"
   ]
  },
  {
   "cell_type": "markdown",
   "metadata": {},
   "source": [
    "# Discussion: 2D vs 3D with sparse labels (3D part)"
   ]
  },
  {
   "cell_type": "markdown",
   "metadata": {},
   "source": [
    "## Readin data and reference masks in 3D"
   ]
  },
  {
   "cell_type": "code",
   "execution_count": null,
   "metadata": {},
   "outputs": [],
   "source": [
    "# readin reference dataset information\n",
    "xydfn = f'{dir_co2}/10p10/2010 processing/data/10p10nea.sgy'\n",
    "Dr = dataload(fn=xydfn)\n",
    "dt,xd,yd,td = Dr.getdata()\n",
    "DD = (Dr.nx,Dr.ny,Dr.nt)"
   ]
  },
  {
   "cell_type": "code",
   "execution_count": null,
   "metadata": {},
   "outputs": [],
   "source": [
    "path_mask = f'../resources/label/masks.dat'\n",
    "# readin CO2 mask\n",
    "masks = np.fromfile(f'{path_mask}',dtype=np.float32)\n",
    "masks = np.reshape(masks,tuple(DD))\n",
    "path_pred = testpath"
   ]
  },
  {
   "cell_type": "code",
   "execution_count": null,
   "metadata": {},
   "outputs": [],
   "source": [
    "xa = xd[:,0]-np.amin(xd[:,0])\n",
    "ya = yd[0,:]-np.amin(yd[0,:])\n",
    "ta = td"
   ]
  },
  {
   "cell_type": "markdown",
   "metadata": {},
   "source": [
    "## Display the interpreted slices (find the matlab code)"
   ]
  },
  {
   "cell_type": "markdown",
   "metadata": {},
   "source": [
    "## display 3D training patch samples in Figure D2-4"
   ]
  },
  {
   "cell_type": "markdown",
   "metadata": {},
   "source": [
    "### define sparse 3D and full 3D plotting functions respectively"
   ]
  },
  {
   "cell_type": "code",
   "execution_count": null,
   "metadata": {},
   "outputs": [],
   "source": [
    "def patch3D(mask,weight,idxy=None,rcstride=[1,1],ea=[30,-45],rg=[0,1],alpha0=0.5):\n",
    "    r'''\n",
    "    display the sparese 2D labels in their position for a label cube\n",
    "        mask--3d numpy array (rs)\n",
    "        weight--3d numpy array (rs)\n",
    "    '''\n",
    "    rs = mask.shape\n",
    "    xa = np.arange(rs[0])\n",
    "    ya = np.arange(rs[1])\n",
    "    ta = np.arange(rs[2])\n",
    "    \n",
    "    ix = np.sum(weight,axis=(1,2))\n",
    "    ix = np.squeeze(np.argwhere(np.amax(ix)==ix))\n",
    "    iy = np.sum(weight,axis=(0,2))\n",
    "    iy = np.squeeze(np.argwhere(np.amax(iy)==iy))\n",
    "    \n",
    "    fig = plt.figure(figsize=plt.figaspect(0.8))\n",
    "    ax = fig.add_subplot(1,1,1,projection='3d')\n",
    "    [Y,Z] = np.meshgrid(ya,ta)\n",
    "    for k,i in enumerate(ix):\n",
    "        ms = mask[i,:,:].T\n",
    "        if rg is None:\n",
    "            shift = np.amin(ms)\n",
    "            normalizer = np.amax(ms)-shift\n",
    "        else:\n",
    "            shift = rg[0]\n",
    "            normalizer = rg[1]\n",
    "        if normalizer == 0:\n",
    "            msN = np.zeros_like(ms)+0.5\n",
    "        else:\n",
    "            msN = (ms-shift)/normalizer\n",
    "        colors = plt.cm.gray(msN)\n",
    "        X = np.zeros_like(Y)+xa[i]\n",
    "        if idxy != None:\n",
    "            if idxy[0] == i:\n",
    "                alpha = alpha0\n",
    "            else:\n",
    "                alpha = alpha0*0.5\n",
    "        else:\n",
    "            alpha = alpha0\n",
    "        surf = ax.plot_surface(X, Y, Z, \n",
    "                               facecolors=colors, alpha=alpha, \n",
    "                               rstride=rcstride[0], cstride=rcstride[1], \n",
    "                               zorder=1, linewidth=0, antialiased=True)\n",
    "    [X,Z] = np.meshgrid(xa,ta)\n",
    "    for k,i in enumerate(iy):\n",
    "        ms = mask[:,i,:].T\n",
    "        if rg is None:\n",
    "            shift = np.amin(ms)\n",
    "            normalizer = np.amax(ms)-shift\n",
    "        else:\n",
    "            shift = rg[0]\n",
    "            normalizer = rg[1]\n",
    "        if normalizer == 0:\n",
    "            msN = np.zeros_like(ms)+0.5\n",
    "        else:\n",
    "            msN = (ms-shift)/normalizer\n",
    "        colors = plt.cm.gray(msN)\n",
    "        Y = np.zeros_like(X)+ya[i]\n",
    "        if idxy != None:\n",
    "            if idxy[1] == i:\n",
    "                alpha = alpha0\n",
    "            else:\n",
    "                alpha = alpha0*0.5\n",
    "        else:\n",
    "            alpha = alpha0\n",
    "        surf = ax.plot_surface(X, Y, Z,\n",
    "                               facecolors=colors, alpha=alpha, \n",
    "                               rstride=rcstride[0], cstride=rcstride[1], \n",
    "                               zorder=1, linewidth=0, antialiased=True)\n",
    "    # set the axes\n",
    "    ax.view_init(elev=ea[0],azim=ea[1])\n",
    "    ax.invert_zaxis()\n",
    "    ax.invert_xaxis()\n",
    "    ax.axis('off')\n",
    "    \n",
    "    return ix[-1],iy[0],fig"
   ]
  },
  {
   "cell_type": "code",
   "execution_count": null,
   "metadata": {},
   "outputs": [],
   "source": [
    "# define 3D plot function\n",
    "def show3D(md, ax=None, xyz=None, xyzi=(0,0,0), ea=(30,-45), clip=1, rcstride=(1,1), clim=None, tl=None):\n",
    "    r'''plot 3D cube image:\n",
    "        md-3-D data volume (3darray, float, (n1,n2,n3))\n",
    "        ax-plot axis (None or a given ax)\n",
    "        xyz-3-D axes coordinates (list, 1darray, (3,))\n",
    "        xyzi-position of three slicing image indices (tuple, int, (3,))\n",
    "        ea-viewing angle (tuple, float, (2,))\n",
    "        clip-image clipping (scalar, float, <1)\n",
    "        rcstride-2-D plotting stride (tuple, int, (2,))\n",
    "        clim-colorbar range (None or tuple, int, (2,)): if it is not None, clip is overwritten'''\n",
    "    \n",
    "    # get default coordinates\n",
    "    nx,ny,nz = md.shape\n",
    "    if xyz is None:\n",
    "        xyz = [np.arange(nx),np.arange(ny),np.arange(nz)]\n",
    "    # slice zero index image along each dimension\n",
    "    mx = md[xyzi[0],:,:].transpose()\n",
    "    my = md[:,xyzi[1],:].transpose()\n",
    "    mz = md[:,:,xyzi[2]].transpose()\n",
    "    MIN = min([np.amin(mx),np.amin(my),np.amin(mz)])\n",
    "    MAX = max([np.amax(mx),np.amax(my),np.amax(mz)])\n",
    "    if clim is None:\n",
    "        cN = pcl.Normalize(vmin=MIN*clip, vmax=MAX*clip)\n",
    "        rg = [MIN*clip,(MAX-MIN)*clip]\n",
    "    else:\n",
    "        cN = pcl.Normalize(vmin=clim[0], vmax=clim[1])\n",
    "        rg = [clim[0],clim[1]-clim[0]]\n",
    "    # plot the model\n",
    "    if ax is None:\n",
    "        fig = plt.figure(figsize=plt.figaspect(0.8))\n",
    "        ax = fig.add_subplot(1,1,1,projection='3d')\n",
    "    else:\n",
    "        fig = None\n",
    "    \n",
    "    # plot the indicator line\n",
    "    xi = xyz[0][xyzi[0]]\n",
    "    yi = xyz[1][xyzi[1]]\n",
    "    zi = xyz[2][xyzi[2]]\n",
    "    ax.plot([xi,xi],[xyz[1][0],xyz[1][0]],[xyz[2][0],xyz[2][-1]],'r-',linewidth=2,zorder=10)\n",
    "    ax.plot([xi,xi],[xyz[1][0],xyz[1][-1]],[xyz[2][0],xyz[2][0]],'r-',linewidth=2,zorder=10)\n",
    "    ax.plot([xyz[0][0],xyz[0][0]],[yi,yi],[xyz[2][0],xyz[2][-1]],'r-',linewidth=2,zorder=10)\n",
    "    ax.plot([xyz[0][0],xyz[0][-1]],[yi,yi],[xyz[2][0],xyz[2][0]],'r-',linewidth=2,zorder=10)\n",
    "    ax.plot([xyz[0][0],xyz[0][-1]],[xyz[1][0],xyz[1][0]],[zi,zi],'r-',linewidth=2,zorder=10)\n",
    "    ax.plot([xyz[0][0],xyz[0][0]],[xyz[1][0],xyz[1][-1]],[zi,zi],'r-',linewidth=2,zorder=10)\n",
    "    \n",
    "    # plot the three surfaces\n",
    "    ax = slice_show(ax, mz, xyz, 0, rg=rg, rcstride=rcstride)\n",
    "    ax = slice_show(ax, mx, xyz, 1, rg=rg, rcstride=rcstride)\n",
    "    ax = slice_show(ax, my, xyz, 2, rg=rg, rcstride=rcstride)\n",
    "    \n",
    "    # set the axes\n",
    "    ax.view_init(elev=ea[0],azim=ea[1])\n",
    "    ax.invert_zaxis()\n",
    "    ax.invert_xaxis()\n",
    "    ax.axis('off')\n",
    "\n",
    "    return fig\n",
    "\n",
    "def slice_show(ax, ms, xyz, od, rg=None, offset=0, rcstride=(10,10)):\n",
    "    r'''show specific slice of model'''\n",
    "    \n",
    "    if rg is None:\n",
    "        shift = np.amin(ms)\n",
    "        normalizer = np.amax(ms)-shift\n",
    "    else:\n",
    "        shift = rg[0]\n",
    "        normalizer = rg[1]\n",
    "    if normalizer == 0:\n",
    "        msN = np.zeros_like(ms)+0.5\n",
    "    else:\n",
    "        msN = (ms-shift)/normalizer\n",
    "    colors = plt.cm.gray(msN)\n",
    "    if od == 0:\n",
    "        [X,Y] = np.meshgrid(xyz[0],xyz[1])\n",
    "        Z = np.zeros_like(X)+xyz[2][0]+offset\n",
    "    if od == 1:\n",
    "        [Y,Z] = np.meshgrid(xyz[1],xyz[2])\n",
    "        X = np.zeros_like(Y)+xyz[0][0]+offset\n",
    "    if od == 2:\n",
    "        [X,Z] = np.meshgrid(xyz[0],xyz[2])\n",
    "        Y = np.zeros_like(X)+xyz[1][0]+offset\n",
    "    surf = ax.plot_surface(X, Y, Z, \n",
    "                           facecolors=colors, rstride=rcstride[0], cstride=rcstride[1], zorder=1)\n",
    "    \n",
    "    return ax"
   ]
  },
  {
   "cell_type": "markdown",
   "metadata": {},
   "source": [
    "### load the training dataset and trained network"
   ]
  },
  {
   "cell_type": "code",
   "execution_count": null,
   "metadata": {},
   "outputs": [],
   "source": [
    "# dataset information file names\n",
    "pmf = 'pm_info.json'\n",
    "pdf = 'patch_info'\n",
    "pdfap = '.csv'\n",
    "# load training dataset\n",
    "root = train_sparselabel\n",
    "train = dataset_patch(root,pmf,f'{pdf}_train{pdfap}',sliceitp=True)\n",
    "Ntrain = len(train)"
   ]
  },
  {
   "cell_type": "code",
   "execution_count": null,
   "metadata": {},
   "outputs": [],
   "source": [
    "train_id = [214,1357]\n",
    "rs = (64,64,64)"
   ]
  },
  {
   "cell_type": "code",
   "execution_count": null,
   "metadata": {},
   "outputs": [],
   "source": [
    "# network path\n",
    "path_bestnet = f'../resources/NNpred3D/train_sparselabel/co2_identify_best_sps.pt'\n",
    "# load the network\n",
    "networktest = CO2mask()\n",
    "networktest.load_state_dict(torch.load(path_bestnet,map_location=torch.device('cpu')))\n",
    "networktest = networktest.eval()"
   ]
  },
  {
   "cell_type": "code",
   "execution_count": null,
   "metadata": {},
   "outputs": [],
   "source": [
    "print(train_id)\n",
    "pst = patch_show(train,train_id)\n",
    "pst.ixtid = [[28, 44, 41], [28, 0, 63]]\n",
    "pst.view3d(rcstride=(2,2))"
   ]
  },
  {
   "cell_type": "code",
   "execution_count": null,
   "metadata": {},
   "outputs": [],
   "source": [
    "pst.ixtid"
   ]
  },
  {
   "cell_type": "markdown",
   "metadata": {},
   "source": [
    "### get the sampled patch and make predictions"
   ]
  },
  {
   "cell_type": "code",
   "execution_count": null,
   "metadata": {},
   "outputs": [],
   "source": [
    "R0 = []\n",
    "Rt = []\n",
    "M = []\n",
    "Mp = []\n",
    "W = []\n",
    "iz = []\n",
    "for i in range(len(train_id)):\n",
    "    R0t,m,w,_ = train.__getitem__(train_id[i])\n",
    "    mp = networktest(R0t.unsqueeze(0))\n",
    "    Mp.append(mp[0,0].detach().numpy())\n",
    "    R0.append(R0t[0].numpy())\n",
    "    Rt.append(R0t[1].numpy())\n",
    "    M.append(m[0].numpy())\n",
    "    W.append(w[0].numpy())"
   ]
  },
  {
   "cell_type": "code",
   "execution_count": null,
   "metadata": {
    "scrolled": false
   },
   "outputs": [],
   "source": [
    "for i in range(len(train_id)):\n",
    "    # print label\n",
    "    ix0,iy0,fig = patch3D(M[i],W[i])\n",
    "    plt.show()\n",
    "    fig.savefig(f'{outpath}/figD2-4_sps_train_label_{i}.png',dpi=300)\n",
    "    # print pred\n",
    "    fig = show3D(Mp[i],xyzi=pst.ixtid[i])\n",
    "    plt.show()\n",
    "    fig.savefig(f'{outpath}/figD2-4_sps_train_pred_{i}.png',dpi=300)\n",
    "    # print R0\n",
    "    fig = show3D(R0[i],xyzi=pst.ixtid[i])\n",
    "    plt.show()\n",
    "    fig.savefig(f'{outpath}/figD2-4_sps_train_R0_{i}.png',dpi=300)\n",
    "    # print Rt\n",
    "    fig = show3D(Rt[i],xyzi=pst.ixtid[i])\n",
    "    plt.show()\n",
    "    fig.savefig(f'{outpath}/figD2-4_sps_train_Rt_{i}.png',dpi=300)"
   ]
  },
  {
   "cell_type": "markdown",
   "metadata": {},
   "source": [
    "## display test results"
   ]
  },
  {
   "cell_type": "markdown",
   "metadata": {},
   "source": [
    "### define the 3D ploting function"
   ]
  },
  {
   "cell_type": "code",
   "execution_count": null,
   "metadata": {},
   "outputs": [],
   "source": [
    "# define 3D plot function\n",
    "def show3D(md, ax=None, xyz=None, xyzi=(0,0,0), ea=(30,-25), clip=1, rcstride=(1,1), clim=None, tl=None):\n",
    "    r'''plot 3D cube image:\n",
    "        md-3-D data volume (3darray, float, (n1,n2,n3))\n",
    "        ax-plot axis (None or a given ax)\n",
    "        xyz-3-D axes coordinates (list, 1darray, (3,))\n",
    "        xyzi-position of three slicing image indices (tuple, int, (3,))\n",
    "        ea-viewing angle (tuple, float, (2,))\n",
    "        clip-image clipping (scalar, float, <1)\n",
    "        rcstride-2-D plotting stride (tuple, int, (2,))\n",
    "        clim-colorbar range (None or tuple, int, (2,)): if it is not None, clip is overwritten'''\n",
    "    \n",
    "    # get default coordinates\n",
    "    nx,ny,nz = md.shape\n",
    "    if xyz is None:\n",
    "        xyz = [np.arange(nx),np.arange(ny),np.arange(nz)]\n",
    "    # slice zero index image along each dimension\n",
    "    mx = md[xyzi[0],:,:].transpose()\n",
    "    my = md[:,xyzi[1],:].transpose()\n",
    "    mz = md[:,:,xyzi[2]].transpose()\n",
    "    MIN = min([np.amin(mx),np.amin(my),np.amin(mz)])\n",
    "    MAX = max([np.amax(mx),np.amax(my),np.amax(mz)])\n",
    "    if clim is None:\n",
    "        cN = pcl.Normalize(vmin=MIN*clip, vmax=MAX*clip)\n",
    "        rg = [MIN*clip,(MAX-MIN)*clip]\n",
    "    else:\n",
    "        cN = pcl.Normalize(vmin=clim[0], vmax=clim[1])\n",
    "        rg = [clim[0],clim[1]-clim[0]]\n",
    "    # plot the model\n",
    "    if ax is None:\n",
    "        fig = plt.figure(figsize=(15,10))\n",
    "        ax = fig.add_subplot(1,1,1,projection='3d')\n",
    "    else:\n",
    "        fig = None\n",
    "    \n",
    "    # plot the indicator line\n",
    "    xi = xyz[0][xyzi[0]]\n",
    "    yi = xyz[1][xyzi[1]]\n",
    "    zi = xyz[2][xyzi[2]]\n",
    "    ax.plot([xi,xi],[xyz[1][0],xyz[1][0]],[xyz[2][0],xyz[2][-1]],'r-',linewidth=2,zorder=10)\n",
    "    ax.plot([xi,xi],[xyz[1][0],xyz[1][-1]],[xyz[2][0],xyz[2][0]],'r-',linewidth=2,zorder=10)\n",
    "    ax.plot([xyz[0][0],xyz[0][0]],[yi,yi],[xyz[2][0],xyz[2][-1]],'r-',linewidth=2,zorder=10)\n",
    "    ax.plot([xyz[0][0],xyz[0][-1]],[yi,yi],[xyz[2][0],xyz[2][0]],'r-',linewidth=2,zorder=10)\n",
    "    ax.plot([xyz[0][0],xyz[0][-1]],[xyz[1][0],xyz[1][0]],[zi,zi],'r-',linewidth=2,zorder=10)\n",
    "    ax.plot([xyz[0][0],xyz[0][0]],[xyz[1][0],xyz[1][-1]],[zi,zi],'r-',linewidth=2,zorder=10)\n",
    "    \n",
    "    # plot the three surfaces\n",
    "    ax = slice_show(ax, mz, xyz, 0, rg=rg, rcstride=rcstride)\n",
    "    ax = slice_show(ax, mx, xyz, 1, rg=rg, rcstride=rcstride)\n",
    "    ax = slice_show(ax, my, xyz, 2, rg=rg, rcstride=rcstride)\n",
    "    \n",
    "    # set the axes\n",
    "    ax.set_xticks(np.linspace(0,4000,3))\n",
    "    ax.set_yticks(np.linspace(0,8000,5))\n",
    "    ax.set_zticks(np.linspace(0,2,5))\n",
    "    for tick in ax.xaxis.get_major_ticks():\n",
    "        tick.label.set_fontsize(15)\n",
    "    for tick in ax.yaxis.get_major_ticks():\n",
    "        tick.label.set_fontsize(15) \n",
    "    for tick in ax.zaxis.get_major_ticks():\n",
    "        tick.label.set_fontsize(15) \n",
    "    if tl is not None:\n",
    "        ax.set_title(tl,fontsize=15)\n",
    "    ax.view_init(elev=ea[0],azim=ea[1])\n",
    "    ax.invert_zaxis()\n",
    "    ax.invert_xaxis()\n",
    "    ax.set_xlabel('Inline (m)',fontsize=20,labelpad=20)\n",
    "    ax.set_ylabel('Xline (m)',fontsize=20,labelpad=20)\n",
    "    ax.set_zlabel('T (s)',fontsize=20,labelpad=10)\n",
    "    r'''\n",
    "    if cb:\n",
    "        plt.colorbar(cm.ScalarMappable(norm=cN, cmap='gray'))\n",
    "    plt.show()\n",
    "    '''\n",
    "    return fig\n",
    "\n",
    "def slice_show(ax, ms, xyz, od, rg=None, offset=0, rcstride=(10,10)):\n",
    "    r'''show specific slice of model'''\n",
    "    \n",
    "    if rg is None:\n",
    "        shift = np.amin(ms)\n",
    "        normalizer = np.amax(ms)-shift\n",
    "    else:\n",
    "        shift = rg[0]\n",
    "        normalizer = rg[1]\n",
    "    if normalizer == 0:\n",
    "        msN = np.zeros_like(ms)+0.5\n",
    "    else:\n",
    "        msN = (ms-shift)/normalizer\n",
    "    colors = plt.cm.gray(msN)\n",
    "    if od == 0:\n",
    "        [X,Y] = np.meshgrid(xyz[0],xyz[1])\n",
    "        Z = np.zeros_like(X)+xyz[2][0]+offset\n",
    "    if od == 1:\n",
    "        [Y,Z] = np.meshgrid(xyz[1],xyz[2])\n",
    "        X = np.zeros_like(Y)+xyz[0][0]+offset\n",
    "    if od == 2:\n",
    "        [X,Z] = np.meshgrid(xyz[0],xyz[2])\n",
    "        Y = np.zeros_like(X)+xyz[1][0]+offset\n",
    "    surf = ax.plot_surface(X, Y, Z, \n",
    "                           facecolors=colors, rstride=rcstride[0], cstride=rcstride[1], zorder=1)\n",
    "    \n",
    "    return ax"
   ]
  },
  {
   "cell_type": "code",
   "execution_count": null,
   "metadata": {},
   "outputs": [],
   "source": [
    "# generate X,Y and Z\n",
    "xm = np.amin(xd)\n",
    "ym = np.amin(yd)\n",
    "x = xd[:,0]-xm\n",
    "y = yd[0,:]-ym\n",
    "z = td\n",
    "xyz = [x,y,z]"
   ]
  },
  {
   "cell_type": "markdown",
   "metadata": {},
   "source": [
    "### plot 3D results"
   ]
  },
  {
   "cell_type": "code",
   "execution_count": null,
   "metadata": {},
   "outputs": [],
   "source": [
    "# two tests\n",
    "year = ['2010_b01_t10','2004_b01_t07']\n",
    "nyear = len(year)\n",
    "Mask = []\n",
    "for i in range(nyear):\n",
    "    mask= np.fromfile(f'{path_pred}/{year[i]}/test/tsMask_sps.dat',dtype=np.float32)\n",
    "    mask = np.reshape(mask,DD)\n",
    "    Mask.append(mask)\n",
    "    fig = show3D(mask,xyz=xyz,xyzi=(DD[0]//2,DD[1]//2,DD[2]//2),clim=[0,1])\n",
    "    fig.savefig(f'{outpath}/figD2-5_mask_pred_{year[i]}.png',dpi=300)"
   ]
  },
  {
   "cell_type": "markdown",
   "metadata": {},
   "source": [
    "### plot 2D layer results"
   ]
  },
  {
   "cell_type": "code",
   "execution_count": null,
   "metadata": {},
   "outputs": [],
   "source": [
    "N = 9 # number of CO2 layers\n",
    "lyidx = [0]\n",
    "nfn = nyear"
   ]
  },
  {
   "cell_type": "code",
   "execution_count": null,
   "metadata": {},
   "outputs": [],
   "source": [
    "# load the T_top and T_base\n",
    "T_top = np.fromfile(f'../resources/label/T_top.dat',dtype=np.float64)\n",
    "T_base = np.fromfile(f'../resources/label/T_base.dat',dtype=np.float64)\n",
    "T_top = np.reshape(T_top,(N,DD[0],DD[1]))\n",
    "T_base = np.reshape(T_base,(N,DD[0],DD[1]))"
   ]
  },
  {
   "cell_type": "code",
   "execution_count": null,
   "metadata": {},
   "outputs": [],
   "source": [
    "# derive certain layer of predictions\n",
    "lmp = np.zeros((nfn,len(lyidx),DD[0],DD[1]),dtype=np.float32)\n",
    "for i,j in product(range(DD[0]),range(DD[1])):\n",
    "    for c,k in enumerate(lyidx):\n",
    "        Ttk = T_top[N-k-1,i,j]\n",
    "        Tbk = T_base[N-k-1,i,j]\n",
    "        mk = (td>=Ttk) * (td<=Tbk)\n",
    "        if np.sum(mk) == 0:\n",
    "            continue\n",
    "        for n in range(nfn):\n",
    "            lmp[n,c,i,j] = np.mean(Mask[n][i,j,mk])    "
   ]
  },
  {
   "cell_type": "code",
   "execution_count": null,
   "metadata": {},
   "outputs": [],
   "source": [
    "for i in range(nfn):   \n",
    "    for j in range(len(lyidx)):                                                             \n",
    "        print(f'plot the pred CO2 plume from test dataset {year[i]}:')\n",
    "        fig,ax = plt.subplots(1,1,figsize=(4,8))\n",
    "        ax.imshow(lmp[i,j].T,aspect=0.8,cmap='seismic',vmin=0,vmax=1,\n",
    "                  extent=(xa[0],xa[-1],ya[0],ya[-1]))\n",
    "        ax.set_ylabel('Xline (m)', fontsize=20)\n",
    "        ax.set_xlabel('Inline (m)', fontsize=20)\n",
    "        ytick = np.linspace(0,7000,5,dtype=np.int16) \n",
    "        xtick = np.linspace(0,xa[-1],3,dtype=np.int16)\n",
    "        ax.set_xticks(xtick[1:])\n",
    "        ax.set_xticklabels([f'{k}' for k in xtick[1:]],fontsize=15)\n",
    "        ax.set_yticks(ytick)\n",
    "        ax.set_yticklabels([f'{k}' for k in ytick],fontsize=15)\n",
    "        for axis in ['top','bottom','left','right']:\n",
    "            ax.spines[axis].set_linewidth(2)\n",
    "        BB = ax.get_position()\n",
    "        BB.y0 = 0\n",
    "        BB.x0 = -0.5\n",
    "        BB.y1 = 8\n",
    "        BB.x1 = 4\n",
    "        fig.savefig(f'{outpath}/figD2-6_mask_pred_{year[i]}_{lyidx[j]}.png',dpi=300,bbox_inches=BB)"
   ]
  }
 ],
 "metadata": {
  "kernelspec": {
   "display_name": "Python 3",
   "language": "python",
   "name": "python3"
  },
  "language_info": {
   "codemirror_mode": {
    "name": "ipython",
    "version": 3
   },
   "file_extension": ".py",
   "mimetype": "text/x-python",
   "name": "python",
   "nbconvert_exporter": "python",
   "pygments_lexer": "ipython3",
   "version": "3.7.4"
  },
  "toc": {
   "base_numbering": 1,
   "nav_menu": {},
   "number_sections": true,
   "sideBar": true,
   "skip_h1_title": false,
   "title_cell": "Table of Contents",
   "title_sidebar": "Contents",
   "toc_cell": false,
   "toc_position": {
    "height": "calc(100% - 180px)",
    "left": "10px",
    "top": "150px",
    "width": "256px"
   },
   "toc_section_display": true,
   "toc_window_display": true
  },
  "varInspector": {
   "cols": {
    "lenName": 16,
    "lenType": 16,
    "lenVar": 40
   },
   "kernels_config": {
    "python": {
     "delete_cmd_postfix": "",
     "delete_cmd_prefix": "del ",
     "library": "var_list.py",
     "varRefreshCmd": "print(var_dic_list())"
    },
    "r": {
     "delete_cmd_postfix": ") ",
     "delete_cmd_prefix": "rm(",
     "library": "var_list.r",
     "varRefreshCmd": "cat(var_dic_list()) "
    }
   },
   "types_to_exclude": [
    "module",
    "function",
    "builtin_function_or_method",
    "instance",
    "_Feature"
   ],
   "window_display": false
  }
 },
 "nbformat": 4,
 "nbformat_minor": 2
}
